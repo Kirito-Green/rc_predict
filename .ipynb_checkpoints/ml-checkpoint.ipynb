{
 "cells": [
  {
   "cell_type": "code",
   "execution_count": 2,
   "id": "fcbf9af3-b562-46b5-9c58-e09b93586804",
   "metadata": {},
   "outputs": [],
   "source": [
    "import os\n",
    "import numpy as np\n",
    "import matplotlib.pyplot as plt\n",
    "from config import *\n"
   ]
  },
  {
   "cell_type": "code",
   "execution_count": 3,
   "id": "1ed930a7-c76c-471e-88c1-378cfe0269ae",
   "metadata": {},
   "outputs": [],
   "source": [
    "# config\n",
    "pattern_num = 4\n",
    "random_state = 42\n",
    "\n"
   ]
  },
  {
   "cell_type": "code",
   "execution_count": 39,
   "id": "823851f3-62b4-44c8-bcdf-cbb46a45f392",
   "metadata": {},
   "outputs": [
    {
     "ename": "IndentationError",
     "evalue": "unindent does not match any outer indentation level (<tokenize>, line 5)",
     "output_type": "error",
     "traceback": [
      "\u001b[1;36m  File \u001b[1;32m\"<tokenize>\"\u001b[1;36m, line \u001b[1;32m5\u001b[0m\n\u001b[1;33m    reserve_num = 1000\u001b[0m\n\u001b[1;37m    ^\u001b[0m\n\u001b[1;31mIndentationError\u001b[0m\u001b[1;31m:\u001b[0m unindent does not match any outer indentation level\n"
     ]
    }
   ],
   "source": [
    "# load data\n",
    "def data_process(x, percentage):  # reserve percentage\n",
    "\tnums = [len(i) for i in x]\n",
    "\t# reserve_num = round(max(nums) * percentage)\n",
    "    reserve_num = 1000\n",
    "\tnew_x = np.zeros(shape=(len(x), reserve_num, 5), dtype=np.float32)\n",
    "\tfor i in range(len(x)):\n",
    "\t\tnum = min(len(x[i]), reserve_num)\n",
    "\t\tnew_x[i][0:num] = x[i][0:num]\n",
    "\n",
    "\treturn new_x\n",
    "\n",
    "dir_prj = \"D:/learn_more_from_life/computer/EDA/work/prj/rc_predict/\"\n",
    "dir_load = os.path.join(dir_prj, \"data/convert_data/pattern{}\".format(pattern_num))\n",
    "x_total_ = np.load(os.path.join(dir_load, \"x_total.npy\"), allow_pickle=True)\n",
    "x_total = data_process(x_total_, percentage)\n",
    "x_couple_ = np.load(os.path.join(dir_load, \"x_couple.npy\"), allow_pickle=True)\n",
    "x_couple = data_process(x_couple_, percentage)\n",
    "y_total = np.load(os.path.join(dir_load, \"y_total.npy\"))\n",
    "y_couple = np.load(os.path.join(dir_load, \"y_couple.npy\"))\n",
    "print(x.shape)\n",
    "print(x[0])\n",
    "print(y.shape)\n",
    "print(y[:10])"
   ]
  },
  {
   "cell_type": "code",
   "execution_count": 4,
   "id": "5c1cc341-33f3-46c1-a418-1b2e1dd89ebb",
   "metadata": {},
   "outputs": [
    {
     "name": "stdout",
     "output_type": "stream",
     "text": [
      "384 128 128\n"
     ]
    }
   ],
   "source": [
    "# data split 6:2:2\n",
    "from sklearn.model_selection import train_test_split\n",
    "\n",
    "x_train, x_valid_test, y_train, y_valid_test = train_test_split(x, y, test_size=0.4, random_state=random_state, shuffle=True)\n",
    "x_valid, x_test, y_valid, y_test = train_test_split(x_valid_test, y_valid_test, test_size=0.5, random_state=random_state, shuffle=True)\n",
    "print(len(x_train), len(x_valid), len(x_test))\n"
   ]
  },
  {
   "cell_type": "code",
   "execution_count": 9,
   "id": "dbd6599b-a9a5-47fe-96c8-fe0b3defa62b",
   "metadata": {},
   "outputs": [
    {
     "name": "stdout",
     "output_type": "stream",
     "text": [
      "[[-0.8627947   0.         -0.09093133  0.86934954  0.86934954]\n",
      " [-0.8609868   0.         -0.09093133  0.86934954  0.86934954]\n",
      " [-0.8662884   0.          2.4244719   0.86934954  0.86934954]\n",
      " ...\n",
      " [-0.8627947   0.         -1.0056236  -1.1502852  -1.1502852 ]\n",
      " [-0.8627947   0.         -1.0056236  -1.1502852  -1.1502852 ]\n",
      " [-0.8627947   0.         -1.0056236  -1.1502852  -1.1502852 ]]\n"
     ]
    }
   ],
   "source": [
    "# data preprocessing\n",
    "from sklearn.preprocessing import StandardScaler\n",
    "\n",
    "scaler_x = StandardScaler()\n",
    "scaler_x.fit(x_train.reshape(-1, 5))\n",
    "std_x_train = scaler_x.transform(x_train.reshape(-1, 5)).reshape(-1, num, 5)\n",
    "std_x_valid = scaler_x.transform(x_valid.reshape(-1, 5)).reshape(-1, num, 5)\n",
    "std_x_test = scaler_x.transform(x_test.reshape(-1, 5)).reshape(-1, num, 5)\n",
    "\n",
    "scaler_y = StandardScaler()\n",
    "scaler_y.fit(y_train.reshape(-1, 1))\n",
    "std_y_train = scaler_y.transform(y_train.reshape(-1, 1))\n",
    "\n",
    "print(std_x_train[0])\n",
    "\n",
    "# min max processing\n",
    "from sklearn.preprocessing import MinMaxScaler\n",
    "\n",
    "scaler_x = MinMaxScaler(feature_range=(0, 1))\n",
    "scaler_x.fit(x_train.reshape(-1, 5))\n",
    "mmc_x_train = scaler_x.transform(x_train.reshape(-1, 5)).reshape(-1, num, 5)\n",
    "mmc_x_valid = scaler_x.transform(x_valid.reshape(-1, 5)).reshape(-1, num, 5)\n",
    "mmc_x_test = scaler_x.transform(x_test.reshape(-1, 5)).reshape(-1, num, 5)\n",
    "print(mmc_x_train[0])\n",
    "\n",
    "scaler_y = MinMaxScaler(feature_range=(0, 1))\n",
    "scaler_y.fit(y_train.reshape(-1, 1))\n",
    "mmc_y_train = scaler_y.transform(y_train.reshape(-1, 1))\n",
    "print(mmc_y_train[:10])"
   ]
  },
  {
   "cell_type": "code",
   "execution_count": 10,
   "id": "d71f08ea-6867-4e26-8bc0-b751a95df67e",
   "metadata": {},
   "outputs": [
    {
     "name": "stdout",
     "output_type": "stream",
     "text": [
      "[[1.5721595e-03 0.0000000e+00 2.6666671e-01 1.0000000e+00 9.9999994e-01]\n",
      " [2.1650502e-03 0.0000000e+00 2.6666671e-01 1.0000000e+00 9.9999994e-01]\n",
      " [4.2634830e-04 0.0000000e+00 1.0000000e+00 1.0000000e+00 9.9999994e-01]\n",
      " ...\n",
      " [1.5721595e-03 0.0000000e+00 0.0000000e+00 0.0000000e+00 0.0000000e+00]\n",
      " [1.5721595e-03 0.0000000e+00 0.0000000e+00 0.0000000e+00 0.0000000e+00]\n",
      " [1.5721595e-03 0.0000000e+00 0.0000000e+00 0.0000000e+00 0.0000000e+00]]\n",
      "[[0.18861067]\n",
      " [0.64180577]\n",
      " [0.28633606]\n",
      " [0.6047255 ]\n",
      " [0.20756114]\n",
      " [0.91684735]\n",
      " [0.4013964 ]\n",
      " [0.24891412]\n",
      " [0.21246397]\n",
      " [0.19900858]]\n"
     ]
    }
   ],
   "source": [
    "# data preprocessing\n",
    "\n"
   ]
  },
  {
   "cell_type": "code",
   "execution_count": 11,
   "id": "3bbc7d03-b048-4937-80ba-51c62861b8ac",
   "metadata": {},
   "outputs": [
    {
     "name": "stdout",
     "output_type": "stream",
     "text": [
      "[[10.414519 ]\n",
      " [ 7.0355353]\n",
      " [ 8.079501 ]\n",
      " [ 7.610532 ]\n",
      " [ 6.5831003]\n",
      " [ 7.3441925]\n",
      " [ 8.800646 ]\n",
      " [ 8.875222 ]\n",
      " [ 8.509621 ]\n",
      " [ 7.1875806]]\n"
     ]
    }
   ],
   "source": [
    "# linear regression\n",
    "from sklearn.linear_model import LinearRegression\n",
    "from sklearn.metrics import mean_squared_error, r2_score\n",
    "\n",
    "lr = LinearRegression()\n",
    "lr.fit(mmc_x_train.reshape(len(mmc_x_train), -1), mmc_y_train)\n",
    "mmc_y_valid_predict = lr.predict(mmc_x_valid.reshape(len(mmc_x_valid), -1))\n",
    "y_valid_predict = scaler_y.inverse_transform(mmc_y_valid_predict)\n",
    "print(y_valid_predict[:10])\n",
    "\n",
    "mse = mean_squared_error(y_valid, y_valid_predict)\n",
    "r2 = r2_score(y_valid, y_valid_predict)\n",
    "print(\"mse:\", mse)\n",
    "print(\"r2 score:\", r2)"
   ]
  },
  {
   "cell_type": "code",
   "execution_count": 20,
   "id": "003f4997-0d6c-4b57-b8e0-b58e8b89e9ec",
   "metadata": {},
   "outputs": [
    {
     "name": "stdout",
     "output_type": "stream",
     "text": [
      "mse: 15869.52\n",
      "r2 score: -19609.98565879914\n"
     ]
    }
   ],
   "source": [
    "\n",
    "\n"
   ]
  },
  {
   "cell_type": "code",
   "execution_count": 1,
   "id": "271249a4-3b5a-49e4-8d27-0ff459682c6f",
   "metadata": {},
   "outputs": [
    {
     "data": {
      "text/plain": [
       "64.1171875"
      ]
     },
     "execution_count": 1,
     "metadata": {},
     "output_type": "execute_result"
    }
   ],
   "source": []
  }
 ],
 "metadata": {
  "kernelspec": {
   "display_name": "Python 3 (ipykernel)",
   "language": "python",
   "name": "python3"
  },
  "language_info": {
   "codemirror_mode": {
    "name": "ipython",
    "version": 3
   },
   "file_extension": ".py",
   "mimetype": "text/x-python",
   "name": "python",
   "nbconvert_exporter": "python",
   "pygments_lexer": "ipython3",
   "version": "3.7.11"
  },
  "toc-autonumbering": false,
  "toc-showmarkdowntxt": false
 },
 "nbformat": 4,
 "nbformat_minor": 5
}

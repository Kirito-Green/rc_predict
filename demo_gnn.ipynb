{
 "cells": [
  {
   "cell_type": "markdown",
   "metadata": {},
   "source": [
    "# GNN模型预测版图寄生电容"
   ]
  },
  {
   "cell_type": "markdown",
   "metadata": {},
   "source": [
    "## 基本库导入"
   ]
  },
  {
   "cell_type": "code",
   "execution_count": null,
   "metadata": {},
   "outputs": [],
   "source": [
    "import random\n",
    "import numpy as np\n",
    "import pandas as pd\n",
    "import matplotlib.pyplot as plt\n",
    "import os\n",
    "import sys\n",
    "import tensorflow as tf\n",
    "\n",
    "sys.path.append(os.path.join(os.getcwd(), '..'))\n",
    "\n",
    "from config import *\n",
    "\n",
    "# 自定义模块导入\n",
    "from data.dataset import MyDataset\n",
    "from models.gcn import GCN\n",
    "from models.graph_sage import GraphSage\n",
    "from models.gat import GAT\n",
    "\n",
    "# fix seed\n",
    "random.seed(seed)\n",
    "np.random.seed(seed)\n",
    "tf.random.set_seed(seed)"
   ]
  },
  {
   "cell_type": "markdown",
   "metadata": {},
   "source": []
  },
  {
   "cell_type": "markdown",
   "metadata": {},
   "source": [
    "## 数据导入与数据分割"
   ]
  },
  {
   "cell_type": "code",
   "execution_count": null,
   "metadata": {},
   "outputs": [
    {
     "name": "stdout",
     "output_type": "stream",
     "text": [
      "load total data done\n",
      "load couple data done\n",
      "dataset total MyDataset(n_graphs=640)\n",
      "dataset couple MyDataset(n_graphs=640)\n"
     ]
    },
    {
     "name": "stderr",
     "output_type": "stream",
     "text": [
      "C:\\Users\\19596\\AppData\\Local\\Temp\\ipykernel_2176\\3372254273.py:18: UserWarning: you are shuffling a 'MyDataset' object which is not a subclass of 'Sequence'; `shuffle` is not guaranteed to behave correctly. E.g., non-numpy array/tensor objects with view semantics may contain duplicates after shuffling.\n",
      "  np.random.shuffle(dataset_total)\n",
      "C:\\Users\\19596\\AppData\\Local\\Temp\\ipykernel_2176\\3372254273.py:19: UserWarning: you are shuffling a 'MyDataset' object which is not a subclass of 'Sequence'; `shuffle` is not guaranteed to behave correctly. E.g., non-numpy array/tensor objects with view semantics may contain duplicates after shuffling.\n",
      "  np.random.shuffle(dataset_couple)\n"
     ]
    }
   ],
   "source": [
    "# load data\n",
    "dataset_total = MyDataset(pattern_nums=pattern_nums,\n",
    "                          x_name='x_total.npy',\n",
    "                          y_name='y_total.npy',\n",
    "                          g_name='total',\n",
    "                          update=False)\n",
    "print('load total data done')\n",
    "dataset_couple = MyDataset(pattern_nums=pattern_nums,\n",
    "                           x_name='x_couple.npy',\n",
    "                           y_name='y_couple.npy',\n",
    "                           g_name='couple',\n",
    "                           update=False)\n",
    "print('load couple data done')\n",
    "print('dataset total', dataset_total)\n",
    "print('dataset couple', dataset_couple)\n",
    "\n",
    "# split data # 6:2:2\n",
    "np.random.shuffle(dataset_total)\n",
    "np.random.shuffle(dataset_couple)\n",
    "n = len(dataset_total)\n",
    "train_data_total, valid_data_total, test_data_total = dataset_total[0:int(n*0.6)], \\\n",
    "                                                        dataset_total[int(n*0.6):int(n*0.8)], \\\n",
    "                                                        dataset_total[int(n*0.8):]\n",
    "n = len(dataset_couple)\n",
    "train_data_couple, valid_data_couple, test_data_couple = dataset_couple[0:int(n * 0.6)], \\\n",
    "                                                            dataset_couple[int(n * 0.6):int(n * 0.8)], \\\n",
    "                                                            dataset_couple[int(n * 0.8):]"
   ]
  },
  {
   "cell_type": "markdown",
   "metadata": {},
   "source": [
    "## 模型构建"
   ]
  },
  {
   "cell_type": "code",
   "execution_count": null,
   "metadata": {},
   "outputs": [
    {
     "name": "stderr",
     "output_type": "stream",
     "text": [
      "c:\\360Downloads\\conda_pack\\envs\\tensorflow_gpu\\lib\\site-packages\\keras\\optimizers\\optimizer_v2\\adam.py:110: UserWarning: The `lr` argument is deprecated, use `learning_rate` instead.\n",
      "  super(Adam, self).__init__(name, **kwargs)\n"
     ]
    }
   ],
   "source": [
    "from tensorflow.keras.optimizers import Adam\n",
    "from spektral.data import BatchLoader\n",
    "\n",
    "\n",
    "# GCN model\n",
    "if model_name == 'gcn':\n",
    "\tmodel_total = GCN()\n",
    "\tmodel_couple = GCN()\n",
    "elif model_name == 'graph_sage':\n",
    "\tmodel_total = GraphSage()\n",
    "\tmodel_couple = GraphSage()\n",
    "elif model_name == 'gat':\n",
    "\tmodel_total = GAT()\n",
    "\tmodel_couple = GAT()\n",
    "else:\n",
    "\traise ValueError('model_name error')\n",
    "\n",
    "model_total.compile(optimizer=Adam(lr=lr),\n",
    "\t\t            loss='mean_squared_error',\n",
    "                    weighted_metrics=['MeanSquaredError'])\n",
    "model_couple.compile(optimizer=Adam(lr=lr),\n",
    "\t\t            loss='mean_squared_error',\n",
    "                    weighted_metrics=['MeanSquaredError'])\n",
    "\n",
    "model_total_save_path = os.path.abspath(os.path.join(os.getcwd(), f'../params/{model_name}_total.h5'))\n",
    "model_couple_save_path = os.path.abspath(os.path.join(os.getcwd(), f'../params/{model_name}_couple.h5'))\n",
    "\n",
    "# load model\n",
    "if os.path.exists(model_total_save_path) and LOAD_PARAMS:\n",
    "    loader = BatchLoader(train_data_total[:16], batch_size=16, shuffle=False)\n",
    "    model_total.fit(loader.load(),\n",
    "                    steps_per_epoch=1,\n",
    "                    epochs=1)\n",
    "    try:\n",
    "        model_total.load_weights(model_total_save_path)\n",
    "        print('load model total done')\n",
    "        model_total.summary()\n",
    "    except:\n",
    "        print('load model total failed')\n",
    "if os.path.exists(model_couple_save_path) and LOAD_PARAMS:\n",
    "    loader = BatchLoader(train_data_couple[:16], batch_size=16, shuffle=False)\n",
    "    model_couple.fit(loader.load(),\n",
    "                    steps_per_epoch=1,\n",
    "                    epochs=1)\n",
    "    try:\n",
    "        model_couple.load_weights(model_couple_save_path)\n",
    "        print('load model couple done')\n",
    "        model_couple.summary()\n",
    "    except:\n",
    "        print('load model couple failed')\n"
   ]
  },
  {
   "cell_type": "markdown",
   "metadata": {},
   "source": [
    "## tensorflow框架设置"
   ]
  },
  {
   "cell_type": "markdown",
   "metadata": {},
   "source": [
    "### 显存限制"
   ]
  },
  {
   "cell_type": "code",
   "execution_count": null,
   "metadata": {},
   "outputs": [
    {
     "name": "stdout",
     "output_type": "stream",
     "text": [
      "PhysicalDevice(name='/physical_device:GPU:0', device_type='GPU')\n",
      "Physical devices cannot be modified after being initialized\n"
     ]
    }
   ],
   "source": [
    "# 方法一 set memory growth\n",
    "if SET_MEMORY_GROWTH:\n",
    "    gpus = tf.config.experimental.list_physical_devices('GPU')\n",
    "    if len(gpus) > 0:\n",
    "        try:\n",
    "            print(gpus[0])\n",
    "            tf.config.experimental.set_memory_growth(gpus[0], True)\n",
    "        except RuntimeError as e:\n",
    "            print(e)\n",
    "\n",
    "# 方法二 set memory limit\n",
    "if SET_MEMORY_LIMIT:\n",
    "    gpus = tf.config.experimental.list_physical_devices('GPU')\n",
    "    if len(gpus) > 0:\n",
    "        try:\n",
    "            print(gpus[0])\n",
    "            tf.config.experimental.set_virtual_device_configuration(\n",
    "                gpus[0],\n",
    "                [tf.config.experimental.VirtualDeviceConfiguration(memory_limit=3900)])\n",
    "        except RuntimeError as e:\n",
    "            print(e)"
   ]
  },
  {
   "cell_type": "markdown",
   "metadata": {},
   "source": [
    "### 多卡设置"
   ]
  },
  {
   "cell_type": "code",
   "execution_count": null,
   "metadata": {},
   "outputs": [],
   "source": [
    "import os\n",
    "\n",
    "\n",
    "if SET_MULTI_GPU:\n",
    "\tos.environ[\"CUDA_VISIBLE_DEVICES\"]=\"0,1,3,4\""
   ]
  },
  {
   "cell_type": "markdown",
   "metadata": {},
   "source": [
    "## 集总电容模型"
   ]
  },
  {
   "cell_type": "markdown",
   "metadata": {},
   "source": [
    "### 集总电容模型训练"
   ]
  },
  {
   "cell_type": "code",
   "execution_count": null,
   "metadata": {},
   "outputs": [
    {
     "name": "stdout",
     "output_type": "stream",
     "text": [
      "Epoch 1/50\n",
      "24/24 [==============================] - 13s 440ms/step - loss: 148887.7969 - mean_squared_error: 148163.3906 - val_loss: 887.7748 - val_mean_squared_error: 151.2911\n",
      "Epoch 2/50\n",
      "24/24 [==============================] - 10s 420ms/step - loss: 3606.7986 - mean_squared_error: 2869.2063 - val_loss: 1447.5970 - val_mean_squared_error: 736.8013\n",
      "Epoch 3/50\n",
      "24/24 [==============================] - 10s 421ms/step - loss: 1038.8015 - mean_squared_error: 325.0478 - val_loss: 775.1373 - val_mean_squared_error: 82.4902\n",
      "Epoch 4/50\n",
      "24/24 [==============================] - 10s 428ms/step - loss: 723.4204 - mean_squared_error: 25.5612 - val_loss: 686.4230 - val_mean_squared_error: 7.5422\n",
      "Epoch 5/50\n",
      "24/24 [==============================] - 11s 445ms/step - loss: 693.0670 - mean_squared_error: 8.8390 - val_loss: 680.7646 - val_mean_squared_error: 14.9352\n",
      "Epoch 6/50\n",
      "24/24 [==============================] - 11s 461ms/step - loss: 678.5751 - mean_squared_error: 7.4763 - val_loss: 665.4415 - val_mean_squared_error: 12.0743\n",
      "Epoch 7/50\n",
      "24/24 [==============================] - 11s 477ms/step - loss: 665.6415 - mean_squared_error: 6.7621 - val_loss: 650.8571 - val_mean_squared_error: 8.7251\n",
      "Epoch 8/50\n",
      "24/24 [==============================] - 11s 477ms/step - loss: 654.4399 - mean_squared_error: 6.2833 - val_loss: 638.7164 - val_mean_squared_error: 6.1495\n",
      "Epoch 9/50\n",
      "24/24 [==============================] - 11s 475ms/step - loss: 644.9152 - mean_squared_error: 5.6866 - val_loss: 629.8370 - val_mean_squared_error: 5.0481\n",
      "Epoch 10/50\n",
      "24/24 [==============================] - 11s 470ms/step - loss: 637.2193 - mean_squared_error: 5.1465 - val_loss: 623.6202 - val_mean_squared_error: 4.9733\n",
      "Epoch 11/50\n",
      "24/24 [==============================] - 11s 470ms/step - loss: 631.3623 - mean_squared_error: 4.8976 - val_loss: 618.9111 - val_mean_squared_error: 5.0391\n",
      "Epoch 12/50\n",
      "24/24 [==============================] - 11s 470ms/step - loss: 626.9541 - mean_squared_error: 4.8347 - val_loss: 615.1206 - val_mean_squared_error: 4.9300\n",
      "Epoch 13/50\n",
      "24/24 [==============================] - 11s 472ms/step - loss: 624.0486 - mean_squared_error: 5.1921 - val_loss: 610.9568 - val_mean_squared_error: 3.3852\n",
      "Epoch 14/50\n",
      "24/24 [==============================] - 11s 475ms/step - loss: 1936.0712 - mean_squared_error: 1320.7133 - val_loss: 3122.2485 - val_mean_squared_error: 2520.1812\n",
      "Epoch 15/50\n",
      "24/24 [==============================] - 11s 474ms/step - loss: 1218.6293 - mean_squared_error: 607.4083 - val_loss: 603.9894 - val_mean_squared_error: 2.0325\n",
      "Epoch 16/50\n",
      "24/24 [==============================] - 11s 476ms/step - loss: 640.5933 - mean_squared_error: 29.7372 - val_loss: 610.2447 - val_mean_squared_error: 9.2520\n",
      "Epoch 17/50\n",
      "24/24 [==============================] - 12s 502ms/step - loss: 619.8134 - mean_squared_error: 9.6921 - val_loss: 602.1873 - val_mean_squared_error: 1.6954\n",
      "Epoch 18/50\n",
      "24/24 [==============================] - 12s 522ms/step - loss: 614.0737 - mean_squared_error: 4.3645 - val_loss: 601.8434 - val_mean_squared_error: 1.6682\n",
      "Epoch 19/50\n",
      "24/24 [==============================] - 13s 526ms/step - loss: 613.0794 - mean_squared_error: 3.6679 - val_loss: 601.4811 - val_mean_squared_error: 1.5627\n",
      "Epoch 20/50\n",
      "24/24 [==============================] - 13s 533ms/step - loss: 613.2917 - mean_squared_error: 4.1416 - val_loss: 601.5652 - val_mean_squared_error: 1.8861\n",
      "Epoch 21/50\n",
      "24/24 [==============================] - 12s 522ms/step - loss: 613.6693 - mean_squared_error: 4.7712 - val_loss: 602.1411 - val_mean_squared_error: 2.6972\n",
      "Epoch 22/50\n",
      "24/24 [==============================] - 12s 522ms/step - loss: 614.0615 - mean_squared_error: 5.4148 - val_loss: 603.2258 - val_mean_squared_error: 4.0184\n",
      "Epoch 23/50\n",
      "24/24 [==============================] - 12s 518ms/step - loss: 614.3594 - mean_squared_error: 5.9667 - val_loss: 604.4919 - val_mean_squared_error: 5.5246\n",
      "Epoch 24/50\n",
      "24/24 [==============================] - 12s 519ms/step - loss: 614.3577 - mean_squared_error: 6.2237 - val_loss: 605.2387 - val_mean_squared_error: 6.5163\n",
      "Epoch 25/50\n",
      "24/24 [==============================] - 13s 525ms/step - loss: 613.8637 - mean_squared_error: 5.9934 - val_loss: 604.8918 - val_mean_squared_error: 6.4196\n",
      "Epoch 26/50\n",
      "24/24 [==============================] - 12s 521ms/step - loss: 612.8883 - mean_squared_error: 5.2873 - val_loss: 603.5679 - val_mean_squared_error: 5.3518\n",
      "Epoch 27/50\n",
      "24/24 [==============================] - 12s 520ms/step - loss: 611.6978 - mean_squared_error: 4.3724 - val_loss: 601.9703 - val_mean_squared_error: 4.0171\n",
      "Epoch 28/50\n",
      "24/24 [==============================] - 12s 518ms/step - loss: 610.6042 - mean_squared_error: 3.5624 - val_loss: 600.6560 - val_mean_squared_error: 2.9736\n",
      "Epoch 29/50\n",
      "24/24 [==============================] - 12s 519ms/step - loss: 609.7446 - mean_squared_error: 2.9949 - val_loss: 599.7112 - val_mean_squared_error: 2.3089\n",
      "Epoch 30/50\n",
      "24/24 [==============================] - 12s 519ms/step - loss: 609.0709 - mean_squared_error: 2.6238 - val_loss: 599.0038 - val_mean_squared_error: 1.8914\n",
      "Epoch 31/50\n",
      "24/24 [==============================] - 12s 522ms/step - loss: 608.5018 - mean_squared_error: 2.3683 - val_loss: 598.4319 - val_mean_squared_error: 1.6205\n",
      "Epoch 32/50\n",
      "24/24 [==============================] - 12s 520ms/step - loss: 607.9919 - mean_squared_error: 2.1840 - val_loss: 597.9409 - val_mean_squared_error: 1.4418\n",
      "Epoch 33/50\n",
      "24/24 [==============================] - 12s 520ms/step - loss: 607.5148 - mean_squared_error: 2.0452 - val_loss: 597.4962 - val_mean_squared_error: 1.3216\n",
      "Epoch 34/50\n",
      "24/24 [==============================] - 13s 553ms/step - loss: 607.0472 - mean_squared_error: 1.9305 - val_loss: 597.0898 - val_mean_squared_error: 1.2536\n",
      "Epoch 35/50\n",
      "24/24 [==============================] - 14s 593ms/step - loss: 606.5860 - mean_squared_error: 1.8386 - val_loss: 596.7091 - val_mean_squared_error: 1.2281\n",
      "Epoch 36/50\n",
      "24/24 [==============================] - 14s 589ms/step - loss: 606.1497 - mean_squared_error: 1.7931 - val_loss: 596.3370 - val_mean_squared_error: 1.2322\n",
      "Epoch 37/50\n",
      "24/24 [==============================] - 14s 589ms/step - loss: 605.7158 - mean_squared_error: 1.7758 - val_loss: 595.9673 - val_mean_squared_error: 1.2639\n",
      "Epoch 38/50\n",
      "24/24 [==============================] - 13s 545ms/step - loss: 605.2626 - mean_squared_error: 1.7723 - val_loss: 595.5856 - val_mean_squared_error: 1.3178\n",
      "Epoch 39/50\n",
      "24/24 [==============================] - 13s 541ms/step - loss: 604.7722 - mean_squared_error: 1.7791 - val_loss: 595.1768 - val_mean_squared_error: 1.3963\n",
      "Epoch 40/50\n",
      "24/24 [==============================] - 13s 539ms/step - loss: 604.2221 - mean_squared_error: 1.8025 - val_loss: 594.7144 - val_mean_squared_error: 1.5113\n",
      "Epoch 41/50\n",
      "24/24 [==============================] - 12s 522ms/step - loss: 603.5518 - mean_squared_error: 1.8489 - val_loss: 594.1143 - val_mean_squared_error: 1.6841\n",
      "Epoch 42/50\n",
      "24/24 [==============================] - 12s 518ms/step - loss: 602.5504 - mean_squared_error: 1.9304 - val_loss: 592.9641 - val_mean_squared_error: 1.9450\n",
      "Epoch 43/50\n",
      "24/24 [==============================] - 12s 517ms/step - loss: 598.8859 - mean_squared_error: 2.1182 - val_loss: 576.9000 - val_mean_squared_error: 2.4858\n",
      "Epoch 44/50\n",
      "24/24 [==============================] - 12s 516ms/step - loss: 557.9593 - mean_squared_error: 2.8544 - val_loss: 540.3622 - val_mean_squared_error: 2.0867\n",
      "Epoch 45/50\n",
      "24/24 [==============================] - 12s 518ms/step - loss: 533.3224 - mean_squared_error: 2.0927 - val_loss: 498.7847 - val_mean_squared_error: 1.5145\n",
      "Epoch 46/50\n",
      "24/24 [==============================] - 12s 519ms/step - loss: 463.7413 - mean_squared_error: 5.9527 - val_loss: 441.7335 - val_mean_squared_error: 9.8108\n",
      "Epoch 47/50\n",
      "24/24 [==============================] - 12s 518ms/step - loss: 443.3753 - mean_squared_error: 11.9328 - val_loss: 445.7090 - val_mean_squared_error: 21.1387\n",
      "Epoch 48/50\n",
      "24/24 [==============================] - 13s 556ms/step - loss: 443.7405 - mean_squared_error: 14.9005 - val_loss: 448.5397 - val_mean_squared_error: 25.0316\n",
      "Epoch 49/50\n",
      "24/24 [==============================] - 13s 528ms/step - loss: 443.1952 - mean_squared_error: 14.9372 - val_loss: 447.1440 - val_mean_squared_error: 23.9464\n",
      "Epoch 50/50\n",
      "24/24 [==============================] - 13s 529ms/step - loss: 441.2105 - mean_squared_error: 13.3177 - val_loss: 443.1155 - val_mean_squared_error: 20.2050\n",
      "Model: \"gcn_2\"\n",
      "_________________________________________________________________\n",
      " Layer (type)                Output Shape              Param #   \n",
      "=================================================================\n",
      " gcn_conv_6 (GCNConv)        multiple                  96        \n",
      "                                                                 \n",
      " diff_pool_6 (DiffPool)      multiple                  4352      \n",
      "                                                                 \n",
      " gcn_conv_7 (GCNConv)        multiple                  272       \n",
      "                                                                 \n",
      " diff_pool_7 (DiffPool)      multiple                  1280      \n",
      "                                                                 \n",
      " gcn_conv_8 (GCNConv)        multiple                  272       \n",
      "                                                                 \n",
      " diff_pool_8 (DiffPool)      multiple                  512       \n",
      "                                                                 \n",
      " flatten_2 (Flatten)         multiple                  0         \n",
      "                                                                 \n",
      " dense_4 (Dense)             multiple                  131584    \n",
      "                                                                 \n",
      " dense_5 (Dense)             multiple                  513       \n",
      "                                                                 \n",
      "=================================================================\n",
      "Total params: 138,881\n",
      "Trainable params: 138,881\n",
      "Non-trainable params: 0\n",
      "_________________________________________________________________\n"
     ]
    },
    {
     "data": {
      "image/png": "[encoded data removed]",
      "text/plain": [
       "<Figure size 640x480 with 1 Axes>"
      ]
     },
     "metadata": {},
     "output_type": "display_data"
    }
   ],
   "source": [
    "from spektral.data import BatchLoader\n",
    "\n",
    "\n",
    "loader_train = BatchLoader(train_data_total, batch_size=16, shuffle=False)\n",
    "loader_valid = BatchLoader(valid_data_total, batch_size=16, shuffle=False)\n",
    "model_total.fit(loader_train.load(),\n",
    "                validation_data=loader_valid.load(),\n",
    "                steps_per_epoch=loader_train.steps_per_epoch,\n",
    "                validation_steps=loader_valid.steps_per_epoch,\n",
    "                epochs=10,\n",
    "                shuffle=False)\n",
    "model_total.summary()\n",
    "\n",
    "# plot \n",
    "plt_save_path = os.path.abspath(os.path.join(os.getcwd, f\"../results/{model_name}_total_train.jpg\"))\n",
    "history = model_total.history.history\n",
    "plt.plot(history['loss'], label='train loss')\n",
    "plt.plot(history['val_loss'], label='valid loss')\n",
    "plt.legend()\n",
    "plt.xlabel('epoch')\n",
    "plt.ylabel('loss')\n",
    "plt.show()\n",
    "\n",
    "# save picture and model\n",
    "if not os.path.exists(plt_save_path):\n",
    "    os.mkdir(plt_save_path)\n",
    "plt.savefig(plt_save_path)\n",
    "model_total.save_weights(model_total_save_path)"
   ]
  },
  {
   "cell_type": "markdown",
   "metadata": {},
   "source": [
    "### 集总电容模型测试"
   ]
  },
  {
   "cell_type": "code",
   "execution_count": null,
   "metadata": {},
   "outputs": [
    {
     "name": "stderr",
     "output_type": "stream",
     "text": [
      "c:\\360Downloads\\conda_pack\\envs\\tensorflow_gpu\\lib\\site-packages\\spektral\\data\\utils.py:221: UserWarning: you are shuffling a 'MyDataset' object which is not a subclass of 'Sequence'; `shuffle` is not guaranteed to behave correctly. E.g., non-numpy array/tensor objects with view semantics may contain duplicates after shuffling.\n",
      "  np.random.shuffle(a)\n"
     ]
    },
    {
     "name": "stdout",
     "output_type": "stream",
     "text": [
      "8/8 [==============================] - 3s 374ms/step - loss: 451.1732 - mean_squared_error: 23.3237\n",
      "8/8 [==============================] - 3s 305ms/step\n",
      "Test evaluate mse: [451.1731872558594, 23.323732376098633]\n",
      "Test evaluate r2: -20.588104934392778\n",
      "total\n",
      "max error: 1.0091952\n",
      "mean error: 0.4847884\n",
      "std error: 0.1600476\n",
      "good ratio: 0.0078125\n",
      "bad ratio: 0.9921875\n",
      "\n"
     ]
    }
   ],
   "source": [
    "from sklearn.metrics import r2_score\n",
    "\n",
    "\n",
    "def analysis_result(y, y_predict, title):\n",
    "    relative_error = np.abs(y - y_predict) / y\n",
    "    max_error = np.max(relative_error)\n",
    "    mean_error = np.mean(relative_error)\n",
    "    std_error = np.std(relative_error)\n",
    "    num_good = np.sum(relative_error <= tolerant_rate) / len(y)\n",
    "    num_bad = np.sum(relative_error > tolerant_rate) / len(y)\n",
    "    print(title)\n",
    "    print('max error:', max_error)\n",
    "    print('mean error:', mean_error)\n",
    "    print('std error:', std_error)\n",
    "    print('good ratio:', num_good)\n",
    "    print('bad ratio:', num_bad)\n",
    "    print('')\n",
    "\n",
    "\n",
    "loader = BatchLoader(test_data_total, batch_size=16)\n",
    "mse = model_total.evaluate(loader.load(), \n",
    "                           steps=loader.steps_per_epoch)\n",
    "y_predict = model_total.predict(loader.load(), \n",
    "                           steps=loader.steps_per_epoch).ravel()\n",
    "y = np.array([x.y for x in test_data_total])\n",
    "r2 = r2_score(y, y_predict)\n",
    "print(f\"Test evaluate mse: {mse}\")\n",
    "print(f\"Test evaluate r2: {r2}\")\n",
    "analysis_result(y, y_predict, 'total')"
   ]
  },
  {
   "cell_type": "markdown",
   "metadata": {},
   "source": [
    "## 耦合电容模型"
   ]
  },
  {
   "cell_type": "markdown",
   "metadata": {},
   "source": [
    "### 耦合电容模型训练"
   ]
  },
  {
   "cell_type": "code",
   "execution_count": null,
   "metadata": {},
   "outputs": [],
   "source": [
    "from spektral.data import BatchLoader\n",
    "\n",
    "\n",
    "loader_train = BatchLoader(train_data_total, batch_size=16, shuffle=False)\n",
    "loader_valid = BatchLoader(valid_data_total, batch_size=16, shuffle=False)\n",
    "model_couple.fit(loader_train.load(),\n",
    "                validation_data=loader_valid.load(),\n",
    "                steps_per_epoch=loader_train.steps_per_epoch,\n",
    "                validation_steps=loader_valid.steps_per_epoch,\n",
    "                epochs=10,\n",
    "                shuffle=False)\n",
    "model_couple.summary()\n",
    "\n",
    "# plot \n",
    "plt_save_path = os.path.abspath(os.path.join(os.getcwd, f\"../results/{model_name}_couple_train.jpg\"))\n",
    "history = model_couple.history.history\n",
    "plt.plot(history['loss'], label='train loss')\n",
    "plt.plot(history['val_loss'], label='valid loss')\n",
    "plt.legend()\n",
    "plt.xlabel('epoch')\n",
    "plt.ylabel('loss')\n",
    "plt.show()\n",
    "\n",
    "# save picture and model\n",
    "if not os.path.exists(plt_save_path):\n",
    "    os.mkdir(plt_save_path)\n",
    "plt.savefig(plt_save_path)\n",
    "model_couple.save_weights(model_couple_save_path)"
   ]
  },
  {
   "cell_type": "markdown",
   "metadata": {},
   "source": [
    "### 耦合电容模型测试"
   ]
  },
  {
   "cell_type": "code",
   "execution_count": null,
   "metadata": {},
   "outputs": [],
   "source": [
    "loader = BatchLoader(test_data_couple, batch_size=16)\n",
    "mse = model_couple.evaluate(loader.load(), \n",
    "                           steps=loader.steps_per_epoch)\n",
    "y_predict = model_couple.predict(loader.load(), \n",
    "                           steps=loader.steps_per_epoch).ravel()\n",
    "y = np.array([x.y for x in test_data_couple])\n",
    "r2 = r2_score(y, y_predict)\n",
    "print(f\"Test evaluate mse: {mse}\")\n",
    "print(f\"Test evaluate r2: {r2}\")\n",
    "analysis_result(y, y_predict, 'couple')"
   ]
  }
 ],
 "metadata": {
  "kernelspec": {
   "display_name": "tensorflow_gpu",
   "language": "python",
   "name": "python3"
  },
  "language_info": {
   "codemirror_mode": {
    "name": "ipython",
    "version": 3
   },
   "file_extension": ".py",
   "mimetype": "text/x-python",
   "name": "python",
   "nbconvert_exporter": "python",
   "pygments_lexer": "ipython3",
   "version": "3.9.0"
  }
 },
 "nbformat": 4,
 "nbformat_minor": 2
}

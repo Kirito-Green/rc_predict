{
 "cells": [
  {
   "cell_type": "markdown",
   "metadata": {},
   "source": [
    "# GNN模型预测版图寄生电容"
   ]
  },
  {
   "cell_type": "markdown",
   "metadata": {},
   "source": [
    "## 基本库导入"
   ]
  },
  {
   "cell_type": "code",
   "execution_count": 1,
   "metadata": {},
   "outputs": [],
   "source": [
    "import random\n",
    "import numpy as np\n",
    "import pandas as pd\n",
    "import matplotlib.pyplot as plt\n",
    "import os\n",
    "import sys\n",
    "import tensorflow as tf\n",
    "import faulthandler\n",
    "faulthandler.enable()\n",
    "\n",
    "from config import *\n",
    "\n",
    "# 自定义模块导入\n",
    "from data.dataset import MyDataset\n",
    "from models.gcn import GCN\n",
    "from models.graph_sage import GraphSage\n",
    "from models.gat import GAT\n",
    "\n",
    "# fix seed\n",
    "random.seed(seed)\n",
    "np.random.seed(seed)\n",
    "tf.random.set_seed(seed)"
   ]
  },
  {
   "cell_type": "markdown",
   "metadata": {},
   "source": [
    "## 参数解析"
   ]
  },
  {
   "cell_type": "code",
   "execution_count": 2,
   "metadata": {},
   "outputs": [
    {
     "name": "stdout",
     "output_type": "stream",
     "text": [
      "------------------------args-------------------------\n",
      "dir_prj = D:/learn_more_from_life/computer/EDA/work/prj/rc_predict/\n",
      "seed = 42\n",
      "pattern_nums = [4]\n",
      "thresh = [400, 2500]\n",
      "num_process = 8\n",
      "model_name = gcn\n",
      "lr = 0.001\n",
      "batch_size = 16\n",
      "epochs = 3\n",
      "load_params = False\n",
      "set_memory_growth = True\n",
      "set_memory_limit = -1\n",
      "set_multi_gpu_num = 1\n",
      "-----------------------------------------------------\n"
     ]
    }
   ],
   "source": [
    "import argparse\n",
    "\n",
    "sys.argv = ['run.py']\n",
    "\n",
    "def str2bool(v):\n",
    "\tif v.lower() in ('yes', 'true', 't', 'y', '1'):\n",
    "\t\treturn True\n",
    "\telif v.lower() in ('no', 'True', 'f', 'n', '0'):\n",
    "\t\treturn True\n",
    "\telse:\n",
    "\t\traise argparse.ArgumentTypeError('Boolean value expected.')\n",
    "\n",
    "parser = argparse.ArgumentParser()\n",
    "parser.add_argument('--dir_prj', type=str, default=dir_prj,\n",
    "\t\t\t\t\t\t\t\t\t\thelp='project directory')\n",
    "parser.add_argument('--seed', type=int, default=seed,\n",
    "\t\t\t\t\t\t\t\t\t\thelp='random seed')\n",
    "parser.add_argument('--pattern_nums', type=int, nargs='+', default=pattern_nums,\n",
    "\t\t\t\t\t\t\t\t\t\thelp='pattern nums')\n",
    "parser.add_argument('--thresh', type=int, nargs='+', default=thresh,\n",
    "\t\t\t\t\t\t\t\t\t\thelp='threshold')\n",
    "parser.add_argument('--num_process', type=int, default=num_process,\n",
    "\t\t\t\t\thelp='multiprocessing number')\n",
    "parser.add_argument('--model_name', type=str, default=model_name,\n",
    "\t\t\t\t\thelp='model name [gcn, graph_sage, gat]')\n",
    "parser.add_argument('--lr', type=float, default=lr,\n",
    "\t\t\t\t\thelp='adam learning rate')\n",
    "parser.add_argument('--batch_size', type=int, default=batch_size,\n",
    "\t\t\t\t\t\t\t\t\t\thelp='batch size')\n",
    "parser.add_argument('--epochs', type=int, default=epochs,\n",
    "\t\t\t\t\t\t\t\t\t\thelp='number of epochs')\n",
    "parser.add_argument('--load_params', type=str2bool, default=LOAD_PARAMS,\n",
    "\t\t\t\t\t\t\t\t\t\thelp='load parameters')\n",
    "parser.add_argument('--set_memory_growth', type=str2bool, default=SET_MEMORY_GROWTH,\n",
    "\t\t\t\t\t\t\t\t\t\thelp='set memory growth')\n",
    "parser.add_argument('--set_memory_limit', type=int, default=SET_MEMORY_LIMIT,\n",
    "\t\t\t\t\t\t\t\t\t\thelp='memory limit, -1 for no limit')\n",
    "parser.add_argument('--set_multi_gpu_num', type=int, default=SET_MULTI_GPU_NUM,\n",
    "\t\t\t\t\t\t\t\t\t\thelp='set multi gpu numbers')\n",
    "\n",
    "\n",
    "args = parser.parse_args()\n",
    "dir_prj = args.dir_prj\n",
    "seed = args.seed\n",
    "pattern_nums = args.pattern_nums\n",
    "thresh = args.thresh\n",
    "num_process = args.num_process\n",
    "model_name = args.model_name\n",
    "lr = args.lr\n",
    "batch_size = args.batch_size\n",
    "epochs = args.epochs\n",
    "LOAD_PARAMS = args.load_params\n",
    "SET_MEMORY_GROWTH = args.set_memory_growth\n",
    "SET_MEMORY_LIMIT = args.set_memory_limit\n",
    "SET_MULTI_GPU_NUM = args.set_multi_gpu_num\n",
    "\n",
    "# print\n",
    "print('------------------------args-------------------------')\n",
    "for k, v in vars(args).items():\n",
    "\t\tprint(f'{k} = {v}')\n",
    "print('-----------------------------------------------------')"
   ]
  },
  {
   "cell_type": "markdown",
   "metadata": {},
   "source": [
    "## 数据导入与数据清洗"
   ]
  },
  {
   "cell_type": "code",
   "execution_count": 3,
   "metadata": {},
   "outputs": [
    {
     "name": "stdout",
     "output_type": "stream",
     "text": [
      "pattern4 data downloaded\n",
      "all data downloaded\n",
      "reading pattern4\n",
      "pattern4 data readed\n",
      "all data readed\n",
      "---------------------load total data done---------------------\n",
      "pattern4 data downloaded\n",
      "all data downloaded\n",
      "reading pattern4\n",
      "pattern4 data readed\n",
      "all data readed\n",
      "---------------------load couple data done--------------------\n",
      "dataset total MyDataset(n_graphs=640)\n",
      "dataset couple MyDataset(n_graphs=640)\n"
     ]
    }
   ],
   "source": [
    "# load data\n",
    "dataset_total = MyDataset(dir_prj=dir_prj,\n",
    "\t\t\t\t\t\t\tpattern_nums=pattern_nums,\n",
    "\t\t\t\t\t\t  x_name='x_total.npy',\n",
    "\t\t\t\t\t\t  y_name='y_total.npy',\n",
    "\t\t\t\t\t\t  g_name='total',\n",
    "\t\t\t\t\t\t  num_process=num_process,\n",
    "\t\t\t\t\t\t  update=False)\n",
    "print('---------------------load total data done---------------------')\n",
    "dataset_couple = MyDataset(dir_prj=dir_prj,\n",
    "\t\t\t\t\t\t\t\tpattern_nums=pattern_nums,\n",
    "\t\t\t\t\t\t   x_name='x_couple.npy',\n",
    "\t\t\t\t\t\t   y_name='y_couple.npy',\n",
    "\t\t\t\t\t\t   g_name='couple',\n",
    "\t\t\t\t\t\t   num_process=num_process,\n",
    "\t\t\t\t\t\t   update=False)\n",
    "print('---------------------load couple data done--------------------')\n",
    "\n",
    "# clean data\n",
    "dataset_total.filter(lambda g: thresh[0] <= g.n_nodes <= thresh[1])\n",
    "dataset_couple.filter(lambda g: thresh[0] <= g.n_nodes <= thresh[1])\n",
    "print('dataset total', dataset_total)\n",
    "print('dataset couple', dataset_couple)\n"
   ]
  },
  {
   "cell_type": "markdown",
   "metadata": {},
   "source": [
    "## 数据分割"
   ]
  },
  {
   "cell_type": "code",
   "execution_count": 4,
   "metadata": {},
   "outputs": [
    {
     "name": "stderr",
     "output_type": "stream",
     "text": [
      "C:\\Users\\19596\\AppData\\Local\\Temp\\ipykernel_13940\\4135933038.py:2: UserWarning: you are shuffling a 'MyDataset' object which is not a subclass of 'Sequence'; `shuffle` is not guaranteed to behave correctly. E.g., non-numpy array/tensor objects with view semantics may contain duplicates after shuffling.\n",
      "  np.random.shuffle(dataset_total)\n",
      "C:\\Users\\19596\\AppData\\Local\\Temp\\ipykernel_13940\\4135933038.py:3: UserWarning: you are shuffling a 'MyDataset' object which is not a subclass of 'Sequence'; `shuffle` is not guaranteed to behave correctly. E.g., non-numpy array/tensor objects with view semantics may contain duplicates after shuffling.\n",
      "  np.random.shuffle(dataset_couple)\n"
     ]
    }
   ],
   "source": [
    "# split data # 6:2:2\n",
    "np.random.shuffle(dataset_total)\n",
    "np.random.shuffle(dataset_couple)\n",
    "n = len(dataset_total)\n",
    "train_data_total, valid_data_total, test_data_total = dataset_total[0:int(n*0.6)], \\\n",
    "\t\t\t\t\t\t\t\t\t\t\t\t\t  dataset_total[int(n*0.6):int(n*0.8)], \\\n",
    "\t\t\t\t\t\t\t\t\t\t\t\t\t  dataset_total[int(n*0.8):]\n",
    "n = len(dataset_couple)\n",
    "train_data_couple, valid_data_couple, test_data_couple = dataset_couple[0:int(n * 0.6)], \\\n",
    "\t\t\t\t\t\t\t\t\t\t\t\t\t\t dataset_couple[int(n * 0.6):int(n * 0.8)], \\\n",
    "\t\t\t\t\t\t\t\t\t\t\t\t\t\t dataset_couple[int(n * 0.8):]\n"
   ]
  },
  {
   "cell_type": "markdown",
   "metadata": {},
   "source": [
    "## 模型构建"
   ]
  },
  {
   "cell_type": "code",
   "execution_count": 5,
   "metadata": {},
   "outputs": [
    {
     "name": "stdout",
     "output_type": "stream",
     "text": [
      "buld model gcn done\n"
     ]
    }
   ],
   "source": [
    "from tensorflow.keras.optimizers import Adam\n",
    "from spektral.data import BatchLoader\n",
    "from utils.model import mse_mrse_loss, measure_ratio_good\n",
    "\n",
    "\n",
    "# GCN model\n",
    "if model_name == 'gcn':\n",
    "\tmodel_total = GCN()\n",
    "\tmodel_couple = GCN()\n",
    "\tmodel_best_total = GCN()\n",
    "\tmodel_best_couple = GCN()\n",
    "\tprint('buld model gcn done')\n",
    "elif model_name == 'graph_sage':\n",
    "\tmodel_total = GraphSage()\n",
    "\tmodel_couple = GraphSage()\n",
    "\tmodel_best_total = GraphSage()\n",
    "\tmodel_best_couple = GraphSage()\n",
    "\tprint('buld model graph_sage done')\n",
    "elif model_name == 'gat':\n",
    "\tmodel_total = GAT()\n",
    "\tmodel_couple = GAT()\n",
    "\tmodel_best_total = GAT()\n",
    "\tmodel_best_couple = GAT()\n",
    "\tprint('buld model gat done')\n",
    "else:\n",
    "\traise ValueError('model_name error')\n",
    "\n",
    "model_total.compile(optimizer=Adam(learning_rate=lr, epsilon=1e-5),\n",
    "\t\t\t\t\t\t\t\t\t\tloss=mse_mrse_loss,\n",
    "\t\t\t\t\t\t\t\t\t\tweighted_metrics=[measure_ratio_good])\n",
    "model_couple.compile(optimizer=Adam(learning_rate=lr, epsilon=1e-5),\n",
    "\t\t\t\t\t\t\t\t\t\tloss=mse_mrse_loss,\n",
    "\t\t\t\t\t\t\t\t\t\tweighted_metrics=[measure_ratio_good])\n",
    "# best model\n",
    "model_best_total.compile(optimizer=Adam(learning_rate=lr, epsilon=1e-5),\n",
    "\t\t\t\t\t\t\t\t\t\tloss=mse_mrse_loss,\n",
    "\t\t\t\t\t\t\t\t\t\tweighted_metrics=[measure_ratio_good])\n",
    "model_best_couple.compile(optimizer=Adam(learning_rate=lr, epsilon=1e-5),\n",
    "\t\t\t\t\t\t\t\t\t\tloss=mse_mrse_loss,\n",
    "\t\t\t\t\t\t\t\t\t\tweighted_metrics=[measure_ratio_good])\n",
    "\n",
    "# params save path\n",
    "dir_parmas = os.path.join(os.getcwd(), '../params')\n",
    "if not os.path.exists(dir_parmas):\n",
    "\tos.mkdir(dir_parmas)\n",
    "model_total_save_path = os.path.join(dir_parmas, f'{model_name}_total_lr{lr}_batchsize{batch_size}_epochs{epochs}.h5')\n",
    "model_couple_save_path = os.path.join(dir_parmas, f'{model_name}_couple_lr{lr}_batchsize{batch_size}_epochs{epochs}.h5')\n",
    "\n",
    "# load model\n",
    "if os.path.exists(model_total_save_path) and LOAD_PARAMS:\n",
    "\tloader = BatchLoader(train_data_total[:batch_size], batch_size=batch_size, shuffle=True)\n",
    "\tmodel_total.fit(loader.load(),\n",
    "\t\t\t\t\t\t\t\t\tsteps_per_epoch=1,\n",
    "\t\t\t\t\t\t\t\t\tepochs=1)\n",
    "\ttry:\n",
    "\t\t\tmodel_total.load_weights(model_total_save_path)\n",
    "\t\t\tprint('load model total done')\n",
    "\texcept:\n",
    "\t\t\tprint('load model total failed')\n",
    "if os.path.exists(model_couple_save_path) and LOAD_PARAMS:\n",
    "\tloader = BatchLoader(train_data_couple[:batch_size], batch_size=batch_size, shuffle=True)\n",
    "\tmodel_couple.fit(loader.load(),\n",
    "\t\t\t\t\t\t\t\t\t\tsteps_per_epoch=1,\n",
    "\t\t\t\t\t\t\t\t\t\tepochs=1)\n",
    "\ttry:\n",
    "\t\t\tmodel_couple.load_weights(model_couple_save_path)\n",
    "\t\t\tprint('load model couple done')\n",
    "\texcept:\n",
    "\t\t\tprint('load model couple failed')\n"
   ]
  },
  {
   "cell_type": "markdown",
   "metadata": {},
   "source": [
    "## tensorflow框架设置"
   ]
  },
  {
   "cell_type": "markdown",
   "metadata": {},
   "source": [
    "### 显存限制"
   ]
  },
  {
   "cell_type": "code",
   "execution_count": 6,
   "metadata": {},
   "outputs": [
    {
     "name": "stdout",
     "output_type": "stream",
     "text": [
      "PhysicalDevice(name='/physical_device:GPU:0', device_type='GPU')\n",
      "Physical devices cannot be modified after being initialized\n"
     ]
    }
   ],
   "source": [
    "# 方法一 set memory growth\n",
    "if SET_MEMORY_GROWTH:\n",
    "\tgpus = tf.config.experimental.list_physical_devices('GPU')\n",
    "\tif len(gpus) > 0:\n",
    "\t\ttry:\n",
    "\t\t\tprint(gpus[0])\n",
    "\t\t\ttf.config.experimental.set_memory_growth(gpus[0], True)\n",
    "\t\texcept RuntimeError as e:\n",
    "\t\t\tprint(e)\n",
    "\n",
    "# 方法二 set memory limit\n",
    "if SET_MEMORY_LIMIT > 0:\n",
    "\tgpus = tf.config.experimental.list_physical_devices('GPU')\n",
    "\tif len(gpus) > 0:\n",
    "\t\ttry:\n",
    "\t\t\tprint(gpus[0])\n",
    "\t\t\ttf.config.experimental.set_virtual_device_configuration(\n",
    "\t\t\t\tgpus[0],\n",
    "\t\t\t\t[tf.config.experimental.VirtualDeviceConfiguration(memory_limit=SET_MEMORY_LIMIT)])\n",
    "\t\t\tprint(f'set memory limit to {SET_MEMORY_LIMIT}MB')\n",
    "\t\texcept RuntimeError as e:\n",
    "\t\t\tprint(e)"
   ]
  },
  {
   "cell_type": "markdown",
   "metadata": {},
   "source": [
    "### 多卡设置"
   ]
  },
  {
   "cell_type": "code",
   "execution_count": 7,
   "metadata": {},
   "outputs": [],
   "source": [
    "import os\n",
    "\n",
    "\n",
    "gpu = \"\"\n",
    "for i in range(SET_MULTI_GPU_NUM):\n",
    "\tif i == 0:\n",
    "\t\tgpu += str(i)\n",
    "\telse:\n",
    "\t\tgpu += ',' + str(i)\n",
    "\n",
    "os.environ[\"CUDA_VISIBLE_DEVICES\"]=gpu"
   ]
  },
  {
   "cell_type": "markdown",
   "metadata": {},
   "source": [
    "## 模型预测"
   ]
  },
  {
   "cell_type": "markdown",
   "metadata": {},
   "source": [
    "### 集总电容模型"
   ]
  },
  {
   "cell_type": "markdown",
   "metadata": {},
   "source": [
    "#### 模型训练"
   ]
  },
  {
   "cell_type": "code",
   "execution_count": 8,
   "metadata": {},
   "outputs": [
    {
     "name": "stderr",
     "output_type": "stream",
     "text": [
      "d:\\learn_more_from_life\\computer\\EDA\\work\\prj\\rc_predict\\code\\spektral\\data\\utils.py:221: UserWarning: you are shuffling a 'MyDataset' object which is not a subclass of 'Sequence'; `shuffle` is not guaranteed to behave correctly. E.g., non-numpy array/tensor objects with view semantics may contain duplicates after shuffling.\n",
      "  np.random.shuffle(a)\n"
     ]
    },
    {
     "name": "stdout",
     "output_type": "stream",
     "text": [
      "24/24 [==============================] - 17s 534ms/step - loss: 404.5520 - measure_ratio_good: 0.0000e+00 - val_loss: 229.3454 - val_measure_ratio_good: 0.0000e+00\n",
      "8/8 [==============================] - 2s 330ms/step - loss: 229.2126 - measure_ratio_good: 0.0000e+00\n",
      "24/24 [==============================] - 12s 512ms/step - loss: 167.8191 - measure_ratio_good: 0.0000e+00 - val_loss: 125.2956 - val_measure_ratio_good: 0.0000e+00\n",
      "8/8 [==============================] - 2s 286ms/step - loss: 125.5265 - measure_ratio_good: 0.0000e+00\n",
      "24/24 [==============================] - 12s 512ms/step - loss: 112.9789 - measure_ratio_good: 0.0000e+00 - val_loss: 99.5894 - val_measure_ratio_good: 0.0000e+00\n",
      "8/8 [==============================] - 2s 267ms/step - loss: 101.1991 - measure_ratio_good: 0.0000e+00\n",
      "Model: \"gcn\"\n",
      "_________________________________________________________________\n",
      " Layer (type)                Output Shape              Param #   \n",
      "=================================================================\n",
      " gcn_conv (GCNConv)          multiple                  96        \n",
      "                                                                 \n",
      " diff_pool (DiffPool)        multiple                  4352      \n",
      "                                                                 \n",
      " gcn_conv_1 (GCNConv)        multiple                  272       \n",
      "                                                                 \n",
      " diff_pool_1 (DiffPool)      multiple                  1280      \n",
      "                                                                 \n",
      " gcn_conv_2 (GCNConv)        multiple                  272       \n",
      "                                                                 \n",
      " global_avg_pool (GlobalAvgP  multiple                 0         \n",
      " ool)                                                            \n",
      "                                                                 \n",
      " dense (Dense)               multiple                  272       \n",
      "                                                                 \n",
      " dense_1 (Dense)             multiple                  17        \n",
      "                                                                 \n",
      "=================================================================\n",
      "Total params: 6,561\n",
      "Trainable params: 6,561\n",
      "Non-trainable params: 0\n",
      "_________________________________________________________________\n"
     ]
    },
    {
     "data": {
      "image/png": "[encoded data removed]",
      "text/plain": [
       "<Figure size 640x480 with 1 Axes>"
      ]
     },
     "metadata": {},
     "output_type": "display_data"
    }
   ],
   "source": [
    "from spektral.data import BatchLoader\n",
    "from utils.model import sync\n",
    "\n",
    "\n",
    "loader_train = BatchLoader(train_data_total, batch_size=batch_size, shuffle=True)\n",
    "loader_valid = BatchLoader(valid_data_total, batch_size=batch_size, shuffle=True)\n",
    "\n",
    "best_epoch = 0\n",
    "best_val_score = 1e10\n",
    "\n",
    "# train model\n",
    "loss_all = []\n",
    "val_loss_all = []\n",
    "for epoch in range(epochs):\n",
    "\thistory = model_total.fit(loader_train.load(),\n",
    "\t\t\t\t\t\t\t\t\t\t\t\t\t\tvalidation_data=loader_valid.load(),\n",
    "\t\t\t\t\t\t\t\t\t\t\t\t\t\tsteps_per_epoch=loader_train.steps_per_epoch,\n",
    "\t\t\t\t\t\t\t\t\t\t\t\t\t\tvalidation_steps=loader_valid.steps_per_epoch,\n",
    "\t\t\t\t\t\t\t\t\t\t\t\t\t\tepochs=1,\n",
    "\t\t\t\t\t\t\t\t\t\t\t\t\t\tshuffle=True)\n",
    "\tloss_all.append(history.history['loss'][0])\n",
    "\tval_loss_all.append(history.history['val_loss'][0])\n",
    "\n",
    "\t# save model every model_save_freq epochs\n",
    "\t# if (epoch + 1) % model_save_freq == 0:\n",
    "\t# \tmodel_total_save_path = os.path.join(dir_parmas, f'{model_name}_total_lr{lr}_batchsize{batch_size}_epochs{epoch}.h5')\n",
    "\t# \tmodel_total.save_weights(model_total_save_path)\n",
    "\n",
    "\t# save best model on validation set\n",
    "\tval_loss, val_score = model_total.evaluate(loader_valid.load(), steps=loader_valid.steps_per_epoch)\n",
    "\tif val_score < best_val_score:\n",
    "\t\tbest_epoch = epoch\n",
    "\t\tbest_val_score = val_score\n",
    "\t\tsync(model_total, model_best_total)\n",
    "\n",
    "# save best model\n",
    "model_total_save_path = os.path.join(dir_parmas, f'{model_name}_total_best_lr{lr}_batchsize{batch_size}_epochs{best_epoch}of{epochs}.h5')\n",
    "model_best_total.save_weights(model_total_save_path)\n",
    "model_total.summary()\n",
    "\n",
    "# plot \n",
    "plt.plot(loss_all, label='train loss')\n",
    "plt.plot(val_loss_all, label='valid loss')\n",
    "plt.legend()\n",
    "plt.xticks(range(epochs))\n",
    "plt.xlabel('epoch')\n",
    "plt.ylabel('loss')\n",
    "\n",
    "# save picture\n",
    "plt_save_path = os.path.join(os.getcwd(), f\"../results/{model_name}_total_lr{lr}_batchsize{batch_size}_epochs{epochs}.jpg\")\n",
    "plt.savefig(plt_save_path)"
   ]
  },
  {
   "cell_type": "markdown",
   "metadata": {},
   "source": [
    "#### 模型测试"
   ]
  },
  {
   "cell_type": "code",
   "execution_count": 9,
   "metadata": {},
   "outputs": [
    {
     "name": "stdout",
     "output_type": "stream",
     "text": [
      "24/24 [==============================] - 7s 293ms/step\n",
      "8/8 [==============================] - 2s 294ms/step\n",
      "8/8 [==============================] - 3s 372ms/step\n",
      "gcn train mse: 689035.8\n",
      "gcn train r2: -853343.071397829\n",
      "gcn valid mse: 653024.4\n",
      "gcn valid r2: -653746.4983320809\n",
      "gcn test mse: 692421.6\n",
      "gcn test r2: -708861.5514175302\n",
      "\n",
      "\n",
      "gcn train analysis\n",
      "min error: 63.32205\n",
      "max error: 147.5197\n",
      "mean error: 93.844025\n",
      "std error: 18.04897\n",
      "good ratio: 0.0\n",
      "bad ratio: 1.0\n",
      "\n",
      "gcn valid analysis\n",
      "min error: 68.26279\n",
      "max error: 140.1562\n",
      "mean error: 89.81085\n",
      "std error: 14.984162\n",
      "good ratio: 0.0\n",
      "bad ratio: 1.0\n",
      "\n",
      "gcn test analysis\n",
      "min error: 65.60631\n",
      "max error: 138.1185\n",
      "mean error: 93.522644\n",
      "std error: 18.168652\n",
      "good ratio: 0.0\n",
      "bad ratio: 1.0\n",
      "\n"
     ]
    }
   ],
   "source": [
    "from utils.analysis import gnn_analysis\n",
    "\n",
    "\n",
    "yt_train = np.array([data.y for data in train_data_total]).reshape(-1, 1)\n",
    "yt_valid = np.array([data.y for data in valid_data_total]).reshape(-1, 1)\n",
    "yt_test = np.array([data.y for data in test_data_total]).reshape(-1, 1)\n",
    "dict_total = gnn_analysis(model_total, batch_size, \n",
    "\t\t\t\t\t\t  train_data_total, yt_train,\n",
    "\t\t\t\t\t\t  valid_data_total, yt_valid,\n",
    "\t\t\t\t\t\t  test_data_total, yt_test, name=model_name)\n",
    "results_total = pd.Series(dict_total).to_frame(name='total').T\n",
    "\n",
    "# save results\n",
    "dir_results = os.path.abspath(os.path.join(os.getcwd(), \"../results/\"))\n",
    "if not os.path.exists(dir_results):\n",
    "\t\tos.mkdir(dir_results)\n",
    "\n",
    "results_total.to_csv(os.path.join(dir_results, f\"{model_name}_total_lr{lr}_batchsize{batch_size}_epochs{epochs}.csv\"), index=False)"
   ]
  },
  {
   "cell_type": "markdown",
   "metadata": {},
   "source": [
    "### 耦合电容模型"
   ]
  },
  {
   "cell_type": "markdown",
   "metadata": {},
   "source": [
    "#### 模型训练"
   ]
  },
  {
   "cell_type": "code",
   "execution_count": 10,
   "metadata": {},
   "outputs": [
    {
     "name": "stderr",
     "output_type": "stream",
     "text": [
      "d:\\learn_more_from_life\\computer\\EDA\\work\\prj\\rc_predict\\code\\spektral\\data\\utils.py:221: UserWarning: you are shuffling a 'MyDataset' object which is not a subclass of 'Sequence'; `shuffle` is not guaranteed to behave correctly. E.g., non-numpy array/tensor objects with view semantics may contain duplicates after shuffling.\n",
      "  np.random.shuffle(a)\n"
     ]
    },
    {
     "name": "stdout",
     "output_type": "stream",
     "text": [
      "24/24 [==============================] - 16s 584ms/step - loss: 537.1238 - measure_ratio_good: 0.0000e+00 - val_loss: 215.0842 - val_measure_ratio_good: 0.0000e+00\n",
      "8/8 [==============================] - 3s 309ms/step - loss: 211.0524 - measure_ratio_good: 0.0000e+00\n",
      "24/24 [==============================] - 14s 599ms/step - loss: 209.9911 - measure_ratio_good: 0.0000e+00 - val_loss: 197.7656 - val_measure_ratio_good: 0.0000e+00\n",
      "8/8 [==============================] - 3s 334ms/step - loss: 190.8373 - measure_ratio_good: 0.0000e+00\n",
      "24/24 [==============================] - 13s 545ms/step - loss: 182.3928 - measure_ratio_good: 0.0000e+00 - val_loss: 175.8784 - val_measure_ratio_good: 0.0000e+00\n",
      "8/8 [==============================] - 3s 389ms/step - loss: 185.5509 - measure_ratio_good: 0.0000e+00\n",
      "Model: \"gcn_1\"\n",
      "_________________________________________________________________\n",
      " Layer (type)                Output Shape              Param #   \n",
      "=================================================================\n",
      " gcn_conv_3 (GCNConv)        multiple                  96        \n",
      "                                                                 \n",
      " diff_pool_2 (DiffPool)      multiple                  4352      \n",
      "                                                                 \n",
      " gcn_conv_4 (GCNConv)        multiple                  272       \n",
      "                                                                 \n",
      " diff_pool_3 (DiffPool)      multiple                  1280      \n",
      "                                                                 \n",
      " gcn_conv_5 (GCNConv)        multiple                  272       \n",
      "                                                                 \n",
      " global_avg_pool_1 (GlobalAv  multiple                 0         \n",
      " gPool)                                                          \n",
      "                                                                 \n",
      " dense_2 (Dense)             multiple                  272       \n",
      "                                                                 \n",
      " dense_3 (Dense)             multiple                  17        \n",
      "                                                                 \n",
      "=================================================================\n",
      "Total params: 6,561\n",
      "Trainable params: 6,561\n",
      "Non-trainable params: 0\n",
      "_________________________________________________________________\n"
     ]
    },
    {
     "data": {
      "image/png": "[encoded data removed]",
      "text/plain": [
       "<Figure size 640x480 with 1 Axes>"
      ]
     },
     "metadata": {},
     "output_type": "display_data"
    }
   ],
   "source": [
    "from spektral.data import BatchLoader\n",
    "from utils.model import sync\n",
    "\n",
    "\n",
    "loader_train = BatchLoader(train_data_couple, batch_size=batch_size, shuffle=True)\n",
    "loader_valid = BatchLoader(valid_data_couple, batch_size=batch_size, shuffle=True)\n",
    "\n",
    "best_epoch = 0\n",
    "best_val_score = 1e10\n",
    "\n",
    "# train model\n",
    "loss_all = []\n",
    "val_loss_all = []\n",
    "for epoch in range(epochs):\n",
    "\thistory = model_couple.fit(loader_train.load(),\n",
    "\t\t\t\t\t\t\t\t\t\t\t\t\t\tvalidation_data=loader_valid.load(),\n",
    "\t\t\t\t\t\t\t\t\t\t\t\t\t\tsteps_per_epoch=loader_train.steps_per_epoch,\n",
    "\t\t\t\t\t\t\t\t\t\t\t\t\t\tvalidation_steps=loader_valid.steps_per_epoch,\n",
    "\t\t\t\t\t\t\t\t\t\t\t\t\t\tepochs=1,\n",
    "\t\t\t\t\t\t\t\t\t\t\t\t\t\tshuffle=True)\n",
    "\tloss_all.append(history.history['loss'][0])\n",
    "\tval_loss_all.append(history.history['val_loss'][0])\n",
    "\n",
    "\t# save model every model_save_freq epochs\n",
    "\t# if (epoch + 1) % model_save_freq == 0:\n",
    "\t# \tmodel_couple_save_path = os.path.join(dir_parmas, f'{model_name}_couple_lr{lr}_batchsize{batch_size}_epochs{epoch}.h5')\n",
    "\t# \tmodel_couple.save_weights(model_couple_save_path)\n",
    "\n",
    "\t# save best model on validation set\n",
    "\tval_loss, val_score = model_couple.evaluate(loader_valid.load(), steps=loader_valid.steps_per_epoch)\n",
    "\tif val_score < best_val_score:\n",
    "\t\tbest_epoch = epoch\n",
    "\t\tbest_val_score = val_score\n",
    "\t\tsync(model_couple, model_best_couple)\n",
    "\n",
    "# save best model\n",
    "model_couple_save_path = os.path.join(dir_parmas, f'{model_name}_couple_best_lr{lr}_batchsize{batch_size}_epochs{best_epoch}of{epochs}.h5')\n",
    "model_best_couple.save_weights(model_couple_save_path)\n",
    "model_couple.summary()\n",
    "\n",
    "# plot \n",
    "plt.plot(loss_all, label='train loss')\n",
    "plt.plot(val_loss_all, label='valid loss')\n",
    "plt.legend()\n",
    "plt.xticks(range(epochs))\n",
    "plt.xlabel('epoch')\n",
    "plt.ylabel('loss')\n",
    "\n",
    "# save picture\n",
    "plt_save_path = os.path.join(os.getcwd(), f\"../results/{model_name}_couple_lr{lr}_batchsize{batch_size}_epochs{epochs}.jpg\")\n",
    "plt.savefig(plt_save_path)"
   ]
  },
  {
   "cell_type": "markdown",
   "metadata": {},
   "source": [
    "#### 模型测试"
   ]
  },
  {
   "cell_type": "code",
   "execution_count": 11,
   "metadata": {},
   "outputs": [
    {
     "name": "stdout",
     "output_type": "stream",
     "text": [
      "24/24 [==============================] - 8s 310ms/step\n",
      "8/8 [==============================] - 3s 357ms/step\n",
      "8/8 [==============================] - 2s 307ms/step\n",
      "gcn train mse: 1211478.5\n",
      "gcn train r2: -1122869.1910474724\n",
      "gcn valid mse: 1249999.9\n",
      "gcn valid r2: -1096115.0186425936\n",
      "gcn test mse: 1275977.6\n",
      "gcn test r2: -1041272.3465665667\n",
      "\n",
      "\n",
      "gcn train analysis\n",
      "min error: 161.63043\n",
      "max error: 469.99002\n",
      "mean error: 290.8486\n",
      "std error: 64.99368\n",
      "good ratio: 0.0\n",
      "bad ratio: 1.0\n",
      "\n",
      "gcn valid analysis\n",
      "min error: 168.57019\n",
      "max error: 472.3643\n",
      "mean error: 300.0161\n",
      "std error: 74.890434\n",
      "good ratio: 0.0\n",
      "bad ratio: 1.0\n",
      "\n",
      "gcn test analysis\n",
      "min error: 173.56883\n",
      "max error: 501.5898\n",
      "mean error: 291.67743\n",
      "std error: 68.409355\n",
      "good ratio: 0.0\n",
      "bad ratio: 1.0\n",
      "\n"
     ]
    }
   ],
   "source": [
    "from utils.analysis import gnn_analysis\n",
    "\n",
    "\n",
    "yc_train = np.array([data.y for data in train_data_couple]).reshape(-1, 1)\n",
    "yc_valid = np.array([data.y for data in valid_data_couple]).reshape(-1, 1)\n",
    "yc_test = np.array([data.y for data in test_data_couple]).reshape(-1, 1)\n",
    "dict_couple = gnn_analysis(model_couple, batch_size, \n",
    "\t\t\t\t\t\t   train_data_couple, yc_train, \n",
    "\t\t\t\t\t\t   valid_data_couple, yc_valid,\n",
    "\t\t\t\t\t\t   test_data_couple, yc_test, name=model_name)\n",
    "results_couple = pd.Series(dict_couple).to_frame(name='couple').T\n",
    "\n",
    "# save results\n",
    "dir_results = os.path.abspath(os.path.join(os.getcwd(), \"../results/\"))\n",
    "if not os.path.exists(dir_results):\n",
    "\tos.mkdir(dir_results)\n",
    "\n",
    "results_couple.to_csv(os.path.join(dir_results, f\"{model_name}_couple_lr{lr}_batchsize{batch_size}_epochs{epochs}.csv\"), index=False)"
   ]
  }
 ],
 "metadata": {
  "kernelspec": {
   "display_name": "tensorflow_gpu",
   "language": "python",
   "name": "python3"
  },
  "language_info": {
   "codemirror_mode": {
    "name": "ipython",
    "version": 3
   },
   "file_extension": ".py",
   "mimetype": "text/x-python",
   "name": "python",
   "nbconvert_exporter": "python",
   "pygments_lexer": "ipython3",
   "version": "3.9.0"
  }
 },
 "nbformat": 4,
 "nbformat_minor": 2
}

{
 "cells": [
  {
   "cell_type": "markdown",
   "metadata": {},
   "source": [
    "# GNN模型预测版图寄生电容"
   ]
  },
  {
   "cell_type": "markdown",
   "metadata": {},
   "source": [
    "## Debug 设置"
   ]
  },
  {
   "cell_type": "code",
   "execution_count": 1,
   "metadata": {},
   "outputs": [],
   "source": [
    "import faulthandler\n",
    "\n",
    "\n",
    "faulthandler.enable()"
   ]
  },
  {
   "cell_type": "markdown",
   "metadata": {},
   "source": [
    "## 参数解析"
   ]
  },
  {
   "cell_type": "code",
   "execution_count": 2,
   "metadata": {},
   "outputs": [],
   "source": [
    "import sys\n",
    "import argparse\n",
    "from config import *\n",
    "\n",
    "\n",
    "sys.argv = ['run.py']\n",
    "\n",
    "def str2bool(v):\n",
    "\tif v.lower() in ('yes', 'true', 't', 'y', '1'):\n",
    "\t\treturn True\n",
    "\telif v.lower() in ('no', 'false', 'f', 'n', '0'):\n",
    "\t\treturn False\n",
    "\telse:\n",
    "\t\traise argparse.ArgumentTypeError('Boolean value expected.')\n",
    "\n",
    "parser = argparse.ArgumentParser()\n",
    "parser.add_argument('--dir_prj', type=str, default=dir_prj,\n",
    "\t\t\t\t\t\t\t\t\t\thelp='project directory')\n",
    "parser.add_argument('--seed', type=int, default=seed,\n",
    "\t\t\t\t\t\t\t\t\t\thelp='random seed')\n",
    "parser.add_argument('--pattern_nums', type=int, nargs='+', default=pattern_nums,\n",
    "\t\t\t\t\t\t\t\t\t\thelp='pattern nums')\n",
    "parser.add_argument('--thresh', type=int, nargs='+', default=thresh,\n",
    "\t\t\t\t\t\t\t\t\t\thelp='threshold')\n",
    "parser.add_argument('--num_process', type=int, default=num_process,\n",
    "\t\t\t\t\t\t\t\t\t\thelp='multiprocessing number')\n",
    "parser.add_argument('--ndm', type=int, default=ndm,\n",
    "\t\t\t\t\t\t\t\t\t\thelp='number of neighbor distance maximum')\n",
    "parser.add_argument('--model_name', type=str, default=model_name,\n",
    "\t\t\t\t\t\t\t\t\t\thelp='model name [gcn, graph_sage, gat]')\n",
    "parser.add_argument('--lr', type=float, default=lr,\n",
    "\t\t\t\t\t\t\t\t\t\thelp='adam learning rate')\n",
    "parser.add_argument('--batch_size', type=int, default=batch_size,\n",
    "\t\t\t\t\t\t\t\t\t\thelp='batch size')\n",
    "parser.add_argument('--epochs', type=int, default=epochs,\n",
    "\t\t\t\t\t\t\t\t\t\thelp='number of epochs')\n",
    "parser.add_argument('--load_params', type=str2bool, default=LOAD_PARAMS,\n",
    "\t\t\t\t\t\t\t\t\t\thelp='load parameters')\n",
    "parser.add_argument('--set_memory_growth', type=str2bool, default=SET_MEMORY_GROWTH,\n",
    "\t\t\t\t\t\t\t\t\t\thelp='set memory growth')\n",
    "parser.add_argument('--set_memory_limit', type=int, default=SET_MEMORY_LIMIT,\n",
    "\t\t\t\t\t\t\t\t\t\thelp='memory limit, -1 for no limit')\n",
    "parser.add_argument('--set_multi_gpu_num', type=int, default=SET_MULTI_GPU_NUM,\n",
    "\t\t\t\t\t\t\t\t\t\thelp='set multi gpu numbers')\n",
    "parser.add_argument('-nt', '--no_train', action='store_true',\n",
    "\t\t\t\t\t\t\t\t\t\thelp='no train')\n",
    "\n",
    "\n",
    "args = parser.parse_args()\n",
    "dir_prj = args.dir_prj\n",
    "seed = args.seed\n",
    "pattern_nums = args.pattern_nums\n",
    "thresh = args.thresh\n",
    "num_process = args.num_process\n",
    "ndm = args.ndm\n",
    "model_name = args.model_name\n",
    "lr = args.lr\n",
    "batch_size = args.batch_size\n",
    "epochs = args.epochs\n",
    "LOAD_PARAMS = args.load_params\n",
    "SET_MEMORY_GROWTH = args.set_memory_growth\n",
    "SET_MEMORY_LIMIT = args.set_memory_limit\n",
    "SET_MULTI_GPU_NUM = args.set_multi_gpu_num\n",
    "SET_MULTI_GPU_NUM = min(SET_MULTI_GPU_NUM, 4)\n",
    "NO_TRAIN = args.no_train\n",
    "TRAIN = not NO_TRAIN\n"
   ]
  },
  {
   "cell_type": "markdown",
   "metadata": {},
   "source": [
    "## 路径定义"
   ]
  },
  {
   "cell_type": "code",
   "execution_count": 3,
   "metadata": {},
   "outputs": [],
   "source": [
    "import os\n",
    "\n",
    "\n",
    "# log save path\n",
    "dir_logs = os.path.join(os.getcwd(), '../logs')\n",
    "if not os.path.exists(dir_logs):\n",
    "\tos.mkdir(dir_logs)\n",
    "\n",
    "# params save path\n",
    "dir_params = os.path.join(os.getcwd(), '../params')\n",
    "if not os.path.exists(dir_params):\n",
    "\tos.mkdir(dir_params)\n",
    "\n",
    "# results save path\n",
    "dir_results = os.path.join(os.getcwd(), '../results')\n",
    "if not os.path.exists(dir_results):\n",
    "\tos.mkdir(dir_results)\n",
    "\n",
    "# tensorboard save path\n",
    "dir_tensorboard = os.path.join(os.getcwd(), '../tensorboard')\n",
    "if not os.path.exists(dir_tensorboard):\n",
    "\tos.mkdir(dir_tensorboard)\n"
   ]
  },
  {
   "cell_type": "markdown",
   "metadata": {},
   "source": [
    "## log 设置"
   ]
  },
  {
   "cell_type": "code",
   "execution_count": 4,
   "metadata": {},
   "outputs": [
    {
     "name": "stderr",
     "output_type": "stream",
     "text": [
      "2025-04-26 21:29:05 1743578797.py [line:17] INFO ------------------------args start----------------------------\n",
      "2025-04-26 21:29:05 1743578797.py [line:19] INFO dir_prj = D:/learn_more_from_life/computer/EDA/work/prj/rc_predict/\n",
      "2025-04-26 21:29:05 1743578797.py [line:19] INFO seed = 42\n",
      "2025-04-26 21:29:05 1743578797.py [line:19] INFO pattern_nums = [4]\n",
      "2025-04-26 21:29:05 1743578797.py [line:19] INFO thresh = [0, 3000]\n",
      "2025-04-26 21:29:05 1743578797.py [line:19] INFO num_process = 8\n",
      "2025-04-26 21:29:05 1743578797.py [line:19] INFO ndm = 25\n",
      "2025-04-26 21:29:05 1743578797.py [line:19] INFO model_name = gat\n",
      "2025-04-26 21:29:05 1743578797.py [line:19] INFO lr = 0.001\n",
      "2025-04-26 21:29:05 1743578797.py [line:19] INFO batch_size = 16\n",
      "2025-04-26 21:29:05 1743578797.py [line:19] INFO epochs = 100\n",
      "2025-04-26 21:29:05 1743578797.py [line:19] INFO load_params = False\n",
      "2025-04-26 21:29:05 1743578797.py [line:19] INFO set_memory_growth = True\n",
      "2025-04-26 21:29:05 1743578797.py [line:19] INFO set_memory_limit = -1\n",
      "2025-04-26 21:29:05 1743578797.py [line:19] INFO set_multi_gpu_num = 1\n",
      "2025-04-26 21:29:05 1743578797.py [line:19] INFO no_train = False\n",
      "2025-04-26 21:29:05 1743578797.py [line:20] INFO -------------------------args end-----------------------------\n"
     ]
    }
   ],
   "source": [
    "import logging\n",
    "\n",
    "\n",
    "console_handler = logging.StreamHandler()\n",
    "file_handler = logging.FileHandler(os.path.join(dir_logs, (f'{model_name}_lr{lr}_batchsize{batch_size}'\n",
    "\t\t\t\t\t\t\t\t\t\t\t\t\t\t   f'_epochs{epochs}_ndm{ndm}_seed{seed}.log')), mode='w', encoding='utf-8')\n",
    "\n",
    "# 设置日志格式\n",
    "logging.basicConfig(\n",
    "\tformat=\"%(asctime)s %(filename)s [line:%(lineno)d] %(levelname)s %(message)s\",\n",
    "\tdatefmt='%Y-%m-%d %H:%M:%S',\n",
    "\thandlers=[console_handler, file_handler],\n",
    "\tlevel=logging.INFO\n",
    ")\n",
    "\n",
    "# loging args\n",
    "logging.info('------------------------args start----------------------------')\n",
    "for k, v in vars(args).items():\n",
    "\t\tlogging.info(f'{k} = {v}')\n",
    "logging.info('-------------------------args end-----------------------------')"
   ]
  },
  {
   "cell_type": "markdown",
   "metadata": {},
   "source": [
    "## tensorflow框架设置"
   ]
  },
  {
   "cell_type": "markdown",
   "metadata": {},
   "source": [
    "### 多卡设置"
   ]
  },
  {
   "cell_type": "code",
   "execution_count": 5,
   "metadata": {},
   "outputs": [],
   "source": [
    "import os\n",
    "\n",
    "\n",
    "gpus = ''\n",
    "for i in range(SET_MULTI_GPU_NUM):\n",
    "\tif i == 0:\n",
    "\t\tgpus += str(i)\n",
    "\telse:\n",
    "\t\tgpus += ',' + str(i)\n",
    "\n",
    "os.environ['CUDA_VISIBLE_DEVICES'] = gpus"
   ]
  },
  {
   "cell_type": "markdown",
   "metadata": {},
   "source": [
    "### log level 设置"
   ]
  },
  {
   "cell_type": "code",
   "execution_count": 6,
   "metadata": {},
   "outputs": [],
   "source": [
    "# 0 = all messages are logged (default behavior)\n",
    "# 1 = INFO messages are not printed\n",
    "# 2 = INFO and WARNING messages are not printed\n",
    "# 3 = INFO, WARNING, and ERROR messages are not printed\n",
    "\n",
    "\n",
    "os.environ['TF_CPP_MIN_LOG_LEVEL'] = '1'"
   ]
  },
  {
   "cell_type": "markdown",
   "metadata": {},
   "source": [
    "### 显存限制"
   ]
  },
  {
   "cell_type": "code",
   "execution_count": 7,
   "metadata": {},
   "outputs": [
    {
     "name": "stderr",
     "output_type": "stream",
     "text": [
      "2025-04-26 21:29:16 4023682399.py [line:9] INFO [PhysicalDevice(name='/physical_device:GPU:0', device_type='GPU')]\n"
     ]
    }
   ],
   "source": [
    "import tensorflow as tf\n",
    "\n",
    "\n",
    "# 方法一 set memory growth\n",
    "if SET_MEMORY_GROWTH:\n",
    "\tgpus = tf.config.experimental.list_physical_devices('GPU')\n",
    "\tif len(gpus) > 0:\n",
    "\t\ttry:\n",
    "\t\t\tlogging.info(gpus[:SET_MULTI_GPU_NUM])\n",
    "\t\t\tfor gpu in gpus[:SET_MULTI_GPU_NUM]:\n",
    "\t\t\t\ttf.config.experimental.set_memory_growth(gpu, True)\n",
    "\t\texcept RuntimeError as e:\n",
    "\t\t\tlogging.error(e)\n",
    "\n",
    "# 方法二 set memory limit\n",
    "if SET_MEMORY_LIMIT > 0:\n",
    "\tgpus = tf.config.experimental.list_physical_devices('GPU')\n",
    "\tif len(gpus) > 0:\n",
    "\t\ttry:\n",
    "\t\t\tlogging.info(gpus[:SET_MULTI_GPU_NUM])\n",
    "\t\t\tfor gpu in gpus[:SET_MULTI_GPU_NUM]:\n",
    "\t\t\t\ttf.config.experimental.set_virtual_device_configuration(\n",
    "\t\t\t\t\tgpu,\n",
    "\t\t\t\t\t[tf.config.experimental.VirtualDeviceConfiguration(memory_limit=SET_MEMORY_LIMIT)])\n",
    "\t\t\tlogging.info(f'set memory limit to {SET_MEMORY_LIMIT}MB')\n",
    "\t\texcept RuntimeError as e:\n",
    "\t\t\tlogging.error(e)"
   ]
  },
  {
   "cell_type": "markdown",
   "metadata": {},
   "source": [
    "## 库导入"
   ]
  },
  {
   "cell_type": "code",
   "execution_count": 8,
   "metadata": {},
   "outputs": [],
   "source": [
    "import random\n",
    "import numpy as np\n",
    "import pandas as pd\n",
    "import matplotlib.pyplot as plt\n",
    "import time\n",
    "\n",
    "# 自定义模块导入\n",
    "from data.dataset import MyDataset\n",
    "from models.gcn import GCN\n",
    "from models.graph_sage import GraphSage\n",
    "from models.gat import GAT\n",
    "\n",
    "# fix seed\n",
    "random.seed(seed)\n",
    "np.random.seed(seed)\n",
    "tf.random.set_seed(seed)"
   ]
  },
  {
   "cell_type": "markdown",
   "metadata": {},
   "source": [
    "## 数据导入与数据清洗"
   ]
  },
  {
   "cell_type": "code",
   "execution_count": 9,
   "metadata": {},
   "outputs": [
    {
     "name": "stderr",
     "output_type": "stream",
     "text": [
      "2025-04-26 21:29:19 813898943.py [line:2] INFO ---------------------loading total data-----------------------\n"
     ]
    },
    {
     "name": "stdout",
     "output_type": "stream",
     "text": [
      "pattern4 data downloaded\n",
      "all data downloaded\n",
      "reading pattern4\n"
     ]
    },
    {
     "name": "stderr",
     "output_type": "stream",
     "text": [
      "2025-04-26 21:29:20 813898943.py [line:11] INFO ---------------------load total data done---------------------\n",
      "2025-04-26 21:29:20 813898943.py [line:13] INFO ---------------------loading couple data----------------------\n"
     ]
    },
    {
     "name": "stdout",
     "output_type": "stream",
     "text": [
      "pattern4 data readed\n",
      "all data readed\n",
      "pattern4 data downloaded\n",
      "all data downloaded\n",
      "reading pattern4\n"
     ]
    },
    {
     "name": "stderr",
     "output_type": "stream",
     "text": [
      "2025-04-26 21:29:21 813898943.py [line:22] INFO ---------------------load couple data done--------------------\n",
      "2025-04-26 21:29:21 813898943.py [line:25] INFO ------------------------before cleaning-----------------------\n",
      "2025-04-26 21:29:21 813898943.py [line:26] INFO dataset total: MyDataset(n_graphs=300)\n",
      "2025-04-26 21:29:21 813898943.py [line:27] INFO dataset couple: MyDataset(n_graphs=300)\n",
      "2025-04-26 21:29:21 813898943.py [line:28] INFO ------------------------after cleaning------------------------\n",
      "2025-04-26 21:29:21 813898943.py [line:31] INFO dataset total: MyDataset(n_graphs=300)\n",
      "2025-04-26 21:29:21 813898943.py [line:32] INFO dataset couple: MyDataset(n_graphs=300)\n"
     ]
    },
    {
     "name": "stdout",
     "output_type": "stream",
     "text": [
      "pattern4 data readed\n",
      "all data readed\n",
      "total x sample: [[1.47666669 0.83333337 0.50976002 0.00666667 0.66666669 0.\n",
      "  1.        ]\n",
      " [0.50333333 0.83333337 0.50976002 0.00666667 0.66666669 0.\n",
      "  1.        ]\n",
      " [1.47000003 0.83500004 0.50976002 0.00666667 0.67000002 0.\n",
      "  1.        ]\n",
      " [1.45666671 1.13499999 0.50976002 0.00666667 0.67000002 0.\n",
      "  1.        ]\n",
      " [1.44333339 1.13499999 0.50976002 0.00666667 0.67000002 0.\n",
      "  1.        ]]\n",
      "couple x sample: [[1.47666669 0.83333337 0.50976002 0.00666667 0.66666669 0.\n",
      "  1.         0.        ]\n",
      " [0.50333333 0.83333337 0.50976002 0.00666667 0.66666669 0.\n",
      "  1.         0.        ]\n",
      " [1.47000003 0.83500004 0.50976002 0.00666667 0.67000002 0.\n",
      "  1.         0.        ]\n",
      " [1.45666671 1.13499999 0.50976002 0.00666667 0.67000002 0.\n",
      "  1.         0.        ]\n",
      " [1.44333339 1.13499999 0.50976002 0.00666667 0.67000002 0.\n",
      "  1.         0.        ]]\n"
     ]
    }
   ],
   "source": [
    "# load data\n",
    "logging.info('---------------------loading total data-----------------------')\n",
    "dataset_total = MyDataset(dir_prj=dir_prj,\n",
    "\t\t\t\t\t\t\t\t\t\t\t\t\tndm=ndm,\n",
    "\t\t\t\t\t\t\t\t\t\t\t\t\tpattern_nums=pattern_nums,\n",
    "\t\t\t\t\t\t\t\t\t\t\t\t\tx_name='x_total.npy',\n",
    "\t\t\t\t\t\t\t\t\t\t\t\t\ty_name='y_total.npy',\n",
    "\t\t\t\t\t\t\t\t\t\t\t\t\tg_name='total',\n",
    "\t\t\t\t\t\t\t\t\t\t\t\t\tnum_process=num_process,\n",
    "\t\t\t\t\t\t\t\t\t\t\t\t\tupdate=False)\n",
    "logging.info('---------------------load total data done---------------------')\n",
    "\n",
    "logging.info('---------------------loading couple data----------------------')\n",
    "dataset_couple = MyDataset(dir_prj=dir_prj,\n",
    "\t\t\t\t\t\t\t\t\t\t\t\t\tndm=ndm,\n",
    "\t\t\t\t\t\t\t\t\t\t\t\t\tpattern_nums=pattern_nums,\n",
    "\t\t\t\t\t\t\t\t\t\t\t\t\tx_name='x_couple.npy',\n",
    "\t\t\t\t\t\t\t\t\t\t\t\t\ty_name='y_couple.npy',\n",
    "\t\t\t\t\t\t\t\t\t\t\t\t\tg_name='couple',\n",
    "\t\t\t\t\t\t\t\t\t\t\t\t\tnum_process=num_process,\n",
    "\t\t\t\t\t\t\t\t\t\t\t\t\tupdate=False)\n",
    "logging.info('---------------------load couple data done--------------------')\n",
    "\n",
    "# clean data\n",
    "logging.info('------------------------before cleaning-----------------------')\n",
    "logging.info(f'dataset total: {dataset_total}')\n",
    "logging.info(f'dataset couple: {dataset_couple}')\n",
    "logging.info('------------------------after cleaning------------------------')\n",
    "dataset_total.filter(lambda g: thresh[0] <= g.n_nodes <= thresh[1])\n",
    "dataset_couple.filter(lambda g: thresh[0] <= g.n_nodes <= thresh[1])\n",
    "logging.info(f'dataset total: {dataset_total}')\n",
    "logging.info(f'dataset couple: {dataset_couple}')\n",
    "print(f'total x sample: {dataset_total[0].x[:5]}')\n",
    "print(f'couple x sample: {dataset_couple[0].x[:5]}')\n"
   ]
  },
  {
   "cell_type": "markdown",
   "metadata": {},
   "source": [
    "## 数据分割"
   ]
  },
  {
   "cell_type": "code",
   "execution_count": 10,
   "metadata": {},
   "outputs": [
    {
     "name": "stderr",
     "output_type": "stream",
     "text": [
      "C:\\Users\\19596\\AppData\\Local\\Temp\\ipykernel_7040\\3642552981.py:2: UserWarning: you are shuffling a 'MyDataset' object which is not a subclass of 'Sequence'; `shuffle` is not guaranteed to behave correctly. E.g., non-numpy array/tensor objects with view semantics may contain duplicates after shuffling.\n",
      "  np.random.shuffle(dataset_total)\n",
      "C:\\Users\\19596\\AppData\\Local\\Temp\\ipykernel_7040\\3642552981.py:3: UserWarning: you are shuffling a 'MyDataset' object which is not a subclass of 'Sequence'; `shuffle` is not guaranteed to behave correctly. E.g., non-numpy array/tensor objects with view semantics may contain duplicates after shuffling.\n",
      "  np.random.shuffle(dataset_couple)\n"
     ]
    }
   ],
   "source": [
    "# split data # 6:2:2\n",
    "np.random.shuffle(dataset_total)\n",
    "np.random.shuffle(dataset_couple)\n",
    "n = len(dataset_total)\n",
    "train_data_total, valid_data_total, test_data_total = dataset_total[0:int(n*0.6)], \\\n",
    "\t\t\t\t\t\t\t\t\t\t\t\t\t\t\t\t\t\t\t\t\t\t\t\t\t\t\tdataset_total[int(n*0.6):int(n*0.8)], \\\n",
    "\t\t\t\t\t\t\t\t\t\t\t\t\t\t\t\t\t\t\t\t\t\t\t\t\t\t\tdataset_total[int(n*0.8):]\n",
    "n = len(dataset_couple)\n",
    "train_data_couple, valid_data_couple, test_data_couple = dataset_couple[0:int(n * 0.6)], \\\n",
    "\t\t\t\t\t\t\t\t\t\t\t\t\t\t\t\t\t\t\t\t\t\t\t\t\t\t\t\t dataset_couple[int(n * 0.6):int(n * 0.8)], \\\n",
    "\t\t\t\t\t\t\t\t\t\t\t\t\t\t\t\t\t\t\t\t\t\t\t\t\t\t\t\t dataset_couple[int(n * 0.8):]\n"
   ]
  },
  {
   "cell_type": "markdown",
   "metadata": {},
   "source": [
    "## 模型构建"
   ]
  },
  {
   "cell_type": "code",
   "execution_count": 11,
   "metadata": {},
   "outputs": [
    {
     "name": "stderr",
     "output_type": "stream",
     "text": [
      "2025-04-26 21:29:23 2271305740.py [line:78] INFO buld model gat done\n"
     ]
    }
   ],
   "source": [
    "from tensorflow.keras.optimizers import Adam\n",
    "from tensorflow.keras.losses import mean_squared_error\n",
    "from spektral.data import BatchLoader\n",
    "from utils.model import huber_loss, mse_msre_loss, measure_ratio_bad\n",
    "\n",
    "\n",
    "# loss and weighted metrics\n",
    "loss_func = mse_msre_loss\n",
    "weighted_metrics = [measure_ratio_bad]\n",
    "\n",
    "# set multi gpu\n",
    "if SET_MULTI_GPU_NUM > 1:\n",
    "\tdevices = [f'/gpu:{i}' for i in range(SET_MULTI_GPU_NUM)]\n",
    "\tmirror_strategy = tf.distribute.MirroredStrategy(devices=devices)\n",
    "\twith mirror_strategy.scope():\n",
    "\t\tlogging.info('---------------------set multi gpu done---------------------')\n",
    "\t\tlogging.info(f'num devices: {mirror_strategy.num_replicas_in_sync}')\n",
    "\t\tlogging.info(f'devices: {devices}')\n",
    "\t\tlogging.info('------------------------------------------------------------')\n",
    "\t\t# GCN model\n",
    "\t\tif model_name == 'gcn':\n",
    "\t\t\tmodel_total = GCN(training=True)\n",
    "\t\t\tmodel_couple = GCN(training=True)\n",
    "\t\t\tmodel_best_total = GCN(training=True)\n",
    "\t\t\tmodel_best_couple = GCN(training=True)\n",
    "\t\t\tlogging.info('buld model gcn done')\n",
    "\t\t# GraphSAGE model\n",
    "\t\telif model_name == 'graph_sage':\n",
    "\t\t\tmodel_total = GraphSage(training=True)\n",
    "\t\t\tmodel_couple = GraphSage(training=True)\n",
    "\t\t\tmodel_best_total = GraphSage(training=True)\n",
    "\t\t\tmodel_best_couple = GraphSage(training=True)\n",
    "\t\t\tlogging.info('buld model graph_sage done')\n",
    "\t\t# GAT model\n",
    "\t\telif model_name == 'gat':\n",
    "\t\t\tmodel_total = GAT(training=True)\n",
    "\t\t\tmodel_couple = GAT(training=True)\n",
    "\t\t\tmodel_best_total = GAT(training=True)\n",
    "\t\t\tmodel_best_couple = GAT(training=True)\n",
    "\t\t\tlogging.info('buld model gat done')\n",
    "\t\telse:\n",
    "\t\t\tlogging.error('model_name error')\n",
    "\t\t\traise ValueError('model_name error')\n",
    "\t\tmodel_total.compile(optimizer=Adam(learning_rate=lr, epsilon=epsilon),\n",
    "\t\t\t\t\t\t\t\t\t\t\t\tloss=loss_func,\n",
    "\t\t\t\t\t\t\t\t\t\t\t\tweighted_metrics=weighted_metrics)\n",
    "\t\tmodel_couple.compile(optimizer=Adam(learning_rate=lr, epsilon=epsilon),\n",
    "\t\t\t\t\t\t\t\t\t\t\t\tloss=loss_func,\n",
    "\t\t\t\t\t\t\t\t\t\t\t\tweighted_metrics=weighted_metrics)\n",
    "\t\t# best model\n",
    "\t\tmodel_best_total.compile(optimizer=Adam(learning_rate=lr, epsilon=epsilon),\n",
    "\t\t\t\t\t\t\t\t\t\t\t\tloss=loss_func,\n",
    "\t\t\t\t\t\t\t\t\t\t\t\tweighted_metrics=weighted_metrics)\n",
    "\t\tmodel_best_couple.compile(optimizer=Adam(learning_rate=lr, epsilon=epsilon),\n",
    "\t\t\t\t\t\t\t\t\t\t\t\tloss=loss_func,\n",
    "\t\t\t\t\t\t\t\t\t\t\t\tweighted_metrics=weighted_metrics)\n",
    "else:\n",
    "\t# GCN model\n",
    "\tif model_name == 'gcn':\n",
    "\t\tmodel_total = GCN(training=True)\n",
    "\t\tmodel_couple = GCN(training=True)\n",
    "\t\tmodel_best_total = GCN(training=True)\n",
    "\t\tmodel_best_couple = GCN(training=True)\n",
    "\t\tlogging.info('buld model gcn done')\n",
    "\t# GraphSAGE model\n",
    "\telif model_name == 'graph_sage':\n",
    "\t\tmodel_total = GraphSage(training=True)\n",
    "\t\tmodel_couple = GraphSage(training=True)\n",
    "\t\tmodel_best_total = GraphSage(training=True)\n",
    "\t\tmodel_best_couple = GraphSage(training=True)\n",
    "\t\tlogging.info('buld model graph_sage done')\n",
    "\t# GAT model\n",
    "\telif model_name == 'gat':\n",
    "\t\tmodel_total = GAT(training=True)\n",
    "\t\tmodel_couple = GAT(training=True)\n",
    "\t\tmodel_best_total = GAT(training=True)\n",
    "\t\tmodel_best_couple = GAT(training=True)\n",
    "\t\tlogging.info('buld model gat done')\n",
    "\telse:\n",
    "\t\tlogging.error('model_name error')\n",
    "\t\traise ValueError('model_name error')\n",
    "\n",
    "\tmodel_total.compile(optimizer=Adam(learning_rate=lr, epsilon=epsilon),\n",
    "\t\t\t\t\t\t\t\t\t\t\tloss=loss_func,\n",
    "\t\t\t\t\t\t\t\t\t\t\tweighted_metrics=weighted_metrics)\n",
    "\tmodel_couple.compile(optimizer=Adam(learning_rate=lr, epsilon=epsilon),\n",
    "\t\t\t\t\t\t\t\t\t\t\tloss=loss_func,\n",
    "\t\t\t\t\t\t\t\t\t\t\tweighted_metrics=weighted_metrics)\n",
    "\t# best model\n",
    "\tmodel_best_total.compile(optimizer=Adam(learning_rate=lr, epsilon=epsilon),\n",
    "\t\t\t\t\t\t\t\t\t\t\tloss=loss_func,\n",
    "\t\t\t\t\t\t\t\t\t\t\tweighted_metrics=weighted_metrics)\n",
    "\tmodel_best_couple.compile(optimizer=Adam(learning_rate=lr, epsilon=epsilon),\n",
    "\t\t\t\t\t\t\t\t\t\t\tloss=loss_func,\n",
    "\t\t\t\t\t\t\t\t\t\t\tweighted_metrics=weighted_metrics)\n"
   ]
  },
  {
   "cell_type": "markdown",
   "metadata": {},
   "source": [
    "## 模型导入"
   ]
  },
  {
   "cell_type": "code",
   "execution_count": 12,
   "metadata": {},
   "outputs": [],
   "source": [
    "model_total_load_path = os.path.join(dir_params, f'{model_name}_total_lr{lr}_batchsize{batch_size}_epochs{epochs}_ndm{ndm}_seed{seed}.h5')\n",
    "model_couple_load_path = os.path.join(dir_params, f'{model_name}_couple_lr{lr}_batchsize{batch_size}_epochs{epochs}_ndm{ndm}_seed{seed}.h5')\n",
    "\n",
    "# load model\n",
    "if os.path.exists(model_total_load_path) and LOAD_PARAMS:\n",
    "\tloader = BatchLoader(train_data_total[:batch_size], batch_size=batch_size, shuffle=True)\n",
    "\tmodel_total.fit(loader.load(),\n",
    "\t\t\t\t\t\t\t\t\tsteps_per_epoch=1,\n",
    "\t\t\t\t\t\t\t\t\tepochs=1)\n",
    "\ttry:\n",
    "\t\t\tmodel_total.load_weights(model_total_load_path)\n",
    "\t\t\tlogging.info('load model total done')\n",
    "\texcept:\n",
    "\t\t\tlogging.error('load model total failed')\n",
    "if os.path.exists(model_couple_load_path) and LOAD_PARAMS:\n",
    "\tloader = BatchLoader(train_data_couple[:batch_size], batch_size=batch_size, shuffle=True)\n",
    "\tmodel_couple.fit(loader.load(),\n",
    "\t\t\t\t\t\t\t\t\t\tsteps_per_epoch=1,\n",
    "\t\t\t\t\t\t\t\t\t\tepochs=1)\n",
    "\ttry:\n",
    "\t\t\tmodel_couple.load_weights(model_couple_load_path)\n",
    "\t\t\tlogging.info('load model couple done')\n",
    "\texcept:\n",
    "\t\t\tlogging.error('load model couple failed')\n"
   ]
  },
  {
   "cell_type": "markdown",
   "metadata": {},
   "source": [
    "## 模型预测"
   ]
  },
  {
   "cell_type": "markdown",
   "metadata": {},
   "source": [
    "### 集总电容模型"
   ]
  },
  {
   "cell_type": "markdown",
   "metadata": {},
   "source": [
    "#### 模型训练"
   ]
  },
  {
   "cell_type": "markdown",
   "metadata": {},
   "source": [
    "##### 手动记录"
   ]
  },
  {
   "cell_type": "code",
   "execution_count": 13,
   "metadata": {},
   "outputs": [],
   "source": [
    "if not USE_TENSORBOARD and TRAIN:\n",
    "\tfrom spektral.data import BatchLoader\n",
    "\tfrom utils.model import sync\n",
    "\n",
    "\n",
    "\tloader_train = BatchLoader(train_data_total, batch_size=batch_size, shuffle=True)\n",
    "\tloader_valid = BatchLoader(valid_data_total, batch_size=batch_size, shuffle=True)\n",
    "\n",
    "\tbest_epoch = 0\n",
    "\tbest_val_score = 1e10\n",
    "\n",
    "\t# train model\n",
    "\tloss_all = []\n",
    "\tval_loss_all = []\n",
    "\tstart = time.time()\n",
    "\tlogging.info('----------------model total train start------------------')\n",
    "\tfor epoch in range(epochs):\n",
    "\t\thistory = model_total.fit(loader_train.load(),\n",
    "\t\t\t\t\t\t\t\t\t\t\t\t\t\t\tvalidation_data=loader_valid.load(),\n",
    "\t\t\t\t\t\t\t\t\t\t\t\t\t\t\tsteps_per_epoch=loader_train.steps_per_epoch,\n",
    "\t\t\t\t\t\t\t\t\t\t\t\t\t\t\tvalidation_steps=loader_valid.steps_per_epoch,\n",
    "\t\t\t\t\t\t\t\t\t\t\t\t\t\t\tepochs=1,\n",
    "\t\t\t\t\t\t\t\t\t\t\t\t\t\t\tshuffle=False)\n",
    "\t\tloss_all.append(history.history['loss'][0])\n",
    "\t\tval_loss_all.append(history.history['val_loss'][0])\n",
    "\n",
    "\t\t# log\n",
    "\t\tlogging.info(f'total model:{model_name} epoch:{epoch} loss:{loss_all[-1]} val_loss:{val_loss_all[-1]}')\n",
    "\n",
    "\t\t# save model every model_save_freq epochs\n",
    "\t\tif (epoch + 1) % model_save_freq == 0:\n",
    "\t\t\tmodel_total_save_path = os.path.join(dir_params, f'{model_name}_total_lr{lr}_batchsize{batch_size}_epochs{epoch}_ndm{ndm}_seed{seed}.h5')\n",
    "\t\t\tmodel_total.save_weights(model_total_save_path)\n",
    "\n",
    "\t\t# save best model on validation set\n",
    "\t\tval_loss, val_score = model_total.evaluate(loader_valid.load(), steps=loader_valid.steps_per_epoch)\n",
    "\t\tif val_score < best_val_score:\n",
    "\t\t\tbest_epoch = epoch\n",
    "\t\t\tbest_val_score = val_score\n",
    "\t\t\tsync(model_total, model_best_total)\n",
    "\tend = time.time()\n",
    "\tlogging.info(f'model total train done epoch: {epochs}, time: {end - start}s')\n",
    "\tlogging.info('-----------------model total train end-------------------')\n",
    "\n",
    "\t# save best model\n",
    "\tmodel_total_save_path = os.path.join(dir_params, f'{model_name}_total_best_lr{lr}_batchsize{batch_size}_epochs{best_epoch}of{epochs}_ndm{ndm}_seed{seed}.h5')\n",
    "\tmodel_best_total.save_weights(model_total_save_path)\n",
    "\tmodel_total.summary()\n",
    "\n",
    "\t# plot \n",
    "\tplt.figure()\n",
    "\tplt.plot(loss_all, label='train loss')\n",
    "\tplt.plot(val_loss_all, label='valid loss')\n",
    "\tplt.legend()\n",
    "\tplt.xlabel('epoch')\n",
    "\tplt.ylabel('loss')\n",
    "\n",
    "\t# save picture\n",
    "\tplt_save_path = os.path.join(dir_results, f\"{model_name}_total_lr{lr}_batchsize{batch_size}_epochs{epochs}_ndm{ndm}_seed{seed}.jpg\")\n",
    "\tplt.savefig(plt_save_path)"
   ]
  },
  {
   "cell_type": "markdown",
   "metadata": {},
   "source": [
    "##### Tensorboard使用"
   ]
  },
  {
   "cell_type": "code",
   "execution_count": 14,
   "metadata": {},
   "outputs": [
    {
     "name": "stderr",
     "output_type": "stream",
     "text": [
      "2025-04-26 21:29:23 callbacks.py [line:1322] WARNING `period` argument is deprecated. Please use `save_freq` to specify the frequency in number of batches seen.\n",
      "2025-04-26 21:29:23 1515947590.py [line:23] INFO ----------------model total train start------------------\n",
      "d:\\learn_more_from_life\\computer\\EDA\\work\\prj\\rc_predict\\code\\spektral\\data\\utils.py:221: UserWarning: you are shuffling a 'MyDataset' object which is not a subclass of 'Sequence'; `shuffle` is not guaranteed to behave correctly. E.g., non-numpy array/tensor objects with view semantics may contain duplicates after shuffling.\n",
      "  np.random.shuffle(a)\n"
     ]
    },
    {
     "name": "stdout",
     "output_type": "stream",
     "text": [
      "Epoch 1/100\n",
      "11/12 [==========================>...] - ETA: 0s - loss: 0.9920 - measure_ratio_bad: 1.0000"
     ]
    },
    {
     "name": "stderr",
     "output_type": "stream",
     "text": [
      "2025-04-26 21:29:29 1515947590.py [line:10] INFO total model:gat epoch:0 loss:0.9915032386779785 val_loss:0.9788928627967834\n"
     ]
    },
    {
     "name": "stdout",
     "output_type": "stream",
     "text": [
      "12/12 [==============================] - 3s 54ms/step - loss: 0.9915 - measure_ratio_bad: 1.0000 - val_loss: 0.9789 - val_measure_ratio_bad: 1.0000\n",
      "Epoch 2/100\n",
      "10/12 [========================>.....] - ETA: 0s - loss: 0.9423 - measure_ratio_bad: 1.0000"
     ]
    },
    {
     "name": "stderr",
     "output_type": "stream",
     "text": [
      "2025-04-26 21:29:30 1515947590.py [line:10] INFO total model:gat epoch:1 loss:0.9370185136795044 val_loss:0.9261555075645447\n"
     ]
    },
    {
     "name": "stdout",
     "output_type": "stream",
     "text": [
      "12/12 [==============================] - 0s 20ms/step - loss: 0.9370 - measure_ratio_bad: 1.0000 - val_loss: 0.9262 - val_measure_ratio_bad: 1.0000\n",
      "Epoch 3/100\n",
      "11/12 [==========================>...] - ETA: 0s - loss: 0.8129 - measure_ratio_bad: 1.0000"
     ]
    },
    {
     "name": "stderr",
     "output_type": "stream",
     "text": [
      "2025-04-26 21:29:30 1515947590.py [line:10] INFO total model:gat epoch:2 loss:0.8117101192474365 val_loss:0.7919836640357971\n"
     ]
    },
    {
     "name": "stdout",
     "output_type": "stream",
     "text": [
      "12/12 [==============================] - 0s 21ms/step - loss: 0.8117 - measure_ratio_bad: 1.0000 - val_loss: 0.7920 - val_measure_ratio_bad: 1.0000\n",
      "Epoch 4/100\n",
      "11/12 [==========================>...] - ETA: 0s - loss: 0.5376 - measure_ratio_bad: 1.0000"
     ]
    },
    {
     "name": "stderr",
     "output_type": "stream",
     "text": [
      "2025-04-26 21:29:30 1515947590.py [line:10] INFO total model:gat epoch:3 loss:0.534368634223938 val_loss:0.47618943452835083\n"
     ]
    },
    {
     "name": "stdout",
     "output_type": "stream",
     "text": [
      "12/12 [==============================] - 0s 19ms/step - loss: 0.5344 - measure_ratio_bad: 1.0000 - val_loss: 0.4762 - val_measure_ratio_bad: 1.0000\n",
      "Epoch 5/100\n",
      "11/12 [==========================>...] - ETA: 0s - loss: 0.1487 - measure_ratio_bad: 0.9034"
     ]
    },
    {
     "name": "stderr",
     "output_type": "stream",
     "text": [
      "2025-04-26 21:29:30 1515947590.py [line:10] INFO total model:gat epoch:4 loss:0.15040889382362366 val_loss:0.13972574472427368\n"
     ]
    },
    {
     "name": "stdout",
     "output_type": "stream",
     "text": [
      "12/12 [==============================] - 0s 21ms/step - loss: 0.1504 - measure_ratio_bad: 0.8906 - val_loss: 0.1397 - val_measure_ratio_bad: 1.0000\n",
      "Epoch 6/100\n",
      "10/12 [========================>.....] - ETA: 0s - loss: 0.0750 - measure_ratio_bad: 0.7375"
     ]
    },
    {
     "name": "stderr",
     "output_type": "stream",
     "text": [
      "2025-04-26 21:29:31 1515947590.py [line:10] INFO total model:gat epoch:5 loss:0.08819706737995148 val_loss:0.21922793984413147\n"
     ]
    },
    {
     "name": "stdout",
     "output_type": "stream",
     "text": [
      "12/12 [==============================] - 0s 20ms/step - loss: 0.0882 - measure_ratio_bad: 0.7656 - val_loss: 0.2192 - val_measure_ratio_bad: 1.0000\n",
      "Epoch 7/100\n",
      "11/12 [==========================>...] - ETA: 0s - loss: 0.0969 - measure_ratio_bad: 0.8636"
     ]
    },
    {
     "name": "stderr",
     "output_type": "stream",
     "text": [
      "2025-04-26 21:29:31 1515947590.py [line:10] INFO total model:gat epoch:6 loss:0.09700177609920502 val_loss:0.2443142533302307\n"
     ]
    },
    {
     "name": "stdout",
     "output_type": "stream",
     "text": [
      "12/12 [==============================] - 0s 18ms/step - loss: 0.0970 - measure_ratio_bad: 0.8750 - val_loss: 0.2443 - val_measure_ratio_bad: 1.0000\n",
      "Epoch 8/100\n",
      "10/12 [========================>.....] - ETA: 0s - loss: 0.0932 - measure_ratio_bad: 0.8250"
     ]
    },
    {
     "name": "stderr",
     "output_type": "stream",
     "text": [
      "2025-04-26 21:29:31 1515947590.py [line:10] INFO total model:gat epoch:7 loss:0.09513489156961441 val_loss:0.2083573341369629\n"
     ]
    },
    {
     "name": "stdout",
     "output_type": "stream",
     "text": [
      "12/12 [==============================] - 0s 20ms/step - loss: 0.0951 - measure_ratio_bad: 0.8177 - val_loss: 0.2084 - val_measure_ratio_bad: 1.0000\n",
      "Epoch 9/100\n",
      "11/12 [==========================>...] - ETA: 0s - loss: 0.1142 - measure_ratio_bad: 0.8011"
     ]
    },
    {
     "name": "stderr",
     "output_type": "stream",
     "text": [
      "2025-04-26 21:29:31 1515947590.py [line:10] INFO total model:gat epoch:8 loss:0.11445567011833191 val_loss:0.22875939309597015\n"
     ]
    },
    {
     "name": "stdout",
     "output_type": "stream",
     "text": [
      "12/12 [==============================] - 0s 18ms/step - loss: 0.1145 - measure_ratio_bad: 0.7969 - val_loss: 0.2288 - val_measure_ratio_bad: 1.0000\n",
      "Epoch 10/100\n",
      "10/12 [========================>.....] - ETA: 0s - loss: 0.0595 - measure_ratio_bad: 0.8000"
     ]
    },
    {
     "name": "stderr",
     "output_type": "stream",
     "text": [
      "2025-04-26 21:29:31 1515947590.py [line:10] INFO total model:gat epoch:9 loss:0.05956880748271942 val_loss:0.20926709473133087\n"
     ]
    },
    {
     "name": "stdout",
     "output_type": "stream",
     "text": [
      "12/12 [==============================] - 0s 20ms/step - loss: 0.0596 - measure_ratio_bad: 0.8021 - val_loss: 0.2093 - val_measure_ratio_bad: 1.0000\n",
      "Epoch 11/100\n",
      "10/12 [========================>.....] - ETA: 0s - loss: 0.0810 - measure_ratio_bad: 0.7937"
     ]
    },
    {
     "name": "stderr",
     "output_type": "stream",
     "text": [
      "2025-04-26 21:29:32 1515947590.py [line:10] INFO total model:gat epoch:10 loss:0.08445551991462708 val_loss:0.19022007286548615\n"
     ]
    },
    {
     "name": "stdout",
     "output_type": "stream",
     "text": [
      "12/12 [==============================] - 0s 21ms/step - loss: 0.0845 - measure_ratio_bad: 0.7865 - val_loss: 0.1902 - val_measure_ratio_bad: 1.0000\n",
      "Epoch 12/100\n",
      "11/12 [==========================>...] - ETA: 0s - loss: 0.0757 - measure_ratio_bad: 0.8352"
     ]
    },
    {
     "name": "stderr",
     "output_type": "stream",
     "text": [
      "2025-04-26 21:29:32 1515947590.py [line:10] INFO total model:gat epoch:11 loss:0.07536384463310242 val_loss:0.2189783751964569\n"
     ]
    },
    {
     "name": "stdout",
     "output_type": "stream",
     "text": [
      "12/12 [==============================] - 0s 18ms/step - loss: 0.0754 - measure_ratio_bad: 0.8490 - val_loss: 0.2190 - val_measure_ratio_bad: 1.0000\n",
      "Epoch 13/100\n",
      "10/12 [========================>.....] - ETA: 0s - loss: 0.0736 - measure_ratio_bad: 0.8375"
     ]
    },
    {
     "name": "stderr",
     "output_type": "stream",
     "text": [
      "2025-04-26 21:29:32 1515947590.py [line:10] INFO total model:gat epoch:12 loss:0.07160967588424683 val_loss:0.1991715133190155\n"
     ]
    },
    {
     "name": "stdout",
     "output_type": "stream",
     "text": [
      "12/12 [==============================] - 0s 20ms/step - loss: 0.0716 - measure_ratio_bad: 0.8177 - val_loss: 0.1992 - val_measure_ratio_bad: 1.0000\n",
      "Epoch 14/100\n",
      "10/12 [========================>.....] - ETA: 0s - loss: 0.0716 - measure_ratio_bad: 0.8313"
     ]
    },
    {
     "name": "stderr",
     "output_type": "stream",
     "text": [
      "2025-04-26 21:29:32 1515947590.py [line:10] INFO total model:gat epoch:13 loss:0.06792179495096207 val_loss:0.2155836969614029\n"
     ]
    },
    {
     "name": "stdout",
     "output_type": "stream",
     "text": [
      "12/12 [==============================] - 0s 19ms/step - loss: 0.0679 - measure_ratio_bad: 0.8385 - val_loss: 0.2156 - val_measure_ratio_bad: 1.0000\n",
      "Epoch 15/100\n",
      " 9/12 [=====================>........] - ETA: 0s - loss: 0.1017 - measure_ratio_bad: 0.8125"
     ]
    },
    {
     "name": "stderr",
     "output_type": "stream",
     "text": [
      "2025-04-26 21:29:33 1515947590.py [line:10] INFO total model:gat epoch:14 loss:0.0970132052898407 val_loss:0.26788946986198425\n"
     ]
    },
    {
     "name": "stdout",
     "output_type": "stream",
     "text": [
      "12/12 [==============================] - 0s 20ms/step - loss: 0.0970 - measure_ratio_bad: 0.8385 - val_loss: 0.2679 - val_measure_ratio_bad: 1.0000\n",
      "Epoch 16/100\n",
      " 9/12 [=====================>........] - ETA: 0s - loss: 0.0577 - measure_ratio_bad: 0.8889"
     ]
    },
    {
     "name": "stderr",
     "output_type": "stream",
     "text": [
      "2025-04-26 21:29:33 1515947590.py [line:10] INFO total model:gat epoch:15 loss:0.060045115649700165 val_loss:0.20652443170547485\n"
     ]
    },
    {
     "name": "stdout",
     "output_type": "stream",
     "text": [
      "12/12 [==============================] - 0s 20ms/step - loss: 0.0600 - measure_ratio_bad: 0.8906 - val_loss: 0.2065 - val_measure_ratio_bad: 1.0000\n",
      "Epoch 17/100\n",
      " 8/12 [===================>..........] - ETA: 0s - loss: 0.0350 - measure_ratio_bad: 0.4922"
     ]
    },
    {
     "name": "stderr",
     "output_type": "stream",
     "text": [
      "2025-04-26 21:29:33 1515947590.py [line:10] INFO total model:gat epoch:16 loss:0.046773072332143784 val_loss:0.19168540835380554\n"
     ]
    },
    {
     "name": "stdout",
     "output_type": "stream",
     "text": [
      "12/12 [==============================] - 0s 22ms/step - loss: 0.0468 - measure_ratio_bad: 0.4688 - val_loss: 0.1917 - val_measure_ratio_bad: 1.0000\n",
      "Epoch 18/100\n",
      "11/12 [==========================>...] - ETA: 0s - loss: 0.0579 - measure_ratio_bad: 0.6989"
     ]
    },
    {
     "name": "stderr",
     "output_type": "stream",
     "text": [
      "2025-04-26 21:29:33 1515947590.py [line:10] INFO total model:gat epoch:17 loss:0.058421067893505096 val_loss:0.263412743806839\n"
     ]
    },
    {
     "name": "stdout",
     "output_type": "stream",
     "text": [
      "12/12 [==============================] - 0s 18ms/step - loss: 0.0584 - measure_ratio_bad: 0.7240 - val_loss: 0.2634 - val_measure_ratio_bad: 1.0000\n",
      "Epoch 19/100\n",
      "10/12 [========================>.....] - ETA: 0s - loss: 0.0508 - measure_ratio_bad: 0.7875"
     ]
    },
    {
     "name": "stderr",
     "output_type": "stream",
     "text": [
      "2025-04-26 21:29:34 1515947590.py [line:10] INFO total model:gat epoch:18 loss:0.051709480583667755 val_loss:0.2354670912027359\n"
     ]
    },
    {
     "name": "stdout",
     "output_type": "stream",
     "text": [
      "12/12 [==============================] - 0s 20ms/step - loss: 0.0517 - measure_ratio_bad: 0.7656 - val_loss: 0.2355 - val_measure_ratio_bad: 1.0000\n",
      "Epoch 20/100\n",
      "10/12 [========================>.....] - ETA: 0s - loss: 0.0461 - measure_ratio_bad: 0.6313"
     ]
    },
    {
     "name": "stderr",
     "output_type": "stream",
     "text": [
      "2025-04-26 21:29:34 1515947590.py [line:10] INFO total model:gat epoch:19 loss:0.04562942311167717 val_loss:0.2556300461292267\n"
     ]
    },
    {
     "name": "stdout",
     "output_type": "stream",
     "text": [
      "12/12 [==============================] - 0s 22ms/step - loss: 0.0456 - measure_ratio_bad: 0.6615 - val_loss: 0.2556 - val_measure_ratio_bad: 1.0000\n",
      "Epoch 21/100\n",
      "10/12 [========================>.....] - ETA: 0s - loss: 0.0397 - measure_ratio_bad: 0.6812"
     ]
    },
    {
     "name": "stderr",
     "output_type": "stream",
     "text": [
      "2025-04-26 21:29:34 1515947590.py [line:10] INFO total model:gat epoch:20 loss:0.03824121132493019 val_loss:0.2529459297657013\n"
     ]
    },
    {
     "name": "stdout",
     "output_type": "stream",
     "text": [
      "12/12 [==============================] - 0s 21ms/step - loss: 0.0382 - measure_ratio_bad: 0.6979 - val_loss: 0.2529 - val_measure_ratio_bad: 1.0000\n",
      "Epoch 22/100\n",
      "10/12 [========================>.....] - ETA: 0s - loss: 0.0359 - measure_ratio_bad: 0.6750"
     ]
    },
    {
     "name": "stderr",
     "output_type": "stream",
     "text": [
      "2025-04-26 21:29:34 1515947590.py [line:10] INFO total model:gat epoch:21 loss:0.03645830973982811 val_loss:0.2656121551990509\n"
     ]
    },
    {
     "name": "stdout",
     "output_type": "stream",
     "text": [
      "12/12 [==============================] - 0s 18ms/step - loss: 0.0365 - measure_ratio_bad: 0.6771 - val_loss: 0.2656 - val_measure_ratio_bad: 1.0000\n",
      "Epoch 23/100\n",
      "11/12 [==========================>...] - ETA: 0s - loss: 0.0244 - measure_ratio_bad: 0.5341"
     ]
    },
    {
     "name": "stderr",
     "output_type": "stream",
     "text": [
      "2025-04-26 21:29:35 1515947590.py [line:10] INFO total model:gat epoch:22 loss:0.024153033271431923 val_loss:0.245183065533638\n"
     ]
    },
    {
     "name": "stdout",
     "output_type": "stream",
     "text": [
      "12/12 [==============================] - 0s 18ms/step - loss: 0.0242 - measure_ratio_bad: 0.5521 - val_loss: 0.2452 - val_measure_ratio_bad: 1.0000\n",
      "Epoch 24/100\n",
      "11/12 [==========================>...] - ETA: 0s - loss: 0.0281 - measure_ratio_bad: 0.3693"
     ]
    },
    {
     "name": "stderr",
     "output_type": "stream",
     "text": [
      "2025-04-26 21:29:35 1515947590.py [line:10] INFO total model:gat epoch:23 loss:0.027771152555942535 val_loss:0.28227245807647705\n"
     ]
    },
    {
     "name": "stdout",
     "output_type": "stream",
     "text": [
      "12/12 [==============================] - 0s 19ms/step - loss: 0.0278 - measure_ratio_bad: 0.3802 - val_loss: 0.2823 - val_measure_ratio_bad: 1.0000\n",
      "Epoch 25/100\n",
      "10/12 [========================>.....] - ETA: 0s - loss: 0.0332 - measure_ratio_bad: 0.6562"
     ]
    },
    {
     "name": "stderr",
     "output_type": "stream",
     "text": [
      "2025-04-26 21:29:35 1515947590.py [line:10] INFO total model:gat epoch:24 loss:0.03103046678006649 val_loss:0.29186582565307617\n"
     ]
    },
    {
     "name": "stdout",
     "output_type": "stream",
     "text": [
      "12/12 [==============================] - 0s 21ms/step - loss: 0.0310 - measure_ratio_bad: 0.6250 - val_loss: 0.2919 - val_measure_ratio_bad: 1.0000\n",
      "Epoch 26/100\n",
      " 9/12 [=====================>........] - ETA: 0s - loss: 0.0231 - measure_ratio_bad: 0.4653"
     ]
    },
    {
     "name": "stderr",
     "output_type": "stream",
     "text": [
      "2025-04-26 21:29:35 1515947590.py [line:10] INFO total model:gat epoch:25 loss:0.02380647324025631 val_loss:0.2669471800327301\n"
     ]
    },
    {
     "name": "stdout",
     "output_type": "stream",
     "text": [
      "12/12 [==============================] - 0s 20ms/step - loss: 0.0238 - measure_ratio_bad: 0.5052 - val_loss: 0.2669 - val_measure_ratio_bad: 1.0000\n",
      "Epoch 27/100\n",
      "10/12 [========================>.....] - ETA: 0s - loss: 0.0267 - measure_ratio_bad: 0.4313"
     ]
    },
    {
     "name": "stderr",
     "output_type": "stream",
     "text": [
      "2025-04-26 21:29:35 1515947590.py [line:10] INFO total model:gat epoch:26 loss:0.025689411908388138 val_loss:0.30787378549575806\n"
     ]
    },
    {
     "name": "stdout",
     "output_type": "stream",
     "text": [
      "12/12 [==============================] - 0s 20ms/step - loss: 0.0257 - measure_ratio_bad: 0.4375 - val_loss: 0.3079 - val_measure_ratio_bad: 1.0000\n",
      "Epoch 28/100\n",
      "10/12 [========================>.....] - ETA: 0s - loss: 0.0229 - measure_ratio_bad: 0.5562"
     ]
    },
    {
     "name": "stderr",
     "output_type": "stream",
     "text": [
      "2025-04-26 21:29:36 1515947590.py [line:10] INFO total model:gat epoch:27 loss:0.02411450631916523 val_loss:0.29621103405952454\n"
     ]
    },
    {
     "name": "stdout",
     "output_type": "stream",
     "text": [
      "12/12 [==============================] - 0s 19ms/step - loss: 0.0241 - measure_ratio_bad: 0.5417 - val_loss: 0.2962 - val_measure_ratio_bad: 1.0000\n",
      "Epoch 29/100\n",
      "11/12 [==========================>...] - ETA: 0s - loss: 0.0185 - measure_ratio_bad: 0.5000"
     ]
    },
    {
     "name": "stderr",
     "output_type": "stream",
     "text": [
      "2025-04-26 21:29:36 1515947590.py [line:10] INFO total model:gat epoch:28 loss:0.01831696555018425 val_loss:0.2953704595565796\n"
     ]
    },
    {
     "name": "stdout",
     "output_type": "stream",
     "text": [
      "12/12 [==============================] - 0s 18ms/step - loss: 0.0183 - measure_ratio_bad: 0.4792 - val_loss: 0.2954 - val_measure_ratio_bad: 1.0000\n",
      "Epoch 30/100\n",
      " 9/12 [=====================>........] - ETA: 0s - loss: 0.0264 - measure_ratio_bad: 0.4167"
     ]
    },
    {
     "name": "stderr",
     "output_type": "stream",
     "text": [
      "2025-04-26 21:29:36 1515947590.py [line:10] INFO total model:gat epoch:29 loss:0.02577311545610428 val_loss:0.31433209776878357\n"
     ]
    },
    {
     "name": "stdout",
     "output_type": "stream",
     "text": [
      "12/12 [==============================] - 0s 19ms/step - loss: 0.0258 - measure_ratio_bad: 0.4479 - val_loss: 0.3143 - val_measure_ratio_bad: 1.0000\n",
      "Epoch 31/100\n",
      "11/12 [==========================>...] - ETA: 0s - loss: 0.0191 - measure_ratio_bad: 0.5398"
     ]
    },
    {
     "name": "stderr",
     "output_type": "stream",
     "text": [
      "2025-04-26 21:29:36 1515947590.py [line:10] INFO total model:gat epoch:30 loss:0.018943116068840027 val_loss:0.31520411372184753\n"
     ]
    },
    {
     "name": "stdout",
     "output_type": "stream",
     "text": [
      "12/12 [==============================] - 0s 19ms/step - loss: 0.0189 - measure_ratio_bad: 0.5573 - val_loss: 0.3152 - val_measure_ratio_bad: 1.0000\n",
      "Epoch 32/100\n",
      "11/12 [==========================>...] - ETA: 0s - loss: 0.0203 - measure_ratio_bad: 0.3523"
     ]
    },
    {
     "name": "stderr",
     "output_type": "stream",
     "text": [
      "2025-04-26 21:29:37 1515947590.py [line:10] INFO total model:gat epoch:31 loss:0.02027311734855175 val_loss:0.31462058424949646\n"
     ]
    },
    {
     "name": "stdout",
     "output_type": "stream",
     "text": [
      "12/12 [==============================] - 0s 23ms/step - loss: 0.0203 - measure_ratio_bad: 0.3854 - val_loss: 0.3146 - val_measure_ratio_bad: 1.0000\n",
      "Epoch 33/100\n",
      "11/12 [==========================>...] - ETA: 0s - loss: 0.0142 - measure_ratio_bad: 0.3864"
     ]
    },
    {
     "name": "stderr",
     "output_type": "stream",
     "text": [
      "2025-04-26 21:29:37 1515947590.py [line:10] INFO total model:gat epoch:32 loss:0.014247851446270943 val_loss:0.32069623470306396\n"
     ]
    },
    {
     "name": "stdout",
     "output_type": "stream",
     "text": [
      "12/12 [==============================] - 0s 19ms/step - loss: 0.0142 - measure_ratio_bad: 0.4167 - val_loss: 0.3207 - val_measure_ratio_bad: 1.0000\n",
      "Epoch 34/100\n",
      "11/12 [==========================>...] - ETA: 0s - loss: 0.0176 - measure_ratio_bad: 0.4034"
     ]
    },
    {
     "name": "stderr",
     "output_type": "stream",
     "text": [
      "2025-04-26 21:29:37 1515947590.py [line:10] INFO total model:gat epoch:33 loss:0.017495591193437576 val_loss:0.3267628848552704\n"
     ]
    },
    {
     "name": "stdout",
     "output_type": "stream",
     "text": [
      "12/12 [==============================] - 0s 19ms/step - loss: 0.0175 - measure_ratio_bad: 0.4115 - val_loss: 0.3268 - val_measure_ratio_bad: 1.0000\n",
      "Epoch 35/100\n",
      "12/12 [==============================] - ETA: 0s - loss: 0.0166 - measure_ratio_bad: 0.4115"
     ]
    },
    {
     "name": "stderr",
     "output_type": "stream",
     "text": [
      "2025-04-26 21:29:37 1515947590.py [line:10] INFO total model:gat epoch:34 loss:0.01657985895872116 val_loss:0.3243141770362854\n"
     ]
    },
    {
     "name": "stdout",
     "output_type": "stream",
     "text": [
      "12/12 [==============================] - 0s 21ms/step - loss: 0.0166 - measure_ratio_bad: 0.4115 - val_loss: 0.3243 - val_measure_ratio_bad: 1.0000\n",
      "Epoch 36/100\n",
      "11/12 [==========================>...] - ETA: 0s - loss: 0.0235 - measure_ratio_bad: 0.3977"
     ]
    },
    {
     "name": "stderr",
     "output_type": "stream",
     "text": [
      "2025-04-26 21:29:38 1515947590.py [line:10] INFO total model:gat epoch:35 loss:0.02320937253534794 val_loss:0.3236008584499359\n"
     ]
    },
    {
     "name": "stdout",
     "output_type": "stream",
     "text": [
      "12/12 [==============================] - 0s 18ms/step - loss: 0.0232 - measure_ratio_bad: 0.4271 - val_loss: 0.3236 - val_measure_ratio_bad: 1.0000\n",
      "Epoch 37/100\n",
      "11/12 [==========================>...] - ETA: 0s - loss: 0.0179 - measure_ratio_bad: 0.3693"
     ]
    },
    {
     "name": "stderr",
     "output_type": "stream",
     "text": [
      "2025-04-26 21:29:38 1515947590.py [line:10] INFO total model:gat epoch:36 loss:0.017657369375228882 val_loss:0.34490641951560974\n"
     ]
    },
    {
     "name": "stdout",
     "output_type": "stream",
     "text": [
      "12/12 [==============================] - 0s 18ms/step - loss: 0.0177 - measure_ratio_bad: 0.3594 - val_loss: 0.3449 - val_measure_ratio_bad: 1.0000\n",
      "Epoch 38/100\n",
      "10/12 [========================>.....] - ETA: 0s - loss: 0.0133 - measure_ratio_bad: 0.4000"
     ]
    },
    {
     "name": "stderr",
     "output_type": "stream",
     "text": [
      "2025-04-26 21:29:38 1515947590.py [line:10] INFO total model:gat epoch:37 loss:0.013523626141250134 val_loss:0.31562480330467224\n"
     ]
    },
    {
     "name": "stdout",
     "output_type": "stream",
     "text": [
      "12/12 [==============================] - 0s 19ms/step - loss: 0.0135 - measure_ratio_bad: 0.3542 - val_loss: 0.3156 - val_measure_ratio_bad: 1.0000\n",
      "Epoch 39/100\n",
      "11/12 [==========================>...] - ETA: 0s - loss: 0.0134 - measure_ratio_bad: 0.3295"
     ]
    },
    {
     "name": "stderr",
     "output_type": "stream",
     "text": [
      "2025-04-26 21:29:38 1515947590.py [line:10] INFO total model:gat epoch:38 loss:0.0133217703551054 val_loss:0.3360064923763275\n"
     ]
    },
    {
     "name": "stdout",
     "output_type": "stream",
     "text": [
      "12/12 [==============================] - 0s 19ms/step - loss: 0.0133 - measure_ratio_bad: 0.3646 - val_loss: 0.3360 - val_measure_ratio_bad: 1.0000\n",
      "Epoch 40/100\n",
      "11/12 [==========================>...] - ETA: 0s - loss: 0.0116 - measure_ratio_bad: 0.3011"
     ]
    },
    {
     "name": "stderr",
     "output_type": "stream",
     "text": [
      "2025-04-26 21:29:38 1515947590.py [line:10] INFO total model:gat epoch:39 loss:0.011419914662837982 val_loss:0.3378882110118866\n"
     ]
    },
    {
     "name": "stdout",
     "output_type": "stream",
     "text": [
      "12/12 [==============================] - 0s 18ms/step - loss: 0.0114 - measure_ratio_bad: 0.2760 - val_loss: 0.3379 - val_measure_ratio_bad: 1.0000\n",
      "Epoch 41/100\n",
      "11/12 [==========================>...] - ETA: 0s - loss: 0.0187 - measure_ratio_bad: 0.3295"
     ]
    },
    {
     "name": "stderr",
     "output_type": "stream",
     "text": [
      "2025-04-26 21:29:39 1515947590.py [line:10] INFO total model:gat epoch:40 loss:0.018445532768964767 val_loss:0.35882946848869324\n"
     ]
    },
    {
     "name": "stdout",
     "output_type": "stream",
     "text": [
      "12/12 [==============================] - 0s 19ms/step - loss: 0.0184 - measure_ratio_bad: 0.3229 - val_loss: 0.3588 - val_measure_ratio_bad: 1.0000\n",
      "Epoch 42/100\n",
      "10/12 [========================>.....] - ETA: 0s - loss: 0.0164 - measure_ratio_bad: 0.3812"
     ]
    },
    {
     "name": "stderr",
     "output_type": "stream",
     "text": [
      "2025-04-26 21:29:39 1515947590.py [line:10] INFO total model:gat epoch:41 loss:0.015557041391730309 val_loss:0.3629457354545593\n"
     ]
    },
    {
     "name": "stdout",
     "output_type": "stream",
     "text": [
      "12/12 [==============================] - 0s 19ms/step - loss: 0.0156 - measure_ratio_bad: 0.3750 - val_loss: 0.3629 - val_measure_ratio_bad: 1.0000\n",
      "Epoch 43/100\n",
      "11/12 [==========================>...] - ETA: 0s - loss: 0.0151 - measure_ratio_bad: 0.3523"
     ]
    },
    {
     "name": "stderr",
     "output_type": "stream",
     "text": [
      "2025-04-26 21:29:39 1515947590.py [line:10] INFO total model:gat epoch:42 loss:0.015052606351673603 val_loss:0.3604159653186798\n"
     ]
    },
    {
     "name": "stdout",
     "output_type": "stream",
     "text": [
      "12/12 [==============================] - 0s 19ms/step - loss: 0.0151 - measure_ratio_bad: 0.3646 - val_loss: 0.3604 - val_measure_ratio_bad: 1.0000\n",
      "Epoch 44/100\n",
      "10/12 [========================>.....] - ETA: 0s - loss: 0.0083 - measure_ratio_bad: 0.2750"
     ]
    },
    {
     "name": "stderr",
     "output_type": "stream",
     "text": [
      "2025-04-26 21:29:39 1515947590.py [line:10] INFO total model:gat epoch:43 loss:0.008133106864988804 val_loss:0.36694806814193726\n"
     ]
    },
    {
     "name": "stdout",
     "output_type": "stream",
     "text": [
      "12/12 [==============================] - 0s 19ms/step - loss: 0.0081 - measure_ratio_bad: 0.2500 - val_loss: 0.3669 - val_measure_ratio_bad: 1.0000\n",
      "Epoch 45/100\n",
      "10/12 [========================>.....] - ETA: 0s - loss: 0.0084 - measure_ratio_bad: 0.2375"
     ]
    },
    {
     "name": "stderr",
     "output_type": "stream",
     "text": [
      "2025-04-26 21:29:40 1515947590.py [line:10] INFO total model:gat epoch:44 loss:0.008262165822088718 val_loss:0.3687044680118561\n"
     ]
    },
    {
     "name": "stdout",
     "output_type": "stream",
     "text": [
      "12/12 [==============================] - 0s 19ms/step - loss: 0.0083 - measure_ratio_bad: 0.2240 - val_loss: 0.3687 - val_measure_ratio_bad: 1.0000\n",
      "Epoch 46/100\n",
      "11/12 [==========================>...] - ETA: 0s - loss: 0.0108 - measure_ratio_bad: 0.2898"
     ]
    },
    {
     "name": "stderr",
     "output_type": "stream",
     "text": [
      "2025-04-26 21:29:40 1515947590.py [line:10] INFO total model:gat epoch:45 loss:0.010649857111275196 val_loss:0.35164889693260193\n"
     ]
    },
    {
     "name": "stdout",
     "output_type": "stream",
     "text": [
      "12/12 [==============================] - 0s 18ms/step - loss: 0.0106 - measure_ratio_bad: 0.2656 - val_loss: 0.3516 - val_measure_ratio_bad: 1.0000\n",
      "Epoch 47/100\n",
      "11/12 [==========================>...] - ETA: 0s - loss: 0.0142 - measure_ratio_bad: 0.3352"
     ]
    },
    {
     "name": "stderr",
     "output_type": "stream",
     "text": [
      "2025-04-26 21:29:40 1515947590.py [line:10] INFO total model:gat epoch:46 loss:0.014088629744946957 val_loss:0.3774668574333191\n"
     ]
    },
    {
     "name": "stdout",
     "output_type": "stream",
     "text": [
      "12/12 [==============================] - 0s 18ms/step - loss: 0.0141 - measure_ratio_bad: 0.3281 - val_loss: 0.3775 - val_measure_ratio_bad: 1.0000\n",
      "Epoch 48/100\n",
      "11/12 [==========================>...] - ETA: 0s - loss: 0.0097 - measure_ratio_bad: 0.2955"
     ]
    },
    {
     "name": "stderr",
     "output_type": "stream",
     "text": [
      "2025-04-26 21:29:40 1515947590.py [line:10] INFO total model:gat epoch:47 loss:0.009644239209592342 val_loss:0.35398703813552856\n"
     ]
    },
    {
     "name": "stdout",
     "output_type": "stream",
     "text": [
      "12/12 [==============================] - 0s 19ms/step - loss: 0.0096 - measure_ratio_bad: 0.2917 - val_loss: 0.3540 - val_measure_ratio_bad: 1.0000\n",
      "Epoch 49/100\n",
      "10/12 [========================>.....] - ETA: 0s - loss: 0.0109 - measure_ratio_bad: 0.3000"
     ]
    },
    {
     "name": "stderr",
     "output_type": "stream",
     "text": [
      "2025-04-26 21:29:40 1515947590.py [line:10] INFO total model:gat epoch:48 loss:0.010797462426126003 val_loss:0.376527339220047\n"
     ]
    },
    {
     "name": "stdout",
     "output_type": "stream",
     "text": [
      "12/12 [==============================] - 0s 20ms/step - loss: 0.0108 - measure_ratio_bad: 0.2812 - val_loss: 0.3765 - val_measure_ratio_bad: 1.0000\n",
      "Epoch 50/100\n",
      "11/12 [==========================>...] - ETA: 0s - loss: 0.0095 - measure_ratio_bad: 0.3125"
     ]
    },
    {
     "name": "stderr",
     "output_type": "stream",
     "text": [
      "2025-04-26 21:29:41 1515947590.py [line:10] INFO total model:gat epoch:49 loss:0.009896479547023773 val_loss:0.35721907019615173\n"
     ]
    },
    {
     "name": "stdout",
     "output_type": "stream",
     "text": [
      "12/12 [==============================] - 0s 19ms/step - loss: 0.0099 - measure_ratio_bad: 0.3073 - val_loss: 0.3572 - val_measure_ratio_bad: 1.0000\n",
      "Epoch 51/100\n",
      "11/12 [==========================>...] - ETA: 0s - loss: 0.0081 - measure_ratio_bad: 0.2557"
     ]
    },
    {
     "name": "stderr",
     "output_type": "stream",
     "text": [
      "2025-04-26 21:29:41 1515947590.py [line:10] INFO total model:gat epoch:50 loss:0.007959188893437386 val_loss:0.34744617342948914\n"
     ]
    },
    {
     "name": "stdout",
     "output_type": "stream",
     "text": [
      "12/12 [==============================] - 0s 18ms/step - loss: 0.0080 - measure_ratio_bad: 0.2344 - val_loss: 0.3474 - val_measure_ratio_bad: 1.0000\n",
      "Epoch 52/100\n",
      "11/12 [==========================>...] - ETA: 0s - loss: 0.0105 - measure_ratio_bad: 0.2102"
     ]
    },
    {
     "name": "stderr",
     "output_type": "stream",
     "text": [
      "2025-04-26 21:29:41 1515947590.py [line:10] INFO total model:gat epoch:51 loss:0.01035410724580288 val_loss:0.368255615234375\n"
     ]
    },
    {
     "name": "stdout",
     "output_type": "stream",
     "text": [
      "12/12 [==============================] - 0s 18ms/step - loss: 0.0104 - measure_ratio_bad: 0.1927 - val_loss: 0.3683 - val_measure_ratio_bad: 1.0000\n",
      "Epoch 53/100\n",
      "11/12 [==========================>...] - ETA: 0s - loss: 0.0123 - measure_ratio_bad: 0.2443"
     ]
    },
    {
     "name": "stderr",
     "output_type": "stream",
     "text": [
      "2025-04-26 21:29:41 1515947590.py [line:10] INFO total model:gat epoch:52 loss:0.01227280031889677 val_loss:0.36978673934936523\n"
     ]
    },
    {
     "name": "stdout",
     "output_type": "stream",
     "text": [
      "12/12 [==============================] - 0s 18ms/step - loss: 0.0123 - measure_ratio_bad: 0.2448 - val_loss: 0.3698 - val_measure_ratio_bad: 1.0000\n",
      "Epoch 54/100\n",
      " 9/12 [=====================>........] - ETA: 0s - loss: 0.0100 - measure_ratio_bad: 0.2431"
     ]
    },
    {
     "name": "stderr",
     "output_type": "stream",
     "text": [
      "2025-04-26 21:29:42 1515947590.py [line:10] INFO total model:gat epoch:53 loss:0.010177782736718655 val_loss:0.36208394169807434\n"
     ]
    },
    {
     "name": "stdout",
     "output_type": "stream",
     "text": [
      "12/12 [==============================] - 0s 20ms/step - loss: 0.0102 - measure_ratio_bad: 0.2500 - val_loss: 0.3621 - val_measure_ratio_bad: 1.0000\n",
      "Epoch 55/100\n",
      " 9/12 [=====================>........] - ETA: 0s - loss: 0.0080 - measure_ratio_bad: 0.2292"
     ]
    },
    {
     "name": "stderr",
     "output_type": "stream",
     "text": [
      "2025-04-26 21:29:42 1515947590.py [line:10] INFO total model:gat epoch:54 loss:0.007604875601828098 val_loss:0.36722099781036377\n"
     ]
    },
    {
     "name": "stdout",
     "output_type": "stream",
     "text": [
      "12/12 [==============================] - 0s 20ms/step - loss: 0.0076 - measure_ratio_bad: 0.2031 - val_loss: 0.3672 - val_measure_ratio_bad: 1.0000\n",
      "Epoch 56/100\n",
      "11/12 [==========================>...] - ETA: 0s - loss: 0.0071 - measure_ratio_bad: 0.1761"
     ]
    },
    {
     "name": "stderr",
     "output_type": "stream",
     "text": [
      "2025-04-26 21:29:42 1515947590.py [line:10] INFO total model:gat epoch:55 loss:0.007082007825374603 val_loss:0.3660535216331482\n"
     ]
    },
    {
     "name": "stdout",
     "output_type": "stream",
     "text": [
      "12/12 [==============================] - 0s 18ms/step - loss: 0.0071 - measure_ratio_bad: 0.1823 - val_loss: 0.3661 - val_measure_ratio_bad: 1.0000\n",
      "Epoch 57/100\n",
      "11/12 [==========================>...] - ETA: 0s - loss: 0.0065 - measure_ratio_bad: 0.1364"
     ]
    },
    {
     "name": "stderr",
     "output_type": "stream",
     "text": [
      "2025-04-26 21:29:42 1515947590.py [line:10] INFO total model:gat epoch:56 loss:0.007134520914405584 val_loss:0.3627159893512726\n"
     ]
    },
    {
     "name": "stdout",
     "output_type": "stream",
     "text": [
      "12/12 [==============================] - 0s 19ms/step - loss: 0.0071 - measure_ratio_bad: 0.1458 - val_loss: 0.3627 - val_measure_ratio_bad: 1.0000\n",
      "Epoch 58/100\n",
      "11/12 [==========================>...] - ETA: 0s - loss: 0.0075 - measure_ratio_bad: 0.2727"
     ]
    },
    {
     "name": "stderr",
     "output_type": "stream",
     "text": [
      "2025-04-26 21:29:42 1515947590.py [line:10] INFO total model:gat epoch:57 loss:0.007526264525949955 val_loss:0.34509846568107605\n"
     ]
    },
    {
     "name": "stdout",
     "output_type": "stream",
     "text": [
      "12/12 [==============================] - 0s 18ms/step - loss: 0.0075 - measure_ratio_bad: 0.2708 - val_loss: 0.3451 - val_measure_ratio_bad: 1.0000\n",
      "Epoch 59/100\n",
      "11/12 [==========================>...] - ETA: 0s - loss: 0.0059 - measure_ratio_bad: 0.1591"
     ]
    },
    {
     "name": "stderr",
     "output_type": "stream",
     "text": [
      "2025-04-26 21:29:43 1515947590.py [line:10] INFO total model:gat epoch:58 loss:0.005892485845834017 val_loss:0.3618764877319336\n"
     ]
    },
    {
     "name": "stdout",
     "output_type": "stream",
     "text": [
      "12/12 [==============================] - 0s 19ms/step - loss: 0.0059 - measure_ratio_bad: 0.1458 - val_loss: 0.3619 - val_measure_ratio_bad: 1.0000\n",
      "Epoch 60/100\n",
      "11/12 [==========================>...] - ETA: 0s - loss: 0.0063 - measure_ratio_bad: 0.1648"
     ]
    },
    {
     "name": "stderr",
     "output_type": "stream",
     "text": [
      "2025-04-26 21:29:43 1515947590.py [line:10] INFO total model:gat epoch:59 loss:0.00619515823200345 val_loss:0.3675905764102936\n"
     ]
    },
    {
     "name": "stdout",
     "output_type": "stream",
     "text": [
      "12/12 [==============================] - 0s 18ms/step - loss: 0.0062 - measure_ratio_bad: 0.1510 - val_loss: 0.3676 - val_measure_ratio_bad: 1.0000\n",
      "Epoch 61/100\n",
      "11/12 [==========================>...] - ETA: 0s - loss: 0.0066 - measure_ratio_bad: 0.1818"
     ]
    },
    {
     "name": "stderr",
     "output_type": "stream",
     "text": [
      "2025-04-26 21:29:43 1515947590.py [line:10] INFO total model:gat epoch:60 loss:0.006605540402233601 val_loss:0.3594832122325897\n"
     ]
    },
    {
     "name": "stdout",
     "output_type": "stream",
     "text": [
      "12/12 [==============================] - 0s 19ms/step - loss: 0.0066 - measure_ratio_bad: 0.1875 - val_loss: 0.3595 - val_measure_ratio_bad: 1.0000\n",
      "Epoch 62/100\n",
      "11/12 [==========================>...] - ETA: 0s - loss: 0.0062 - measure_ratio_bad: 0.1477"
     ]
    },
    {
     "name": "stderr",
     "output_type": "stream",
     "text": [
      "2025-04-26 21:29:43 1515947590.py [line:10] INFO total model:gat epoch:61 loss:0.006167752668261528 val_loss:0.35908740758895874\n"
     ]
    },
    {
     "name": "stdout",
     "output_type": "stream",
     "text": [
      "12/12 [==============================] - 0s 19ms/step - loss: 0.0062 - measure_ratio_bad: 0.1354 - val_loss: 0.3591 - val_measure_ratio_bad: 1.0000\n",
      "Epoch 63/100\n",
      "11/12 [==========================>...] - ETA: 0s - loss: 0.0063 - measure_ratio_bad: 0.1477"
     ]
    },
    {
     "name": "stderr",
     "output_type": "stream",
     "text": [
      "2025-04-26 21:29:44 1515947590.py [line:10] INFO total model:gat epoch:62 loss:0.006223925389349461 val_loss:0.3522045314311981\n"
     ]
    },
    {
     "name": "stdout",
     "output_type": "stream",
     "text": [
      "12/12 [==============================] - 0s 18ms/step - loss: 0.0062 - measure_ratio_bad: 0.1354 - val_loss: 0.3522 - val_measure_ratio_bad: 1.0000\n",
      "Epoch 64/100\n",
      "10/12 [========================>.....] - ETA: 0s - loss: 0.0064 - measure_ratio_bad: 0.1688"
     ]
    },
    {
     "name": "stderr",
     "output_type": "stream",
     "text": [
      "2025-04-26 21:29:44 1515947590.py [line:10] INFO total model:gat epoch:63 loss:0.006596739403903484 val_loss:0.3601401448249817\n"
     ]
    },
    {
     "name": "stdout",
     "output_type": "stream",
     "text": [
      "12/12 [==============================] - 0s 19ms/step - loss: 0.0066 - measure_ratio_bad: 0.1875 - val_loss: 0.3601 - val_measure_ratio_bad: 1.0000\n",
      "Epoch 65/100\n",
      " 9/12 [=====================>........] - ETA: 0s - loss: 0.0050 - measure_ratio_bad: 0.1250"
     ]
    },
    {
     "name": "stderr",
     "output_type": "stream",
     "text": [
      "2025-04-26 21:29:44 1515947590.py [line:10] INFO total model:gat epoch:64 loss:0.0046967994421720505 val_loss:0.3545047342777252\n"
     ]
    },
    {
     "name": "stdout",
     "output_type": "stream",
     "text": [
      "12/12 [==============================] - 0s 19ms/step - loss: 0.0047 - measure_ratio_bad: 0.1094 - val_loss: 0.3545 - val_measure_ratio_bad: 1.0000\n",
      "Epoch 66/100\n",
      "11/12 [==========================>...] - ETA: 0s - loss: 0.0034 - measure_ratio_bad: 0.0739"
     ]
    },
    {
     "name": "stderr",
     "output_type": "stream",
     "text": [
      "2025-04-26 21:29:44 1515947590.py [line:10] INFO total model:gat epoch:65 loss:0.0034374436363577843 val_loss:0.3450801968574524\n"
     ]
    },
    {
     "name": "stdout",
     "output_type": "stream",
     "text": [
      "12/12 [==============================] - 0s 19ms/step - loss: 0.0034 - measure_ratio_bad: 0.0885 - val_loss: 0.3451 - val_measure_ratio_bad: 1.0000\n",
      "Epoch 67/100\n",
      "11/12 [==========================>...] - ETA: 0s - loss: 0.0063 - measure_ratio_bad: 0.1818"
     ]
    },
    {
     "name": "stderr",
     "output_type": "stream",
     "text": [
      "2025-04-26 21:29:44 1515947590.py [line:10] INFO total model:gat epoch:66 loss:0.0062900204211473465 val_loss:0.35067805647850037\n"
     ]
    },
    {
     "name": "stdout",
     "output_type": "stream",
     "text": [
      "12/12 [==============================] - 0s 18ms/step - loss: 0.0063 - measure_ratio_bad: 0.1875 - val_loss: 0.3507 - val_measure_ratio_bad: 1.0000\n",
      "Epoch 68/100\n",
      "11/12 [==========================>...] - ETA: 0s - loss: 0.0044 - measure_ratio_bad: 0.1193"
     ]
    },
    {
     "name": "stderr",
     "output_type": "stream",
     "text": [
      "2025-04-26 21:29:45 1515947590.py [line:10] INFO total model:gat epoch:67 loss:0.004350217059254646 val_loss:0.3471011817455292\n"
     ]
    },
    {
     "name": "stdout",
     "output_type": "stream",
     "text": [
      "12/12 [==============================] - 0s 18ms/step - loss: 0.0044 - measure_ratio_bad: 0.1094 - val_loss: 0.3471 - val_measure_ratio_bad: 1.0000\n",
      "Epoch 69/100\n",
      "11/12 [==========================>...] - ETA: 0s - loss: 0.0036 - measure_ratio_bad: 0.0568   "
     ]
    },
    {
     "name": "stderr",
     "output_type": "stream",
     "text": [
      "2025-04-26 21:29:45 1515947590.py [line:10] INFO total model:gat epoch:68 loss:0.0035782866179943085 val_loss:0.35030698776245117\n"
     ]
    },
    {
     "name": "stdout",
     "output_type": "stream",
     "text": [
      "12/12 [==============================] - 0s 18ms/step - loss: 0.0036 - measure_ratio_bad: 0.0521 - val_loss: 0.3503 - val_measure_ratio_bad: 1.0000\n",
      "Epoch 70/100\n",
      "11/12 [==========================>...] - ETA: 0s - loss: 0.0056 - measure_ratio_bad: 0.1420   "
     ]
    },
    {
     "name": "stderr",
     "output_type": "stream",
     "text": [
      "2025-04-26 21:29:45 1515947590.py [line:10] INFO total model:gat epoch:69 loss:0.005518223159015179 val_loss:0.35617369413375854\n"
     ]
    },
    {
     "name": "stdout",
     "output_type": "stream",
     "text": [
      "12/12 [==============================] - 0s 18ms/step - loss: 0.0055 - measure_ratio_bad: 0.1510 - val_loss: 0.3562 - val_measure_ratio_bad: 1.0000\n",
      "Epoch 71/100\n",
      "11/12 [==========================>...] - ETA: 0s - loss: 0.0047 - measure_ratio_bad: 0.1080"
     ]
    },
    {
     "name": "stderr",
     "output_type": "stream",
     "text": [
      "2025-04-26 21:29:45 1515947590.py [line:10] INFO total model:gat epoch:70 loss:0.004627993330359459 val_loss:0.36479827761650085\n"
     ]
    },
    {
     "name": "stdout",
     "output_type": "stream",
     "text": [
      "12/12 [==============================] - 0s 19ms/step - loss: 0.0046 - measure_ratio_bad: 0.1198 - val_loss: 0.3648 - val_measure_ratio_bad: 1.0000\n",
      "Epoch 72/100\n",
      "10/12 [========================>.....] - ETA: 0s - loss: 0.0034 - measure_ratio_bad: 0.0875"
     ]
    },
    {
     "name": "stderr",
     "output_type": "stream",
     "text": [
      "2025-04-26 21:29:46 1515947590.py [line:10] INFO total model:gat epoch:71 loss:0.0033881093841046095 val_loss:0.3488767445087433\n"
     ]
    },
    {
     "name": "stdout",
     "output_type": "stream",
     "text": [
      "12/12 [==============================] - 0s 19ms/step - loss: 0.0034 - measure_ratio_bad: 0.0833 - val_loss: 0.3489 - val_measure_ratio_bad: 1.0000\n",
      "Epoch 73/100\n",
      "10/12 [========================>.....] - ETA: 0s - loss: 0.0044 - measure_ratio_bad: 0.1187"
     ]
    },
    {
     "name": "stderr",
     "output_type": "stream",
     "text": [
      "2025-04-26 21:29:46 1515947590.py [line:10] INFO total model:gat epoch:72 loss:0.0040004984475672245 val_loss:0.3483808636665344\n"
     ]
    },
    {
     "name": "stdout",
     "output_type": "stream",
     "text": [
      "12/12 [==============================] - 0s 19ms/step - loss: 0.0040 - measure_ratio_bad: 0.0990 - val_loss: 0.3484 - val_measure_ratio_bad: 1.0000\n",
      "Epoch 74/100\n",
      "11/12 [==========================>...] - ETA: 0s - loss: 0.0044 - measure_ratio_bad: 0.0909"
     ]
    },
    {
     "name": "stderr",
     "output_type": "stream",
     "text": [
      "2025-04-26 21:29:46 1515947590.py [line:10] INFO total model:gat epoch:73 loss:0.004309841897338629 val_loss:0.34889549016952515\n"
     ]
    },
    {
     "name": "stdout",
     "output_type": "stream",
     "text": [
      "12/12 [==============================] - 0s 18ms/step - loss: 0.0043 - measure_ratio_bad: 0.0833 - val_loss: 0.3489 - val_measure_ratio_bad: 1.0000\n",
      "Epoch 75/100\n",
      "11/12 [==========================>...] - ETA: 0s - loss: 0.0031 - measure_ratio_bad: 0.0682   "
     ]
    },
    {
     "name": "stderr",
     "output_type": "stream",
     "text": [
      "2025-04-26 21:29:46 1515947590.py [line:10] INFO total model:gat epoch:74 loss:0.003217297839000821 val_loss:0.34678545594215393\n"
     ]
    },
    {
     "name": "stdout",
     "output_type": "stream",
     "text": [
      "12/12 [==============================] - 0s 18ms/step - loss: 0.0032 - measure_ratio_bad: 0.0833 - val_loss: 0.3468 - val_measure_ratio_bad: 1.0000\n",
      "Epoch 76/100\n",
      "10/12 [========================>.....] - ETA: 0s - loss: 0.0041 - measure_ratio_bad: 0.1250"
     ]
    },
    {
     "name": "stderr",
     "output_type": "stream",
     "text": [
      "2025-04-26 21:29:46 1515947590.py [line:10] INFO total model:gat epoch:75 loss:0.004533189348876476 val_loss:0.349759042263031\n"
     ]
    },
    {
     "name": "stdout",
     "output_type": "stream",
     "text": [
      "12/12 [==============================] - 0s 19ms/step - loss: 0.0045 - measure_ratio_bad: 0.1302 - val_loss: 0.3498 - val_measure_ratio_bad: 1.0000\n",
      "Epoch 77/100\n",
      "12/12 [==============================] - ETA: 0s - loss: 0.0042 - measure_ratio_bad: 0.0885  "
     ]
    },
    {
     "name": "stderr",
     "output_type": "stream",
     "text": [
      "2025-04-26 21:29:47 1515947590.py [line:10] INFO total model:gat epoch:76 loss:0.004175268579274416 val_loss:0.34965217113494873\n"
     ]
    },
    {
     "name": "stdout",
     "output_type": "stream",
     "text": [
      "12/12 [==============================] - 0s 22ms/step - loss: 0.0042 - measure_ratio_bad: 0.0885 - val_loss: 0.3497 - val_measure_ratio_bad: 1.0000\n",
      "Epoch 78/100\n",
      " 9/12 [=====================>........] - ETA: 0s - loss: 0.0036 - measure_ratio_bad: 0.0903   "
     ]
    },
    {
     "name": "stderr",
     "output_type": "stream",
     "text": [
      "2025-04-26 21:29:47 1515947590.py [line:10] INFO total model:gat epoch:77 loss:0.0036940942518413067 val_loss:0.3474407494068146\n"
     ]
    },
    {
     "name": "stdout",
     "output_type": "stream",
     "text": [
      "12/12 [==============================] - 0s 20ms/step - loss: 0.0037 - measure_ratio_bad: 0.0781 - val_loss: 0.3474 - val_measure_ratio_bad: 1.0000\n",
      "Epoch 79/100\n",
      "11/12 [==========================>...] - ETA: 0s - loss: 0.0024 - measure_ratio_bad: 0.0284   "
     ]
    },
    {
     "name": "stderr",
     "output_type": "stream",
     "text": [
      "2025-04-26 21:29:47 1515947590.py [line:10] INFO total model:gat epoch:78 loss:0.0023517829831689596 val_loss:0.34030675888061523\n"
     ]
    },
    {
     "name": "stdout",
     "output_type": "stream",
     "text": [
      "12/12 [==============================] - 0s 19ms/step - loss: 0.0024 - measure_ratio_bad: 0.0260 - val_loss: 0.3403 - val_measure_ratio_bad: 1.0000\n",
      "Epoch 80/100\n",
      "11/12 [==========================>...] - ETA: 0s - loss: 0.0026 - measure_ratio_bad: 0.0398"
     ]
    },
    {
     "name": "stderr",
     "output_type": "stream",
     "text": [
      "2025-04-26 21:29:47 1515947590.py [line:10] INFO total model:gat epoch:79 loss:0.0025672756601125 val_loss:0.33724766969680786\n"
     ]
    },
    {
     "name": "stdout",
     "output_type": "stream",
     "text": [
      "12/12 [==============================] - 0s 18ms/step - loss: 0.0026 - measure_ratio_bad: 0.0365 - val_loss: 0.3372 - val_measure_ratio_bad: 1.0000\n",
      "Epoch 81/100\n",
      "11/12 [==========================>...] - ETA: 0s - loss: 0.0026 - measure_ratio_bad: 0.0511"
     ]
    },
    {
     "name": "stderr",
     "output_type": "stream",
     "text": [
      "2025-04-26 21:29:48 1515947590.py [line:10] INFO total model:gat epoch:80 loss:0.0026328167878091335 val_loss:0.34008997678756714\n"
     ]
    },
    {
     "name": "stdout",
     "output_type": "stream",
     "text": [
      "12/12 [==============================] - 0s 18ms/step - loss: 0.0026 - measure_ratio_bad: 0.0677 - val_loss: 0.3401 - val_measure_ratio_bad: 1.0000\n",
      "Epoch 82/100\n",
      "11/12 [==========================>...] - ETA: 0s - loss: 0.0023 - measure_ratio_bad: 0.0341   "
     ]
    },
    {
     "name": "stderr",
     "output_type": "stream",
     "text": [
      "2025-04-26 21:29:48 1515947590.py [line:10] INFO total model:gat epoch:81 loss:0.0023064250126481056 val_loss:0.33567488193511963\n"
     ]
    },
    {
     "name": "stdout",
     "output_type": "stream",
     "text": [
      "12/12 [==============================] - 0s 19ms/step - loss: 0.0023 - measure_ratio_bad: 0.0312 - val_loss: 0.3357 - val_measure_ratio_bad: 1.0000\n",
      "Epoch 83/100\n",
      "11/12 [==========================>...] - ETA: 0s - loss: 0.0031 - measure_ratio_bad: 0.0568"
     ]
    },
    {
     "name": "stderr",
     "output_type": "stream",
     "text": [
      "2025-04-26 21:29:48 1515947590.py [line:10] INFO total model:gat epoch:82 loss:0.0031110618729144335 val_loss:0.3506332039833069\n"
     ]
    },
    {
     "name": "stdout",
     "output_type": "stream",
     "text": [
      "12/12 [==============================] - 0s 19ms/step - loss: 0.0031 - measure_ratio_bad: 0.0521 - val_loss: 0.3506 - val_measure_ratio_bad: 1.0000\n",
      "Epoch 84/100\n",
      "10/12 [========================>.....] - ETA: 0s - loss: 0.0032 - measure_ratio_bad: 0.0625"
     ]
    },
    {
     "name": "stderr",
     "output_type": "stream",
     "text": [
      "2025-04-26 21:29:48 1515947590.py [line:10] INFO total model:gat epoch:83 loss:0.003109545214101672 val_loss:0.35437440872192383\n"
     ]
    },
    {
     "name": "stdout",
     "output_type": "stream",
     "text": [
      "12/12 [==============================] - 0s 19ms/step - loss: 0.0031 - measure_ratio_bad: 0.0521 - val_loss: 0.3544 - val_measure_ratio_bad: 1.0000\n",
      "Epoch 85/100\n",
      "10/12 [========================>.....] - ETA: 0s - loss: 0.0028 - measure_ratio_bad: 0.0437"
     ]
    },
    {
     "name": "stderr",
     "output_type": "stream",
     "text": [
      "2025-04-26 21:29:48 1515947590.py [line:10] INFO total model:gat epoch:84 loss:0.0026345590595155954 val_loss:0.35143062472343445\n"
     ]
    },
    {
     "name": "stdout",
     "output_type": "stream",
     "text": [
      "12/12 [==============================] - 0s 19ms/step - loss: 0.0026 - measure_ratio_bad: 0.0365 - val_loss: 0.3514 - val_measure_ratio_bad: 1.0000\n",
      "Epoch 86/100\n",
      "10/12 [========================>.....] - ETA: 0s - loss: 0.0021 - measure_ratio_bad: 0.0375   "
     ]
    },
    {
     "name": "stderr",
     "output_type": "stream",
     "text": [
      "2025-04-26 21:29:49 1515947590.py [line:10] INFO total model:gat epoch:85 loss:0.0022640121169388294 val_loss:0.3534733057022095\n"
     ]
    },
    {
     "name": "stdout",
     "output_type": "stream",
     "text": [
      "12/12 [==============================] - 0s 19ms/step - loss: 0.0023 - measure_ratio_bad: 0.0365 - val_loss: 0.3535 - val_measure_ratio_bad: 1.0000\n",
      "Epoch 87/100\n",
      "11/12 [==========================>...] - ETA: 0s - loss: 0.0026 - measure_ratio_bad: 0.0398"
     ]
    },
    {
     "name": "stderr",
     "output_type": "stream",
     "text": [
      "2025-04-26 21:29:49 1515947590.py [line:10] INFO total model:gat epoch:86 loss:0.00261509302072227 val_loss:0.34413638710975647\n"
     ]
    },
    {
     "name": "stdout",
     "output_type": "stream",
     "text": [
      "12/12 [==============================] - 0s 18ms/step - loss: 0.0026 - measure_ratio_bad: 0.0365 - val_loss: 0.3441 - val_measure_ratio_bad: 1.0000\n",
      "Epoch 88/100\n",
      " 9/12 [=====================>........] - ETA: 0s - loss: 0.0020 - measure_ratio_bad: 0.0278       "
     ]
    },
    {
     "name": "stderr",
     "output_type": "stream",
     "text": [
      "2025-04-26 21:29:49 1515947590.py [line:10] INFO total model:gat epoch:87 loss:0.0019135137554258108 val_loss:0.34335580468177795\n"
     ]
    },
    {
     "name": "stdout",
     "output_type": "stream",
     "text": [
      "12/12 [==============================] - 0s 20ms/step - loss: 0.0019 - measure_ratio_bad: 0.0260 - val_loss: 0.3434 - val_measure_ratio_bad: 1.0000\n",
      "Epoch 89/100\n",
      "10/12 [========================>.....] - ETA: 0s - loss: 0.0038 - measure_ratio_bad: 0.0875"
     ]
    },
    {
     "name": "stderr",
     "output_type": "stream",
     "text": [
      "2025-04-26 21:29:49 1515947590.py [line:10] INFO total model:gat epoch:88 loss:0.003657704684883356 val_loss:0.3380865752696991\n"
     ]
    },
    {
     "name": "stdout",
     "output_type": "stream",
     "text": [
      "12/12 [==============================] - 0s 20ms/step - loss: 0.0037 - measure_ratio_bad: 0.0781 - val_loss: 0.3381 - val_measure_ratio_bad: 1.0000\n",
      "Epoch 90/100\n",
      "11/12 [==========================>...] - ETA: 0s - loss: 0.0030 - measure_ratio_bad: 0.0511"
     ]
    },
    {
     "name": "stderr",
     "output_type": "stream",
     "text": [
      "2025-04-26 21:29:50 1515947590.py [line:10] INFO total model:gat epoch:89 loss:0.0029846467077732086 val_loss:0.3475165069103241\n"
     ]
    },
    {
     "name": "stdout",
     "output_type": "stream",
     "text": [
      "12/12 [==============================] - 0s 19ms/step - loss: 0.0030 - measure_ratio_bad: 0.0469 - val_loss: 0.3475 - val_measure_ratio_bad: 1.0000\n",
      "Epoch 91/100\n",
      "11/12 [==========================>...] - ETA: 0s - loss: 0.0023 - measure_ratio_bad: 0.0284"
     ]
    },
    {
     "name": "stderr",
     "output_type": "stream",
     "text": [
      "2025-04-26 21:29:50 1515947590.py [line:10] INFO total model:gat epoch:90 loss:0.0022497347090393305 val_loss:0.34835243225097656\n"
     ]
    },
    {
     "name": "stdout",
     "output_type": "stream",
     "text": [
      "12/12 [==============================] - 0s 20ms/step - loss: 0.0022 - measure_ratio_bad: 0.0260 - val_loss: 0.3484 - val_measure_ratio_bad: 1.0000\n",
      "Epoch 92/100\n",
      "11/12 [==========================>...] - ETA: 0s - loss: 0.0021 - measure_ratio_bad: 0.0341"
     ]
    },
    {
     "name": "stderr",
     "output_type": "stream",
     "text": [
      "2025-04-26 21:29:50 1515947590.py [line:10] INFO total model:gat epoch:91 loss:0.0020993598736822605 val_loss:0.3431347608566284\n"
     ]
    },
    {
     "name": "stdout",
     "output_type": "stream",
     "text": [
      "12/12 [==============================] - 0s 19ms/step - loss: 0.0021 - measure_ratio_bad: 0.0312 - val_loss: 0.3431 - val_measure_ratio_bad: 1.0000\n",
      "Epoch 93/100\n",
      "11/12 [==========================>...] - ETA: 0s - loss: 0.0022 - measure_ratio_bad: 0.0455"
     ]
    },
    {
     "name": "stderr",
     "output_type": "stream",
     "text": [
      "2025-04-26 21:29:50 1515947590.py [line:10] INFO total model:gat epoch:92 loss:0.0021560790482908487 val_loss:0.3452349901199341\n"
     ]
    },
    {
     "name": "stdout",
     "output_type": "stream",
     "text": [
      "12/12 [==============================] - 0s 17ms/step - loss: 0.0022 - measure_ratio_bad: 0.0417 - val_loss: 0.3452 - val_measure_ratio_bad: 1.0000\n",
      "Epoch 94/100\n",
      "10/12 [========================>.....] - ETA: 0s - loss: 0.0017 - measure_ratio_bad: 0.0250"
     ]
    },
    {
     "name": "stderr",
     "output_type": "stream",
     "text": [
      "2025-04-26 21:29:50 1515947590.py [line:10] INFO total model:gat epoch:93 loss:0.001665957155637443 val_loss:0.3356274962425232\n"
     ]
    },
    {
     "name": "stdout",
     "output_type": "stream",
     "text": [
      "12/12 [==============================] - 0s 19ms/step - loss: 0.0017 - measure_ratio_bad: 0.0208 - val_loss: 0.3356 - val_measure_ratio_bad: 1.0000\n",
      "Epoch 95/100\n",
      "11/12 [==========================>...] - ETA: 0s - loss: 0.0023 - measure_ratio_bad: 0.0341   "
     ]
    },
    {
     "name": "stderr",
     "output_type": "stream",
     "text": [
      "2025-04-26 21:29:51 1515947590.py [line:10] INFO total model:gat epoch:94 loss:0.00228312099352479 val_loss:0.3297886550426483\n"
     ]
    },
    {
     "name": "stdout",
     "output_type": "stream",
     "text": [
      "12/12 [==============================] - 0s 18ms/step - loss: 0.0023 - measure_ratio_bad: 0.0312 - val_loss: 0.3298 - val_measure_ratio_bad: 1.0000\n",
      "Epoch 96/100\n",
      "10/12 [========================>.....] - ETA: 0s - loss: 0.0034 - measure_ratio_bad: 0.0688"
     ]
    },
    {
     "name": "stderr",
     "output_type": "stream",
     "text": [
      "2025-04-26 21:29:51 1515947590.py [line:10] INFO total model:gat epoch:95 loss:0.0032317317090928555 val_loss:0.3382813036441803\n"
     ]
    },
    {
     "name": "stdout",
     "output_type": "stream",
     "text": [
      "12/12 [==============================] - 0s 18ms/step - loss: 0.0032 - measure_ratio_bad: 0.0625 - val_loss: 0.3383 - val_measure_ratio_bad: 1.0000\n",
      "Epoch 97/100\n",
      "11/12 [==========================>...] - ETA: 0s - loss: 0.0021 - measure_ratio_bad: 0.0511       "
     ]
    },
    {
     "name": "stderr",
     "output_type": "stream",
     "text": [
      "2025-04-26 21:29:51 1515947590.py [line:10] INFO total model:gat epoch:96 loss:0.00220878585241735 val_loss:0.3489247262477875\n"
     ]
    },
    {
     "name": "stdout",
     "output_type": "stream",
     "text": [
      "12/12 [==============================] - 0s 18ms/step - loss: 0.0022 - measure_ratio_bad: 0.0677 - val_loss: 0.3489 - val_measure_ratio_bad: 1.0000\n",
      "Epoch 98/100\n",
      "11/12 [==========================>...] - ETA: 0s - loss: 0.0026 - measure_ratio_bad: 0.0455"
     ]
    },
    {
     "name": "stderr",
     "output_type": "stream",
     "text": [
      "2025-04-26 21:29:51 1515947590.py [line:10] INFO total model:gat epoch:97 loss:0.002717031864449382 val_loss:0.35168901085853577\n"
     ]
    },
    {
     "name": "stdout",
     "output_type": "stream",
     "text": [
      "12/12 [==============================] - 0s 19ms/step - loss: 0.0027 - measure_ratio_bad: 0.0625 - val_loss: 0.3517 - val_measure_ratio_bad: 1.0000\n",
      "Epoch 99/100\n",
      "10/12 [========================>.....] - ETA: 0s - loss: 0.0035 - measure_ratio_bad: 0.0562   "
     ]
    },
    {
     "name": "stderr",
     "output_type": "stream",
     "text": [
      "2025-04-26 21:29:52 1515947590.py [line:10] INFO total model:gat epoch:98 loss:0.003630845109000802 val_loss:0.3452919125556946\n"
     ]
    },
    {
     "name": "stdout",
     "output_type": "stream",
     "text": [
      "12/12 [==============================] - 0s 19ms/step - loss: 0.0036 - measure_ratio_bad: 0.0573 - val_loss: 0.3453 - val_measure_ratio_bad: 1.0000\n",
      "Epoch 100/100\n",
      "11/12 [==========================>...] - ETA: 0s - loss: 0.0025 - measure_ratio_bad: 0.0341   "
     ]
    },
    {
     "name": "stderr",
     "output_type": "stream",
     "text": [
      "2025-04-26 21:29:52 1515947590.py [line:10] INFO total model:gat epoch:99 loss:0.0024773781187832355 val_loss:0.3367035984992981\n"
     ]
    },
    {
     "name": "stdout",
     "output_type": "stream",
     "text": [
      "12/12 [==============================] - 0s 19ms/step - loss: 0.0025 - measure_ratio_bad: 0.0312 - val_loss: 0.3367 - val_measure_ratio_bad: 1.0000\n"
     ]
    },
    {
     "name": "stderr",
     "output_type": "stream",
     "text": [
      "2025-04-26 21:29:52 1515947590.py [line:33] INFO model total train done epoch: 100, time: 28.372498035430908s\n",
      "2025-04-26 21:29:52 1515947590.py [line:34] INFO -----------------model total train end-------------------\n"
     ]
    },
    {
     "data": {
      "image/png": "[encoded data removed]",
      "text/plain": [
       "<Figure size 640x480 with 1 Axes>"
      ]
     },
     "metadata": {},
     "output_type": "display_data"
    }
   ],
   "source": [
    "if USE_TENSORBOARD and TRAIN:\n",
    "\tfrom spektral.data import BatchLoader\n",
    "\n",
    "\tloader_train = BatchLoader(train_data_total, batch_size=batch_size, shuffle=True)\n",
    "\tloader_valid = BatchLoader(valid_data_total, batch_size=batch_size, shuffle=True)\n",
    "\n",
    "\ttb_callback = tf.keras.callbacks.TensorBoard(log_dir=os.path.join(dir_tensorboard, (f'{model_name}_total_lr{lr}'\n",
    "\t\t\t\t\t\t\t\t\t\t\t\t\t\t\t\t   \t\t\t\t\t\t\t\t\t\t\t\t\t\t\t\t\tf'_batchsize{batch_size}_epochs{epochs}_ndm{ndm}_seed{seed}')))\n",
    "\tlog_callback = tf.keras.callbacks.LambdaCallback(\n",
    "\t\ton_epoch_end=lambda epoch, logs: logging.info(f'total model:{model_name} epoch:{epoch} loss:{logs[\"loss\"]} val_loss:{logs[\"val_loss\"]}')\n",
    "\t)\n",
    "\tsave_callback = tf.keras.callbacks.ModelCheckpoint(\n",
    "\t\tfilepath=os.path.join(dir_params, f'{model_name}_total_best_lr{lr}_batchsize{batch_size}_epochs{epochs}_ndm{ndm}_seed{seed}.h5'),\n",
    "\t\tmonitor='val_loss',\n",
    "\t\tsave_best_only=True,\n",
    "\t\tsave_weights_only=True,\n",
    "\t\tmode='auto',\n",
    "\t\tperiod=1\n",
    "\t)\n",
    "\n",
    "\t# train model\n",
    "\tstart = time.time()\n",
    "\tlogging.info('----------------model total train start------------------')\n",
    "\thistory = model_total.fit(loader_train.load(),\n",
    "\t\t\t\t\t\t\t\t\t\t\t\t\t\tvalidation_data=loader_valid.load(),\n",
    "\t\t\t\t\t\t\t\t\t\t\t\t\t\tsteps_per_epoch=loader_train.steps_per_epoch,\n",
    "\t\t\t\t\t\t\t\t\t\t\t\t\t\tvalidation_steps=loader_valid.steps_per_epoch,\n",
    "\t\t\t\t\t\t\t\t\t\t\t\t\t\tepochs=epochs,\n",
    "\t\t\t\t\t\t\t\t\t\t\t\t\t\tshuffle=False,\n",
    "\t\t\t\t\t\t\t\t\t\t\t\t\t\tcallbacks=[tb_callback, log_callback, save_callback])\n",
    "\n",
    "\tend = time.time()\n",
    "\tlogging.info(f'model total train done epoch: {epochs}, time: {end - start}s')\n",
    "\tlogging.info('-----------------model total train end-------------------')\n",
    "\n",
    "\t# plot \n",
    "\tplt.figure()\n",
    "\tplt.plot(history.history['loss'], label='train loss')\n",
    "\tplt.plot(history.history['val_loss'], label='valid loss')\n",
    "\tplt.legend()\n",
    "\tplt.xlabel('epoch')\n",
    "\tplt.ylabel('loss')\n",
    "\n",
    "\t# save picture\n",
    "\tplt_save_path = os.path.join(dir_results, f\"{model_name}_total_lr{lr}_batchsize{batch_size}_epochs{epochs}_ndm{ndm}_seed{seed}.jpg\")\n",
    "\tplt.savefig(plt_save_path)"
   ]
  },
  {
   "cell_type": "markdown",
   "metadata": {},
   "source": [
    "#### 模型测试"
   ]
  },
  {
   "cell_type": "code",
   "execution_count": 15,
   "metadata": {},
   "outputs": [
    {
     "name": "stderr",
     "output_type": "stream",
     "text": [
      "d:\\learn_more_from_life\\computer\\EDA\\work\\prj\\rc_predict\\code\\spektral\\data\\utils.py:221: UserWarning: you are shuffling a 'MyDataset' object which is not a subclass of 'Sequence'; `shuffle` is not guaranteed to behave correctly. E.g., non-numpy array/tensor objects with view semantics may contain duplicates after shuffling.\n",
      "  np.random.shuffle(a)\n"
     ]
    },
    {
     "name": "stdout",
     "output_type": "stream",
     "text": [
      "1/1 [==============================] - 2s 2s/step - loss: 0.9991 - measure_ratio_bad: 1.0000\n",
      "Model: \"gat_4\"\n",
      "_________________________________________________________________\n",
      " Layer (type)                Output Shape              Param #   \n",
      "=================================================================\n",
      " gat_conv_12 (GATConv)       multiple                  896       \n",
      "                                                                 \n",
      " gat_conv_13 (GATConv)       multiple                  3296      \n",
      "                                                                 \n",
      " gat_conv_14 (GATConv)       multiple                  3296      \n",
      "                                                                 \n",
      " global_max_pool_4 (GlobalMa  multiple                 0         \n",
      " xPool)                                                          \n",
      "                                                                 \n",
      " dense_8 (Dense)             multiple                  2112      \n",
      "                                                                 \n",
      " dense_9 (Dense)             multiple                  65        \n",
      "                                                                 \n",
      "=================================================================\n",
      "Total params: 9,665\n",
      "Trainable params: 9,665\n",
      "Non-trainable params: 0\n",
      "_________________________________________________________________\n",
      "12/12 [==============================] - 0s 5ms/step\n",
      "4/4 [==============================] - 0s 5ms/step\n",
      "4/4 [==============================] - 0s 5ms/step\n",
      "gat train analysis\n",
      "min error: 0.35004282\n",
      "max error: 0.39917672\n",
      "mean error: 0.37388504\n",
      "std error: 0.01146859\n",
      "good ratio: 0.0\n",
      "bad ratio: 1.0\n",
      "\n",
      "gat valid analysis\n",
      "min error: 0.34790123\n",
      "max error: 0.3964057\n",
      "mean error: 0.37360933\n",
      "std error: 0.011909042\n",
      "good ratio: 0.0\n",
      "bad ratio: 1.0\n",
      "\n",
      "gat test analysis\n",
      "min error: 0.35338715\n",
      "max error: 0.3955703\n",
      "mean error: 0.37444624\n",
      "std error: 0.0110318195\n",
      "good ratio: 0.0\n",
      "bad ratio: 1.0\n",
      "\n",
      "12/12 [==============================] - 0s 5ms/step\n",
      "4/4 [==============================] - 0s 5ms/step\n",
      "4/4 [==============================] - 0s 5ms/step\n"
     ]
    },
    {
     "ename": "ValueError",
     "evalue": "all the input array dimensions for the concatenation axis must match exactly, but along dimension 0, the array at index 0 has size 180 and the array at index 1 has size 60",
     "output_type": "error",
     "traceback": [
      "\u001b[1;31m---------------------------------------------------------------------------\u001b[0m",
      "\u001b[1;31mValueError\u001b[0m                                Traceback (most recent call last)",
      "Cell \u001b[1;32mIn[15], line 33\u001b[0m\n\u001b[0;32m     30\u001b[0m data_total \u001b[38;5;241m=\u001b[39m pd\u001b[38;5;241m.\u001b[39mSeries(dict_total)\u001b[38;5;241m.\u001b[39mto_frame(name\u001b[38;5;241m=\u001b[39m\u001b[38;5;124m'\u001b[39m\u001b[38;5;124mtotal\u001b[39m\u001b[38;5;124m'\u001b[39m)\u001b[38;5;241m.\u001b[39mT\n\u001b[0;32m     32\u001b[0m \u001b[38;5;66;03m# scatter plot\u001b[39;00m\n\u001b[1;32m---> 33\u001b[0m \u001b[43mgnn_plot\u001b[49m\u001b[43m(\u001b[49m\u001b[43mmodel_total\u001b[49m\u001b[43m,\u001b[49m\u001b[43m \u001b[49m\u001b[43mbatch_size\u001b[49m\u001b[43m,\u001b[49m\u001b[43m \u001b[49m\n\u001b[0;32m     34\u001b[0m \u001b[43m\t\t\t\t\u001b[49m\u001b[43mtrain_data_total\u001b[49m\u001b[43m,\u001b[49m\u001b[43m \u001b[49m\u001b[43myt_train\u001b[49m\u001b[43m,\u001b[49m\n\u001b[0;32m     35\u001b[0m \u001b[43m\t\t\t\t\u001b[49m\u001b[43mvalid_data_total\u001b[49m\u001b[43m,\u001b[49m\u001b[43m \u001b[49m\u001b[43myt_valid\u001b[49m\u001b[43m,\u001b[49m\n\u001b[0;32m     36\u001b[0m \u001b[43m\t\t\t\t\u001b[49m\u001b[43mtest_data_total\u001b[49m\u001b[43m,\u001b[49m\u001b[43m \u001b[49m\u001b[43myt_test\u001b[49m\u001b[43m,\u001b[49m\u001b[43m \u001b[49m\u001b[38;5;28;43mdir\u001b[39;49m\u001b[38;5;241;43m=\u001b[39;49m\u001b[43mdir_results\u001b[49m\u001b[43m,\u001b[49m\n\u001b[0;32m     37\u001b[0m \u001b[43m\t\t\t\t\u001b[49m\u001b[43mname\u001b[49m\u001b[38;5;241;43m=\u001b[39;49m\u001b[38;5;124;43mf\u001b[39;49m\u001b[38;5;124;43m'\u001b[39;49m\u001b[38;5;132;43;01m{\u001b[39;49;00m\u001b[43mmodel_name\u001b[49m\u001b[38;5;132;43;01m}\u001b[39;49;00m\u001b[38;5;124;43m_total_lr\u001b[39;49m\u001b[38;5;132;43;01m{\u001b[39;49;00m\u001b[43mlr\u001b[49m\u001b[38;5;132;43;01m}\u001b[39;49;00m\u001b[38;5;124;43m_batchsize\u001b[39;49m\u001b[38;5;132;43;01m{\u001b[39;49;00m\u001b[43mbatch_size\u001b[49m\u001b[38;5;132;43;01m}\u001b[39;49;00m\u001b[38;5;124;43m_epochs\u001b[39;49m\u001b[38;5;132;43;01m{\u001b[39;49;00m\u001b[43mepochs\u001b[49m\u001b[38;5;132;43;01m}\u001b[39;49;00m\u001b[38;5;124;43m_ndm\u001b[39;49m\u001b[38;5;132;43;01m{\u001b[39;49;00m\u001b[43mndm\u001b[49m\u001b[38;5;132;43;01m}\u001b[39;49;00m\u001b[38;5;124;43m_seed\u001b[39;49m\u001b[38;5;132;43;01m{\u001b[39;49;00m\u001b[43mseed\u001b[49m\u001b[38;5;132;43;01m}\u001b[39;49;00m\u001b[38;5;124;43m'\u001b[39;49m\u001b[43m)\u001b[49m\n\u001b[0;32m     39\u001b[0m \u001b[38;5;66;03m# save results\u001b[39;00m\n\u001b[0;32m     40\u001b[0m data_total\u001b[38;5;241m.\u001b[39mto_csv(os\u001b[38;5;241m.\u001b[39mpath\u001b[38;5;241m.\u001b[39mjoin(dir_results, \u001b[38;5;124mf\u001b[39m\u001b[38;5;124m\"\u001b[39m\u001b[38;5;132;01m{\u001b[39;00mmodel_name\u001b[38;5;132;01m}\u001b[39;00m\u001b[38;5;124m_total_lr\u001b[39m\u001b[38;5;132;01m{\u001b[39;00mlr\u001b[38;5;132;01m}\u001b[39;00m\u001b[38;5;124m_batchsize\u001b[39m\u001b[38;5;132;01m{\u001b[39;00mbatch_size\u001b[38;5;132;01m}\u001b[39;00m\u001b[38;5;124m_epochs\u001b[39m\u001b[38;5;132;01m{\u001b[39;00mepochs\u001b[38;5;132;01m}\u001b[39;00m\u001b[38;5;124m_ndm\u001b[39m\u001b[38;5;132;01m{\u001b[39;00mndm\u001b[38;5;132;01m}\u001b[39;00m\u001b[38;5;124m_seed\u001b[39m\u001b[38;5;132;01m{\u001b[39;00mseed\u001b[38;5;132;01m}\u001b[39;00m\u001b[38;5;124m.csv\u001b[39m\u001b[38;5;124m\"\u001b[39m), index\u001b[38;5;241m=\u001b[39m\u001b[38;5;28;01mFalse\u001b[39;00m)\n",
      "File \u001b[1;32md:\\learn_more_from_life\\computer\\EDA\\work\\prj\\rc_predict\\code\\utils\\model.py:90\u001b[0m, in \u001b[0;36mgnn_plot\u001b[1;34m(model, batch_size, x_train, y_train, x_valid, y_valid, x_test, y_test, dir, name)\u001b[0m\n\u001b[0;32m     87\u001b[0m scatter_plot(y_test, y_test_pred, \u001b[38;5;28mdir\u001b[39m, \u001b[38;5;124mf\u001b[39m\u001b[38;5;124m'\u001b[39m\u001b[38;5;132;01m{\u001b[39;00mname\u001b[38;5;132;01m}\u001b[39;00m\u001b[38;5;124m_test\u001b[39m\u001b[38;5;124m'\u001b[39m)\n\u001b[0;32m     89\u001b[0m \u001b[38;5;66;03m# 1 pictures\u001b[39;00m\n\u001b[1;32m---> 90\u001b[0m y_true \u001b[38;5;241m=\u001b[39m \u001b[43mnp\u001b[49m\u001b[38;5;241;43m.\u001b[39;49m\u001b[43mconcatenate\u001b[49m\u001b[43m(\u001b[49m\u001b[43m[\u001b[49m\u001b[43my_train\u001b[49m\u001b[43m,\u001b[49m\u001b[43m \u001b[49m\u001b[43my_valid\u001b[49m\u001b[43m,\u001b[49m\u001b[43m \u001b[49m\u001b[43my_test\u001b[49m\u001b[43m]\u001b[49m\u001b[43m,\u001b[49m\u001b[43m \u001b[49m\u001b[43maxis\u001b[49m\u001b[38;5;241;43m=\u001b[39;49m\u001b[38;5;241;43m1\u001b[39;49m\u001b[43m)\u001b[49m\n\u001b[0;32m     91\u001b[0m y_pred \u001b[38;5;241m=\u001b[39m np\u001b[38;5;241m.\u001b[39mconcatenate([y_train_pred, y_valid_pred, y_test_pred], axis\u001b[38;5;241m=\u001b[39m\u001b[38;5;241m1\u001b[39m)\n\u001b[0;32m     92\u001b[0m scatter_plot(y_true, y_pred, \u001b[38;5;28mdir\u001b[39m, \u001b[38;5;124mf\u001b[39m\u001b[38;5;124m'\u001b[39m\u001b[38;5;132;01m{\u001b[39;00mname\u001b[38;5;132;01m}\u001b[39;00m\u001b[38;5;124m_all\u001b[39m\u001b[38;5;124m'\u001b[39m)\n",
      "File \u001b[1;32m<__array_function__ internals>:180\u001b[0m, in \u001b[0;36mconcatenate\u001b[1;34m(*args, **kwargs)\u001b[0m\n",
      "\u001b[1;31mValueError\u001b[0m: all the input array dimensions for the concatenation axis must match exactly, but along dimension 0, the array at index 0 has size 180 and the array at index 1 has size 60"
     ]
    },
    {
     "data": {
      "image/png": "[encoded data removed]",
      "text/plain": [
       "<Figure size 2400x1800 with 1 Axes>"
      ]
     },
     "metadata": {},
     "output_type": "display_data"
    },
    {
     "data": {
      "image/png": "[encoded data removed]",
      "text/plain": [
       "<Figure size 2400x1800 with 1 Axes>"
      ]
     },
     "metadata": {},
     "output_type": "display_data"
    },
    {
     "data": {
      "image/png": "[encoded data removed]",
      "text/plain": [
       "<Figure size 2400x1800 with 1 Axes>"
      ]
     },
     "metadata": {},
     "output_type": "display_data"
    }
   ],
   "source": [
    "from utils.model import gnn_analysis, gnn_plot\n",
    "\n",
    "\n",
    "# best model load\n",
    "# build model\n",
    "loader = BatchLoader(train_data_total[:batch_size], batch_size=batch_size, shuffle=True)\n",
    "model_total = GCN(training=False) if model_name == 'gcn' else GraphSage(training=False) if model_name == 'graph_sage' else GAT(training=False)\n",
    "model_total.compile(optimizer=Adam(learning_rate=lr, epsilon=epsilon),\n",
    "\t\t\t\t\t\t\t\t\t\t\tloss=loss_func,\n",
    "\t\t\t\t\t\t\t\t\t\t\tweighted_metrics=weighted_metrics)\n",
    "model_total.fit(loader.load(),\n",
    "\t\t\t\t\t\t\t\tsteps_per_epoch=1,\n",
    "\t\t\t\t\t\t\t\tepochs=1)\n",
    "model_total_load_path = os.path.join(dir_params, f'{model_name}_total_best_lr{lr}_batchsize{batch_size}_epochs{epochs}_ndm{ndm}_seed{seed}.h5')\n",
    "if os.path.exists(model_total_load_path):\n",
    "\tmodel_total.load_weights(model_total_load_path)\n",
    "else:\n",
    "\traise ValueError('model total load path does not exist')\n",
    "model_total.summary()\n",
    "\n",
    "yt_train = np.array([data.y for data in train_data_total]).reshape(-1, 1)\n",
    "yt_valid = np.array([data.y for data in valid_data_total]).reshape(-1, 1)\n",
    "yt_test = np.array([data.y for data in test_data_total]).reshape(-1, 1)\n",
    "\n",
    "# get table\n",
    "dict_total = gnn_analysis(model_total, batch_size, \n",
    "\t\t\t\t\t\t\t\t\t\t\t\t\ttrain_data_total, yt_train,\n",
    "\t\t\t\t\t\t\t\t\t\t\t\t\tvalid_data_total, yt_valid,\n",
    "\t\t\t\t\t\t\t\t\t\t\t\t\ttest_data_total, yt_test, name=model_name)\n",
    "data_total = pd.Series(dict_total).to_frame(name='total').T\n",
    "\n",
    "# scatter plot\n",
    "gnn_plot(model_total, batch_size, \n",
    "\t\t\t\ttrain_data_total, yt_train,\n",
    "\t\t\t\tvalid_data_total, yt_valid,\n",
    "\t\t\t\ttest_data_total, yt_test, dir=dir_results,\n",
    "\t\t\t\tname=f'{model_name}_total_lr{lr}_batchsize{batch_size}_epochs{epochs}_ndm{ndm}_seed{seed}')\n",
    "\n",
    "# save results\n",
    "data_total.to_csv(os.path.join(dir_results, f\"{model_name}_total_lr{lr}_batchsize{batch_size}_epochs{epochs}_ndm{ndm}_seed{seed}.csv\"), index=False)\n"
   ]
  },
  {
   "cell_type": "markdown",
   "metadata": {},
   "source": [
    "### 耦合电容模型"
   ]
  },
  {
   "cell_type": "markdown",
   "metadata": {},
   "source": [
    "#### 模型训练"
   ]
  },
  {
   "cell_type": "markdown",
   "metadata": {},
   "source": [
    "##### 手动记录"
   ]
  },
  {
   "cell_type": "code",
   "execution_count": null,
   "metadata": {},
   "outputs": [],
   "source": [
    "if (not USE_TENSORBOARD) and TRAIN:\n",
    "\tfrom spektral.data import BatchLoader\n",
    "\tfrom utils.model import sync\n",
    "\n",
    "\n",
    "\tloader_train = BatchLoader(train_data_couple, batch_size=batch_size, shuffle=True)\n",
    "\tloader_valid = BatchLoader(valid_data_couple, batch_size=batch_size, shuffle=True)\n",
    "\n",
    "\tbest_epoch = 0\n",
    "\tbest_val_score = 1e10\n",
    "\n",
    "\t# train model\n",
    "\tloss_all = []\n",
    "\tval_loss_all = []\n",
    "\tstart = time.time()\n",
    "\tlogging.info('----------------model couple train start------------------')\n",
    "\tfor epoch in range(epochs):\n",
    "\t\thistory = model_couple.fit(loader_train.load(),\n",
    "\t\t\t\t\t\t\t\t\t\t\t\t\t\t\tvalidation_data=loader_valid.load(),\n",
    "\t\t\t\t\t\t\t\t\t\t\t\t\t\t\tsteps_per_epoch=loader_train.steps_per_epoch,\n",
    "\t\t\t\t\t\t\t\t\t\t\t\t\t\t\tvalidation_steps=loader_valid.steps_per_epoch,\n",
    "\t\t\t\t\t\t\t\t\t\t\t\t\t\t\tepochs=1,\n",
    "\t\t\t\t\t\t\t\t\t\t\t\t\t\t\tshuffle=False)\n",
    "\t\tloss_all.append(history.history['loss'][0])\n",
    "\t\tval_loss_all.append(history.history['val_loss'][0])\n",
    "\n",
    "\t\t# log\n",
    "\t\tlogging.info(f'couple model:{model_name} epoch:{epoch} loss:{loss_all[-1]} val_loss:{val_loss_all[-1]}')\n",
    "\n",
    "\t\t# save model every model_save_freq epochs\n",
    "\t\tif (epoch + 1) % model_save_freq == 0:\n",
    "\t\t\tmodel_couple_save_path = os.path.join(dir_params, f'{model_name}_couple_lr{lr}_batchsize{batch_size}_epochs{epoch}_ndm{ndm}_seed{seed}.h5')\n",
    "\t\t\tmodel_couple.save_weights(model_couple_save_path)\n",
    "\n",
    "\t\t# save best model on validation set\n",
    "\t\tval_loss, val_score = model_couple.evaluate(loader_valid.load(), steps=loader_valid.steps_per_epoch)\n",
    "\t\tif val_score < best_val_score:\n",
    "\t\t\tbest_epoch = epoch\n",
    "\t\t\tbest_val_score = val_score\n",
    "\t\t\tsync(model_couple, model_best_couple)\n",
    "\tend = time.time()\n",
    "\tlogging.info(f'model couple train done epoch: {epochs}, time: {end - start}s')\n",
    "\tlogging.info('-----------------model couple train end-------------------')\n",
    "\n",
    "\t# save best model\n",
    "\tmodel_couple_save_path = os.path.join(dir_params, f'{model_name}_couple_best_lr{lr}_batchsize{batch_size}_epochs{best_epoch}of{epochs}_ndm{ndm}_seed{seed}.h5')\n",
    "\tmodel_best_couple.save_weights(model_couple_save_path)\n",
    "\tmodel_couple.summary()\n",
    "\n",
    "\t# plot\n",
    "\tplt.figure()\n",
    "\tplt.plot(loss_all, label='train loss')\n",
    "\tplt.plot(val_loss_all, label='valid loss')\n",
    "\tplt.legend()\n",
    "\tplt.xlabel('epoch')\n",
    "\tplt.ylabel('loss')\n",
    "\n",
    "\t# save picture\n",
    "\tplt_save_path = os.path.join(dir_results, f\"{model_name}_couple_lr{lr}_batchsize{batch_size}_epochs{epochs}_ndm{ndm}_seed{seed}.jpg\")\n",
    "\tplt.savefig(plt_save_path)"
   ]
  },
  {
   "cell_type": "markdown",
   "metadata": {},
   "source": [
    "##### Tensorboard 使用"
   ]
  },
  {
   "cell_type": "code",
   "execution_count": null,
   "metadata": {},
   "outputs": [],
   "source": [
    "if USE_TENSORBOARD and TRAIN:\n",
    "\tfrom spektral.data import BatchLoader\n",
    "\n",
    "\n",
    "\tloader_train = BatchLoader(train_data_couple, batch_size=batch_size, shuffle=True)\n",
    "\tloader_valid = BatchLoader(valid_data_couple, batch_size=batch_size, shuffle=True)\n",
    "\n",
    "\ttf_callback = tf.keras.callbacks.TensorBoard(log_dir=os.path.join(dir_tensorboard, (f'{model_name}_couple_lr{lr}'\n",
    "\t\t\t\t\t\t\t\t\t\t\t\t\t\t\t\t\t\t\t\t\t\t\t\t\t\t\t\t\t\t\t\t\t\tf'_batchsize{batch_size}_epochs{epochs}_ndm{ndm}_seed{seed}')))\n",
    "\tlog_callback = tf.keras.callbacks.LambdaCallback(\n",
    "\t\ton_epoch_end=lambda epoch, logs: logging.info(f'couple model:{model_name} epoch:{epoch} loss:{logs[\"loss\"]} val_loss:{logs[\"val_loss\"]}')\n",
    "\t)\n",
    "\tsave_callback = tf.keras.callbacks.ModelCheckpoint(\n",
    "\t\tfilepath=os.path.join(dir_params, f'{model_name}_couple_best_lr{lr}_batchsize{batch_size}_epochs{epochs}_ndm{ndm}_seed{seed}.h5'),\n",
    "\t\tmonitor='val_loss',\n",
    "\t\tsave_best_only=True,\n",
    "\t\tsave_weights_only=True,\n",
    "\t\tmode='auto',\n",
    "\t\tperiod=1\n",
    "\t)\n",
    "\n",
    "\tstart = time.time()\n",
    "\tlogging.info('----------------model couple train start------------------')\n",
    "\thistory = model_couple.fit(loader_train.load(),\n",
    "\t\t\t\t\t\t\t\t\t\t\t\t\t\tvalidation_data=loader_valid.load(),\n",
    "\t\t\t\t\t\t\t\t\t\t\t\t\t\tsteps_per_epoch=loader_train.steps_per_epoch,\n",
    "\t\t\t\t\t\t\t\t\t\t\t\t\t\tvalidation_steps=loader_valid.steps_per_epoch,\n",
    "\t\t\t\t\t\t\t\t\t\t\t\t\t\tepochs=epochs,\n",
    "\t\t\t\t\t\t\t\t\t\t\t\t\t\tshuffle=False,\n",
    "\t\t\t\t\t\t\t\t\t\t\t\t\t\tcallbacks=[tf_callback, log_callback, save_callback])\n",
    "\n",
    "\tend = time.time()\n",
    "\tlogging.info(f'model couple train done epoch: {epochs}, time: {end - start}s')\n",
    "\tlogging.info('-----------------model couple train end-------------------')\n",
    "\n",
    "\t# plot \n",
    "\tplt.figure()\n",
    "\tplt.plot(history.history['loss'], label='train loss')\n",
    "\tplt.plot(history.history['val_loss'], label='valid loss')\n",
    "\tplt.legend()\n",
    "\tplt.xlabel('epoch')\n",
    "\tplt.ylabel('loss')\n",
    "\n",
    "\t# save picture\n",
    "\tplt_save_path = os.path.join(dir_results, f\"{model_name}_couple_lr{lr}_batchsize{batch_size}_epochs{epochs}_ndm{ndm}_seed{seed}.jpg\")\n",
    "\tplt.savefig(plt_save_path)"
   ]
  },
  {
   "cell_type": "markdown",
   "metadata": {},
   "source": [
    "#### 模型测试"
   ]
  },
  {
   "cell_type": "code",
   "execution_count": null,
   "metadata": {},
   "outputs": [],
   "source": [
    "from utils.model import gnn_analysis\n",
    "\n",
    "\n",
    "# load best model\n",
    "# build model\n",
    "loader = BatchLoader(train_data_couple[:batch_size], batch_size=batch_size, shuffle=True)\n",
    "model_couple = GCN(training=False) if model_name == 'gcn' else GraphSage(training=False) if model_name == 'graph_sage' else GAT(training=False)\n",
    "model_couple.compile(optimizer=Adam(learning_rate=lr, epsilon=epsilon),\n",
    "\t\t\t\t\t\t\t\t\t\t\tloss=loss_func,\n",
    "\t\t\t\t\t\t\t\t\t\t\tweighted_metrics=weighted_metrics)\n",
    "model_couple.fit(loader.load(),\n",
    "\t\t\t\t\t\t\t\tsteps_per_epoch=1,\n",
    "\t\t\t\t\t\t\t\tepochs=1)\n",
    "model_couple_save_path = os.path.join(dir_params, f'{model_name}_couple_best_lr{lr}_batchsize{batch_size}_epochs{epochs}_ndm{ndm}_seed{seed}.h5')\n",
    "if os.path.exists(model_couple_save_path):\n",
    "\tmodel_couple.load_weights(model_couple_save_path)\n",
    "else:\n",
    "\traise FileNotFoundError(f\"model_couple_save_path: {model_couple_save_path} not found!\")\n",
    "\n",
    "yc_train = np.array([data.y for data in train_data_couple]).reshape(-1, 1)\n",
    "yc_valid = np.array([data.y for data in valid_data_couple]).reshape(-1, 1)\n",
    "yc_test = np.array([data.y for data in test_data_couple]).reshape(-1, 1)\n",
    "\n",
    "# get table\n",
    "dict_couple = gnn_analysis(model_couple, batch_size,\n",
    "\t\t\t\t\t\t   train_data_couple, yc_train,\n",
    "\t\t\t\t\t\t   valid_data_couple, yc_valid,\n",
    "\t\t\t\t\t\t   test_data_couple, yc_test, name=model_name)\n",
    "data_couple = pd.Series(dict_couple).to_frame(name='couple').T\n",
    "\n",
    "# scatter plot\n",
    "gnn_plot(model_couple, batch_size,\n",
    "\t\t\t\ttrain_data_couple, yc_train,\n",
    "\t\t\t\tvalid_data_couple, yc_valid,\n",
    "\t\t\t\ttest_data_couple, yc_test, dir=dir_results,\n",
    "\t\t\t\tname=f'{model_name}_couple_lr{lr}_batchsize{batch_size}_epochs{epochs}_ndm{ndm}_seed{seed}')\n",
    "\n",
    "# save results\n",
    "data_couple.to_csv(os.path.join(dir_results, f\"{model_name}_couple_lr{lr}_batchsize{batch_size}_epochs{epochs}_ndm{ndm}_seed{seed}.csv\"), index=False)"
   ]
  }
 ],
 "metadata": {
  "kernelspec": {
   "display_name": "tensorflow_gpu",
   "language": "python",
   "name": "python3"
  },
  "language_info": {
   "codemirror_mode": {
    "name": "ipython",
    "version": 3
   },
   "file_extension": ".py",
   "mimetype": "text/x-python",
   "name": "python",
   "nbconvert_exporter": "python",
   "pygments_lexer": "ipython3",
   "version": "3.9.0"
  }
 },
 "nbformat": 4,
 "nbformat_minor": 2
}

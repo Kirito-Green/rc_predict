{
 "cells": [
  {
   "cell_type": "markdown",
   "metadata": {},
   "source": [
    "# GNN模型预测版图寄生电容"
   ]
  },
  {
   "cell_type": "markdown",
   "metadata": {},
   "source": [
    "## Debug 设置"
   ]
  },
  {
   "cell_type": "code",
   "execution_count": 1,
   "metadata": {},
   "outputs": [],
   "source": [
    "import faulthandler\n",
    "\n",
    "\n",
    "faulthandler.enable()"
   ]
  },
  {
   "cell_type": "markdown",
   "metadata": {},
   "source": [
    "## 参数解析"
   ]
  },
  {
   "cell_type": "code",
   "execution_count": 2,
   "metadata": {},
   "outputs": [],
   "source": [
    "import sys\n",
    "import argparse\n",
    "from config import *\n",
    "\n",
    "\n",
    "sys.argv = ['run.py']\n",
    "\n",
    "def str2bool(v):\n",
    "\tif v.lower() in ('yes', 'true', 't', 'y', '1'):\n",
    "\t\treturn True\n",
    "\telif v.lower() in ('no', 'false', 'f', 'n', '0'):\n",
    "\t\treturn False\n",
    "\telse:\n",
    "\t\traise argparse.ArgumentTypeError('Boolean value expected.')\n",
    "\n",
    "parser = argparse.ArgumentParser()\n",
    "parser.add_argument('--dir_prj', type=str, default=dir_prj,\n",
    "\t\t\t\t\t\t\t\t\t\thelp='project directory')\n",
    "parser.add_argument('--seed', type=int, default=seed,\n",
    "\t\t\t\t\t\t\t\t\t\thelp='random seed')\n",
    "parser.add_argument('--pattern_nums', type=int, nargs='+', default=pattern_nums,\n",
    "\t\t\t\t\t\t\t\t\t\thelp='pattern nums')\n",
    "parser.add_argument('--thresh', type=int, nargs='+', default=thresh,\n",
    "\t\t\t\t\t\t\t\t\t\thelp='threshold')\n",
    "parser.add_argument('--num_process', type=int, default=num_process,\n",
    "\t\t\t\t\t\t\t\t\t\thelp='multiprocessing number')\n",
    "parser.add_argument('--model_name', type=str, default=model_name,\n",
    "\t\t\t\t\t\t\t\t\t\thelp='model name [gcn, graph_sage, gat]')\n",
    "parser.add_argument('--lr', type=float, default=lr,\n",
    "\t\t\t\t\t\t\t\t\t\thelp='adam learning rate')\n",
    "parser.add_argument('--batch_size', type=int, default=batch_size,\n",
    "\t\t\t\t\t\t\t\t\t\thelp='batch size')\n",
    "parser.add_argument('--epochs', type=int, default=epochs,\n",
    "\t\t\t\t\t\t\t\t\t\thelp='number of epochs')\n",
    "parser.add_argument('--load_params', type=str2bool, default=LOAD_PARAMS,\n",
    "\t\t\t\t\t\t\t\t\t\thelp='load parameters')\n",
    "parser.add_argument('--set_memory_growth', type=str2bool, default=SET_MEMORY_GROWTH,\n",
    "\t\t\t\t\t\t\t\t\t\thelp='set memory growth')\n",
    "parser.add_argument('--set_memory_limit', type=int, default=SET_MEMORY_LIMIT,\n",
    "\t\t\t\t\t\t\t\t\t\thelp='memory limit, -1 for no limit')\n",
    "parser.add_argument('--set_multi_gpu_num', type=int, default=SET_MULTI_GPU_NUM,\n",
    "\t\t\t\t\t\t\t\t\t\thelp='set multi gpu numbers')\n",
    "\n",
    "\n",
    "args = parser.parse_args()\n",
    "dir_prj = args.dir_prj\n",
    "seed = args.seed\n",
    "pattern_nums = args.pattern_nums\n",
    "thresh = args.thresh\n",
    "num_process = args.num_process\n",
    "model_name = args.model_name\n",
    "lr = args.lr\n",
    "batch_size = args.batch_size\n",
    "epochs = args.epochs\n",
    "LOAD_PARAMS = args.load_params\n",
    "SET_MEMORY_GROWTH = args.set_memory_growth\n",
    "SET_MEMORY_LIMIT = args.set_memory_limit\n",
    "SET_MULTI_GPU_NUM = args.set_multi_gpu_num\n",
    "SET_MULTI_GPU_NUM = min(SET_MULTI_GPU_NUM, 4)"
   ]
  },
  {
   "cell_type": "markdown",
   "metadata": {},
   "source": [
    "## log 设置"
   ]
  },
  {
   "cell_type": "code",
   "execution_count": 3,
   "metadata": {},
   "outputs": [
    {
     "name": "stderr",
     "output_type": "stream",
     "text": [
      "2025-04-04 13:54:25 974645172.py [line:16] INFO ------------------------args start----------------------------\n",
      "2025-04-04 13:54:25 974645172.py [line:18] INFO dir_prj = D:/learn_more_from_life/computer/EDA/work/prj/rc_predict/\n",
      "2025-04-04 13:54:25 974645172.py [line:18] INFO seed = 42\n",
      "2025-04-04 13:54:25 974645172.py [line:18] INFO pattern_nums = [4]\n",
      "2025-04-04 13:54:25 974645172.py [line:18] INFO thresh = [0, 3000]\n",
      "2025-04-04 13:54:25 974645172.py [line:18] INFO num_process = 8\n",
      "2025-04-04 13:54:25 974645172.py [line:18] INFO model_name = gcn\n",
      "2025-04-04 13:54:25 974645172.py [line:18] INFO lr = 0.001\n",
      "2025-04-04 13:54:25 974645172.py [line:18] INFO batch_size = 8\n",
      "2025-04-04 13:54:25 974645172.py [line:18] INFO epochs = 3\n",
      "2025-04-04 13:54:25 974645172.py [line:18] INFO load_params = False\n",
      "2025-04-04 13:54:25 974645172.py [line:18] INFO set_memory_growth = True\n",
      "2025-04-04 13:54:25 974645172.py [line:18] INFO set_memory_limit = -1\n",
      "2025-04-04 13:54:25 974645172.py [line:18] INFO set_multi_gpu_num = 1\n",
      "2025-04-04 13:54:25 974645172.py [line:19] INFO -------------------------args end-----------------------------\n"
     ]
    }
   ],
   "source": [
    "import logging\n",
    "\n",
    "\n",
    "console_handler = logging.StreamHandler()\n",
    "file_handler = logging.FileHandler(f'../logs/{model_name}_lr{lr}_epochs{epochs}.log', mode='w', encoding='utf-8')\n",
    "\n",
    "# 设置日志格式\n",
    "logging.basicConfig(\n",
    "    format=\"%(asctime)s %(filename)s [line:%(lineno)d] %(levelname)s %(message)s\",\n",
    "    datefmt='%Y-%m-%d %H:%M:%S',\n",
    "    handlers=[console_handler, file_handler],\n",
    "    level=logging.INFO\n",
    ")\n",
    "\n",
    "# loging args\n",
    "logging.info('------------------------args start----------------------------')\n",
    "for k, v in vars(args).items():\n",
    "\t\tlogging.info(f'{k} = {v}')\n",
    "logging.info('-------------------------args end-----------------------------')"
   ]
  },
  {
   "cell_type": "markdown",
   "metadata": {},
   "source": [
    "## tensorflow框架设置"
   ]
  },
  {
   "cell_type": "markdown",
   "metadata": {},
   "source": [
    "### 多卡设置"
   ]
  },
  {
   "cell_type": "code",
   "execution_count": 4,
   "metadata": {},
   "outputs": [],
   "source": [
    "import os\n",
    "\n",
    "\n",
    "gpus = ''\n",
    "for i in range(SET_MULTI_GPU_NUM):\n",
    "\tif i == 0:\n",
    "\t\tgpus += str(i)\n",
    "\telse:\n",
    "\t\tgpus += ',' + str(i)\n",
    "\n",
    "os.environ['CUDA_VISIBLE_DEVICES'] = gpus"
   ]
  },
  {
   "cell_type": "markdown",
   "metadata": {},
   "source": [
    "### log level 设置"
   ]
  },
  {
   "cell_type": "code",
   "execution_count": null,
   "metadata": {},
   "outputs": [],
   "source": [
    "# 0 = all messages are logged (default behavior)\n",
    "# 1 = INFO messages are not printed\n",
    "# 2 = INFO and WARNING messages are not printed\n",
    "# 3 = INFO, WARNING, and ERROR messages are not printed\n",
    "\n",
    "\n",
    "os.environ['TF_CPP_MIN_LOG_LEVEL'] = '1'  "
   ]
  },
  {
   "cell_type": "markdown",
   "metadata": {},
   "source": [
    "### 显存限制"
   ]
  },
  {
   "cell_type": "code",
   "execution_count": 5,
   "metadata": {},
   "outputs": [
    {
     "name": "stderr",
     "output_type": "stream",
     "text": [
      "2025-04-04 13:54:30 4023682399.py [line:9] INFO [PhysicalDevice(name='/physical_device:GPU:0', device_type='GPU')]\n"
     ]
    }
   ],
   "source": [
    "import tensorflow as tf\n",
    "\n",
    "\n",
    "# 方法一 set memory growth\n",
    "if SET_MEMORY_GROWTH:\n",
    "\tgpus = tf.config.experimental.list_physical_devices('GPU')\n",
    "\tif len(gpus) > 0:\n",
    "\t\ttry:\n",
    "\t\t\tlogging.info(gpus[:SET_MULTI_GPU_NUM])\n",
    "\t\t\tfor gpu in gpus[:SET_MULTI_GPU_NUM]:\n",
    "\t\t\t\ttf.config.experimental.set_memory_growth(gpu, True)\n",
    "\t\texcept RuntimeError as e:\n",
    "\t\t\tlogging.error(e)\n",
    "\n",
    "# 方法二 set memory limit\n",
    "if SET_MEMORY_LIMIT > 0:\n",
    "\tgpus = tf.config.experimental.list_physical_devices('GPU')\n",
    "\tif len(gpus) > 0:\n",
    "\t\ttry:\n",
    "\t\t\tlogging.info(gpus[:SET_MULTI_GPU_NUM])\n",
    "\t\t\tfor gpu in gpus[:SET_MULTI_GPU_NUM]:\n",
    "\t\t\t\ttf.config.experimental.set_virtual_device_configuration(\n",
    "\t\t\t\t\tgpu,\n",
    "\t\t\t\t\t[tf.config.experimental.VirtualDeviceConfiguration(memory_limit=SET_MEMORY_LIMIT)])\n",
    "\t\t\tlogging.info(f'set memory limit to {SET_MEMORY_LIMIT}MB')\n",
    "\t\texcept RuntimeError as e:\n",
    "\t\t\tlogging.error(e)"
   ]
  },
  {
   "cell_type": "markdown",
   "metadata": {},
   "source": [
    "## 基本库导入"
   ]
  },
  {
   "cell_type": "code",
   "execution_count": 6,
   "metadata": {},
   "outputs": [],
   "source": [
    "import random\n",
    "import numpy as np\n",
    "import pandas as pd\n",
    "import matplotlib.pyplot as plt\n",
    "import time\n",
    "\n",
    "# 自定义模块导入\n",
    "from data.dataset import MyDataset\n",
    "from models.gcn import GCN\n",
    "from models.graph_sage import GraphSage\n",
    "from models.gat import GAT\n",
    "\n",
    "# fix seed\n",
    "random.seed(seed)\n",
    "np.random.seed(seed)\n",
    "tf.random.set_seed(seed)"
   ]
  },
  {
   "cell_type": "markdown",
   "metadata": {},
   "source": [
    "## 数据导入与数据清洗"
   ]
  },
  {
   "cell_type": "code",
   "execution_count": 7,
   "metadata": {},
   "outputs": [
    {
     "name": "stderr",
     "output_type": "stream",
     "text": [
      "2025-04-04 13:54:32 1614378019.py [line:2] INFO ---------------------loading total data-----------------------\n"
     ]
    },
    {
     "name": "stdout",
     "output_type": "stream",
     "text": [
      "pattern4 data downloaded\n",
      "all data downloaded\n",
      "reading pattern4\n"
     ]
    },
    {
     "name": "stderr",
     "output_type": "stream",
     "text": [
      "2025-04-04 13:54:33 1614378019.py [line:10] INFO ---------------------load total data done---------------------\n",
      "2025-04-04 13:54:33 1614378019.py [line:12] INFO ---------------------loading couple data----------------------\n"
     ]
    },
    {
     "name": "stdout",
     "output_type": "stream",
     "text": [
      "pattern4 graph path D:/learn_more_from_life/computer/EDA/work/prj/rc_predict/data/graph_data/pattern4\\total_300.npz not exist\n",
      "pattern4 data readed\n",
      "all data readed\n",
      "pattern4 data downloaded\n",
      "all data downloaded\n",
      "reading pattern4\n"
     ]
    },
    {
     "name": "stderr",
     "output_type": "stream",
     "text": [
      "2025-04-04 13:54:33 1614378019.py [line:20] INFO ---------------------load couple data done--------------------\n",
      "2025-04-04 13:54:33 1614378019.py [line:23] INFO ------------------------before cleaning-----------------------\n",
      "2025-04-04 13:54:33 1614378019.py [line:24] INFO dataset total: MyDataset(n_graphs=300)\n",
      "2025-04-04 13:54:33 1614378019.py [line:25] INFO dataset couple: MyDataset(n_graphs=300)\n",
      "2025-04-04 13:54:33 1614378019.py [line:26] INFO ------------------------after cleaning------------------------\n",
      "2025-04-04 13:54:33 1614378019.py [line:29] INFO dataset total: MyDataset(n_graphs=300)\n",
      "2025-04-04 13:54:33 1614378019.py [line:30] INFO dataset couple: MyDataset(n_graphs=300)\n"
     ]
    },
    {
     "name": "stdout",
     "output_type": "stream",
     "text": [
      "pattern4 graph path D:/learn_more_from_life/computer/EDA/work/prj/rc_predict/data/graph_data/pattern4\\couple_300.npz not exist\n",
      "pattern4 data readed\n",
      "all data readed\n"
     ]
    }
   ],
   "source": [
    "# load data\n",
    "logging.info('---------------------loading total data-----------------------')\n",
    "dataset_total = MyDataset(dir_prj=dir_prj,\n",
    "\t\t\t\t\t\t\tpattern_nums=pattern_nums,\n",
    "\t\t\t\t\t\t  x_name='x_total.npy',\n",
    "\t\t\t\t\t\t  y_name='y_total.npy',\n",
    "\t\t\t\t\t\t  g_name='total',\n",
    "\t\t\t\t\t\t  num_process=num_process,\n",
    "\t\t\t\t\t\t  update=False)\n",
    "logging.info('---------------------load total data done---------------------')\n",
    "\n",
    "logging.info('---------------------loading couple data----------------------')\n",
    "dataset_couple = MyDataset(dir_prj=dir_prj,\n",
    "\t\t\t\t\t\t\t\tpattern_nums=pattern_nums,\n",
    "\t\t\t\t\t\t   x_name='x_couple.npy',\n",
    "\t\t\t\t\t\t   y_name='y_couple.npy',\n",
    "\t\t\t\t\t\t   g_name='couple',\n",
    "\t\t\t\t\t\t   num_process=num_process,\n",
    "\t\t\t\t\t\t   update=False)\n",
    "logging.info('---------------------load couple data done--------------------')\n",
    "\n",
    "# clean data\n",
    "logging.info('------------------------before cleaning-----------------------')\n",
    "logging.info(f'dataset total: {dataset_total}')\n",
    "logging.info(f'dataset couple: {dataset_couple}')\n",
    "logging.info('------------------------after cleaning------------------------')\n",
    "dataset_total.filter(lambda g: thresh[0] <= g.n_nodes <= thresh[1])\n",
    "dataset_couple.filter(lambda g: thresh[0] <= g.n_nodes <= thresh[1])\n",
    "logging.info(f'dataset total: {dataset_total}')\n",
    "logging.info(f'dataset couple: {dataset_couple}')\n"
   ]
  },
  {
   "cell_type": "markdown",
   "metadata": {},
   "source": [
    "## 数据分割"
   ]
  },
  {
   "cell_type": "code",
   "execution_count": 8,
   "metadata": {},
   "outputs": [
    {
     "name": "stderr",
     "output_type": "stream",
     "text": [
      "C:\\Users\\19596\\AppData\\Local\\Temp\\ipykernel_33692\\4135933038.py:2: UserWarning: you are shuffling a 'MyDataset' object which is not a subclass of 'Sequence'; `shuffle` is not guaranteed to behave correctly. E.g., non-numpy array/tensor objects with view semantics may contain duplicates after shuffling.\n",
      "  np.random.shuffle(dataset_total)\n",
      "C:\\Users\\19596\\AppData\\Local\\Temp\\ipykernel_33692\\4135933038.py:3: UserWarning: you are shuffling a 'MyDataset' object which is not a subclass of 'Sequence'; `shuffle` is not guaranteed to behave correctly. E.g., non-numpy array/tensor objects with view semantics may contain duplicates after shuffling.\n",
      "  np.random.shuffle(dataset_couple)\n"
     ]
    }
   ],
   "source": [
    "# split data # 6:2:2\n",
    "np.random.shuffle(dataset_total)\n",
    "np.random.shuffle(dataset_couple)\n",
    "n = len(dataset_total)\n",
    "train_data_total, valid_data_total, test_data_total = dataset_total[0:int(n*0.6)], \\\n",
    "\t\t\t\t\t\t\t\t\t\t\t\t\t  dataset_total[int(n*0.6):int(n*0.8)], \\\n",
    "\t\t\t\t\t\t\t\t\t\t\t\t\t  dataset_total[int(n*0.8):]\n",
    "n = len(dataset_couple)\n",
    "train_data_couple, valid_data_couple, test_data_couple = dataset_couple[0:int(n * 0.6)], \\\n",
    "\t\t\t\t\t\t\t\t\t\t\t\t\t\t dataset_couple[int(n * 0.6):int(n * 0.8)], \\\n",
    "\t\t\t\t\t\t\t\t\t\t\t\t\t\t dataset_couple[int(n * 0.8):]\n"
   ]
  },
  {
   "cell_type": "markdown",
   "metadata": {},
   "source": [
    "## 模型构建"
   ]
  },
  {
   "cell_type": "code",
   "execution_count": 9,
   "metadata": {},
   "outputs": [
    {
     "name": "stderr",
     "output_type": "stream",
     "text": [
      "2025-04-04 13:54:34 1564440605.py [line:62] INFO buld model gcn done\n"
     ]
    }
   ],
   "source": [
    "from tensorflow.keras.optimizers import Adam\n",
    "from tensorflow.keras.losses import mean_squared_error\n",
    "from spektral.data import BatchLoader\n",
    "from utils.model import huber_loss, mse_mrse_loss, measure_ratio_good\n",
    "\n",
    "\n",
    "# loss and weighted metrics\n",
    "loss_func = mse_mrse_loss\n",
    "weighted_metrics = [measure_ratio_good]\n",
    "\n",
    "# set multi gpu\n",
    "if SET_MULTI_GPU_NUM > 1:\n",
    "\tdevices = [f'/gpu:{i}' for i in range(SET_MULTI_GPU_NUM)]\n",
    "\tmirror_strategy = tf.distribute.MirroredStrategy(devices=devices)\n",
    "\twith mirror_strategy.scope():\n",
    "\t\tlogging.info('---------------------set multi gpu done---------------------')\n",
    "\t\tlogging.info(f'num devices: {mirror_strategy.num_replicas_in_sync}')\n",
    "\t\tlogging.info(f'devices: {devices}')\n",
    "\t\tlogging.info('------------------------------------------------------------')\n",
    "\t\t# GCN model\n",
    "\t\tif model_name == 'gcn':\n",
    "\t\t\tmodel_total = GCN()\n",
    "\t\t\tmodel_couple = GCN()\n",
    "\t\t\tmodel_best_total = GCN()\n",
    "\t\t\tmodel_best_couple = GCN()\n",
    "\t\t\tlogging.info('buld model gcn done')\n",
    "\t\telif model_name == 'graph_sage':\n",
    "\t\t\tmodel_total = GraphSage()\n",
    "\t\t\tmodel_couple = GraphSage()\n",
    "\t\t\tmodel_best_total = GraphSage()\n",
    "\t\t\tmodel_best_couple = GraphSage()\n",
    "\t\t\tlogging.info('buld model graph_sage done')\n",
    "\t\telif model_name == 'gat':\n",
    "\t\t\tmodel_total = GAT()\n",
    "\t\t\tmodel_couple = GAT()\n",
    "\t\t\tmodel_best_total = GAT()\n",
    "\t\t\tmodel_best_couple = GAT()\n",
    "\t\t\tlogging.info('buld model gat done')\n",
    "\t\telse:\n",
    "\t\t\tlogging.error('model_name error')\n",
    "\t\t\traise ValueError('model_name error')\n",
    "\t\tmodel_total.compile(optimizer=Adam(learning_rate=lr, epsilon=epsilon),\n",
    "\t\t\t\t\t\t\t\t\t\t\t\tloss=loss_func,\n",
    "\t\t\t\t\t\t\t\t\t\t\t\tweighted_metrics=weighted_metrics)\n",
    "\t\tmodel_couple.compile(optimizer=Adam(learning_rate=lr, epsilon=epsilon),\n",
    "\t\t\t\t\t\t\t\t\t\t\t\tloss=loss_func,\n",
    "\t\t\t\t\t\t\t\t\t\t\t\tweighted_metrics=weighted_metrics)\n",
    "\t\t# best model\n",
    "\t\tmodel_best_total.compile(optimizer=Adam(learning_rate=lr, epsilon=epsilon),\n",
    "\t\t\t\t\t\t\t\t\t\t\t\tloss=loss_func,\n",
    "\t\t\t\t\t\t\t\t\t\t\t\tweighted_metrics=weighted_metrics)\n",
    "\t\tmodel_best_couple.compile(optimizer=Adam(learning_rate=lr, epsilon=epsilon),\n",
    "\t\t\t\t\t\t\t\t\t\t\t\tloss=loss_func,\n",
    "\t\t\t\t\t\t\t\t\t\t\t\tweighted_metrics=weighted_metrics)\n",
    "else:\n",
    "\t# GCN model\n",
    "\tif model_name == 'gcn':\n",
    "\t\tmodel_total = GCN()\n",
    "\t\tmodel_couple = GCN()\n",
    "\t\tmodel_best_total = GCN()\n",
    "\t\tmodel_best_couple = GCN()\n",
    "\t\tlogging.info('buld model gcn done')\n",
    "\telif model_name == 'graph_sage':\n",
    "\t\tmodel_total = GraphSage()\n",
    "\t\tmodel_couple = GraphSage()\n",
    "\t\tmodel_best_total = GraphSage()\n",
    "\t\tmodel_best_couple = GraphSage()\n",
    "\t\tlogging.info('buld model graph_sage done')\n",
    "\telif model_name == 'gat':\n",
    "\t\tmodel_total = GAT()\n",
    "\t\tmodel_couple = GAT()\n",
    "\t\tmodel_best_total = GAT()\n",
    "\t\tmodel_best_couple = GAT()\n",
    "\t\tlogging.info('buld model gat done')\n",
    "\telse:\n",
    "\t\tlogging.error('model_name error')\n",
    "\t\traise ValueError('model_name error')\n",
    "\n",
    "\tmodel_total.compile(optimizer=Adam(learning_rate=lr, epsilon=epsilon),\n",
    "\t\t\t\t\t\t\t\t\t\t\tloss=loss_func,\n",
    "\t\t\t\t\t\t\t\t\t\t\tweighted_metrics=weighted_metrics)\n",
    "\tmodel_couple.compile(optimizer=Adam(learning_rate=lr, epsilon=epsilon),\n",
    "\t\t\t\t\t\t\t\t\t\t\tloss=loss_func,\n",
    "\t\t\t\t\t\t\t\t\t\t\tweighted_metrics=weighted_metrics)\n",
    "\t# best model\n",
    "\tmodel_best_total.compile(optimizer=Adam(learning_rate=lr, epsilon=epsilon),\n",
    "\t\t\t\t\t\t\t\t\t\t\tloss=loss_func,\n",
    "\t\t\t\t\t\t\t\t\t\t\tweighted_metrics=weighted_metrics)\n",
    "\tmodel_best_couple.compile(optimizer=Adam(learning_rate=lr, epsilon=epsilon),\n",
    "\t\t\t\t\t\t\t\t\t\t\tloss=loss_func,\n",
    "\t\t\t\t\t\t\t\t\t\t\tweighted_metrics=weighted_metrics)\n",
    "\n",
    "\n",
    "# params save path\n",
    "dir_parmas = os.path.join(os.getcwd(), '../params')\n",
    "if not os.path.exists(dir_parmas):\n",
    "\tos.mkdir(dir_parmas)\n",
    "model_total_save_path = os.path.join(dir_parmas, f'{model_name}_total_lr{lr}_batchsize{batch_size}_epochs{epochs}.h5')\n",
    "model_couple_save_path = os.path.join(dir_parmas, f'{model_name}_couple_lr{lr}_batchsize{batch_size}_epochs{epochs}.h5')\n",
    "\n",
    "# load model\n",
    "if os.path.exists(model_total_save_path) and LOAD_PARAMS:\n",
    "\tloader = BatchLoader(train_data_total[:batch_size], batch_size=batch_size, shuffle=True)\n",
    "\tmodel_total.fit(loader.load(),\n",
    "\t\t\t\t\t\t\t\t\tsteps_per_epoch=1,\n",
    "\t\t\t\t\t\t\t\t\tepochs=1)\n",
    "\ttry:\n",
    "\t\t\tmodel_total.load_weights(model_total_save_path)\n",
    "\t\t\tlogging.info('load model total done')\n",
    "\texcept:\n",
    "\t\t\tlogging.error('load model total failed')\n",
    "if os.path.exists(model_couple_save_path) and LOAD_PARAMS:\n",
    "\tloader = BatchLoader(train_data_couple[:batch_size], batch_size=batch_size, shuffle=True)\n",
    "\tmodel_couple.fit(loader.load(),\n",
    "\t\t\t\t\t\t\t\t\t\tsteps_per_epoch=1,\n",
    "\t\t\t\t\t\t\t\t\t\tepochs=1)\n",
    "\ttry:\n",
    "\t\t\tmodel_couple.load_weights(model_couple_save_path)\n",
    "\t\t\tlogging.info('load model couple done')\n",
    "\texcept:\n",
    "\t\t\tlogging.error('load model couple failed')\n"
   ]
  },
  {
   "cell_type": "markdown",
   "metadata": {},
   "source": [
    "## 模型预测"
   ]
  },
  {
   "cell_type": "markdown",
   "metadata": {},
   "source": [
    "### 集总电容模型"
   ]
  },
  {
   "cell_type": "markdown",
   "metadata": {},
   "source": [
    "#### 模型训练"
   ]
  },
  {
   "cell_type": "code",
   "execution_count": 10,
   "metadata": {},
   "outputs": [
    {
     "name": "stderr",
     "output_type": "stream",
     "text": [
      "2025-04-04 13:54:34 4091661503.py [line:15] INFO ----------------model total train start------------------\n",
      "d:\\learn_more_from_life\\computer\\EDA\\work\\prj\\rc_predict\\code\\spektral\\data\\utils.py:221: UserWarning: you are shuffling a 'MyDataset' object which is not a subclass of 'Sequence'; `shuffle` is not guaranteed to behave correctly. E.g., non-numpy array/tensor objects with view semantics may contain duplicates after shuffling.\n",
      "  np.random.shuffle(a)\n"
     ]
    },
    {
     "name": "stdout",
     "output_type": "stream",
     "text": [
      "23/23 [==============================] - 6s 38ms/step - loss: 43.7211 - measure_ratio_good: 0.0000e+00 - val_loss: 26.2739 - val_measure_ratio_good: 0.0000e+00\n"
     ]
    },
    {
     "name": "stderr",
     "output_type": "stream",
     "text": [
      "2025-04-04 13:54:41 4091661503.py [line:27] INFO total model:gcn epoch:0 loss:43.72114944458008 val_loss:26.273866653442383\n"
     ]
    },
    {
     "name": "stdout",
     "output_type": "stream",
     "text": [
      "8/8 [==============================] - 0s 5ms/step - loss: 26.2772 - measure_ratio_good: 0.0000e+00\n",
      "23/23 [==============================] - 0s 18ms/step - loss: 23.7868 - measure_ratio_good: 0.0000e+00 - val_loss: 21.1899 - val_measure_ratio_good: 0.0000e+00\n"
     ]
    },
    {
     "name": "stderr",
     "output_type": "stream",
     "text": [
      "2025-04-04 13:54:42 4091661503.py [line:27] INFO total model:gcn epoch:1 loss:23.786760330200195 val_loss:21.189876556396484\n"
     ]
    },
    {
     "name": "stdout",
     "output_type": "stream",
     "text": [
      "8/8 [==============================] - 0s 6ms/step - loss: 21.1808 - measure_ratio_good: 0.0000e+00\n",
      "23/23 [==============================] - 0s 20ms/step - loss: 19.7614 - measure_ratio_good: 0.0000e+00 - val_loss: 19.2026 - val_measure_ratio_good: 0.0000e+00\n"
     ]
    },
    {
     "name": "stderr",
     "output_type": "stream",
     "text": [
      "2025-04-04 13:54:42 4091661503.py [line:27] INFO total model:gcn epoch:2 loss:19.761375427246094 val_loss:19.2026424407959\n"
     ]
    },
    {
     "name": "stdout",
     "output_type": "stream",
     "text": [
      "8/8 [==============================] - 0s 5ms/step - loss: 19.1410 - measure_ratio_good: 0.0000e+00\n"
     ]
    },
    {
     "name": "stderr",
     "output_type": "stream",
     "text": [
      "2025-04-04 13:54:42 4091661503.py [line:41] INFO model total train done epoch: 3, time: 7.893894910812378s\n",
      "2025-04-04 13:54:42 4091661503.py [line:42] INFO -----------------model total train end-------------------\n"
     ]
    },
    {
     "name": "stdout",
     "output_type": "stream",
     "text": [
      "Model: \"gcn\"\n",
      "_________________________________________________________________\n",
      " Layer (type)                Output Shape              Param #   \n",
      "=================================================================\n",
      " gcn_conv (GCNConv)          multiple                  96        \n",
      "                                                                 \n",
      " diff_pool (DiffPool)        multiple                  4352      \n",
      "                                                                 \n",
      " gcn_conv_1 (GCNConv)        multiple                  272       \n",
      "                                                                 \n",
      " diff_pool_1 (DiffPool)      multiple                  1280      \n",
      "                                                                 \n",
      " gcn_conv_2 (GCNConv)        multiple                  272       \n",
      "                                                                 \n",
      " global_avg_pool (GlobalAvgP  multiple                 0         \n",
      " ool)                                                            \n",
      "                                                                 \n",
      " dense (Dense)               multiple                  272       \n",
      "                                                                 \n",
      " dense_1 (Dense)             multiple                  17        \n",
      "                                                                 \n",
      "=================================================================\n",
      "Total params: 6,561\n",
      "Trainable params: 6,561\n",
      "Non-trainable params: 0\n",
      "_________________________________________________________________\n"
     ]
    },
    {
     "data": {
      "image/png": "[encoded data removed]",
      "text/plain": [
       "<Figure size 640x480 with 1 Axes>"
      ]
     },
     "metadata": {},
     "output_type": "display_data"
    }
   ],
   "source": [
    "from spektral.data import BatchLoader\n",
    "from utils.model import sync\n",
    "\n",
    "\n",
    "loader_train = BatchLoader(train_data_total, batch_size=batch_size, shuffle=True)\n",
    "loader_valid = BatchLoader(valid_data_total, batch_size=batch_size, shuffle=True)\n",
    "\n",
    "best_epoch = 0\n",
    "best_val_score = 1e10\n",
    "\n",
    "# train model\n",
    "loss_all = []\n",
    "val_loss_all = []\n",
    "start = time.time()\n",
    "logging.info('----------------model total train start------------------')\n",
    "for epoch in range(epochs):\n",
    "\thistory = model_total.fit(loader_train.load(),\n",
    "\t\t\t\t\t\t\t\t\t\t\t\t\t\tvalidation_data=loader_valid.load(),\n",
    "\t\t\t\t\t\t\t\t\t\t\t\t\t\tsteps_per_epoch=loader_train.steps_per_epoch,\n",
    "\t\t\t\t\t\t\t\t\t\t\t\t\t\tvalidation_steps=loader_valid.steps_per_epoch,\n",
    "\t\t\t\t\t\t\t\t\t\t\t\t\t\tepochs=1,\n",
    "\t\t\t\t\t\t\t\t\t\t\t\t\t\tshuffle=False)\n",
    "\tloss_all.append(history.history['loss'][0])\n",
    "\tval_loss_all.append(history.history['val_loss'][0])\n",
    "\n",
    "\t# log\n",
    "\tlogging.info(f'total model:{model_name} epoch:{epoch} loss:{loss_all[-1]} val_loss:{val_loss_all[-1]}')\n",
    "\n",
    "\t# save model every model_save_freq epochs\n",
    "\tif (epoch + 1) % model_save_freq == 0:\n",
    "\t\tmodel_total_save_path = os.path.join(dir_parmas, f'{model_name}_total_lr{lr}_batchsize{batch_size}_epochs{epoch}.h5')\n",
    "\t\tmodel_total.save_weights(model_total_save_path)\n",
    "\n",
    "\t# save best model on validation set\n",
    "\tval_loss, val_score = model_total.evaluate(loader_valid.load(), steps=loader_valid.steps_per_epoch)\n",
    "\tif val_score < best_val_score:\n",
    "\t\tbest_epoch = epoch\n",
    "\t\tbest_val_score = val_score\n",
    "\t\tsync(model_total, model_best_total)\n",
    "end = time.time()\n",
    "logging.info(f'model total train done epoch: {epochs}, time: {end - start}s')\n",
    "logging.info('-----------------model total train end-------------------')\n",
    "\n",
    "# save best model\n",
    "model_total_save_path = os.path.join(dir_parmas, f'{model_name}_total_best_lr{lr}_batchsize{batch_size}_epochs{best_epoch}of{epochs}.h5')\n",
    "model_best_total.save_weights(model_total_save_path)\n",
    "model_total.summary()\n",
    "\n",
    "# plot \n",
    "plt.plot(loss_all, label='train loss')\n",
    "plt.plot(val_loss_all, label='valid loss')\n",
    "plt.legend()\n",
    "plt.xticks(range(epochs))\n",
    "plt.xlabel('epoch')\n",
    "plt.ylabel('loss')\n",
    "\n",
    "# save picture\n",
    "plt_save_path = os.path.join(os.getcwd(), f\"../results/{model_name}_total_lr{lr}_batchsize{batch_size}_epochs{epochs}.jpg\")\n",
    "plt.savefig(plt_save_path)"
   ]
  },
  {
   "cell_type": "markdown",
   "metadata": {},
   "source": [
    "#### 模型测试"
   ]
  },
  {
   "cell_type": "code",
   "execution_count": 11,
   "metadata": {},
   "outputs": [
    {
     "name": "stdout",
     "output_type": "stream",
     "text": [
      "23/23 [==============================] - 0s 3ms/step\n",
      "8/8 [==============================] - 0s 4ms/step\n",
      "8/8 [==============================] - 0s 4ms/step\n",
      "gcn train mse: 51.62374\n",
      "gcn train r2: -1165.2974827754333\n",
      "gcn valid mse: 54.802147\n",
      "gcn valid r2: -1049.812757442552\n",
      "gcn test mse: 49.108032\n",
      "gcn test r2: -1099.2709571424268\n",
      "\n",
      "\n",
      "gcn train analysis\n",
      "min error: 0.24300125\n",
      "max error: 0.5178613\n",
      "mean error: 0.39837036\n",
      "std error: 0.073282026\n",
      "good ratio: 0.0\n",
      "bad ratio: 1.0\n",
      "\n",
      "gcn valid analysis\n",
      "min error: 0.25089994\n",
      "max error: 0.5127687\n",
      "mean error: 0.4116933\n",
      "std error: 0.071932994\n",
      "good ratio: 0.0\n",
      "bad ratio: 1.0\n",
      "\n",
      "gcn test analysis\n",
      "min error: 0.2518054\n",
      "max error: 0.5172567\n",
      "mean error: 0.38762325\n",
      "std error: 0.07869943\n",
      "good ratio: 0.0\n",
      "bad ratio: 1.0\n",
      "\n"
     ]
    }
   ],
   "source": [
    "from utils.analysis import gnn_analysis\n",
    "\n",
    "\n",
    "yt_train = np.array([data.y for data in train_data_total]).reshape(-1, 1)\n",
    "yt_valid = np.array([data.y for data in valid_data_total]).reshape(-1, 1)\n",
    "yt_test = np.array([data.y for data in test_data_total]).reshape(-1, 1)\n",
    "dict_total = gnn_analysis(model_total, batch_size, \n",
    "\t\t\t\t\t\t  train_data_total, yt_train,\n",
    "\t\t\t\t\t\t  valid_data_total, yt_valid,\n",
    "\t\t\t\t\t\t  test_data_total, yt_test, name=model_name)\n",
    "results_total = pd.Series(dict_total).to_frame(name='total').T\n",
    "\n",
    "# save results\n",
    "dir_results = os.path.abspath(os.path.join(os.getcwd(), \"../results/\"))\n",
    "if not os.path.exists(dir_results):\n",
    "\t\tos.mkdir(dir_results)\n",
    "\n",
    "results_total.to_csv(os.path.join(dir_results, f\"{model_name}_total_lr{lr}_batchsize{batch_size}_epochs{epochs}.csv\"), index=False)"
   ]
  },
  {
   "cell_type": "markdown",
   "metadata": {},
   "source": [
    "### 耦合电容模型"
   ]
  },
  {
   "cell_type": "markdown",
   "metadata": {},
   "source": [
    "#### 模型训练"
   ]
  },
  {
   "cell_type": "code",
   "execution_count": 12,
   "metadata": {},
   "outputs": [
    {
     "name": "stderr",
     "output_type": "stream",
     "text": [
      "2025-04-04 13:54:43 335966104.py [line:15] INFO ----------------model couple train start------------------\n",
      "d:\\learn_more_from_life\\computer\\EDA\\work\\prj\\rc_predict\\code\\spektral\\data\\utils.py:221: UserWarning: you are shuffling a 'MyDataset' object which is not a subclass of 'Sequence'; `shuffle` is not guaranteed to behave correctly. E.g., non-numpy array/tensor objects with view semantics may contain duplicates after shuffling.\n",
      "  np.random.shuffle(a)\n"
     ]
    },
    {
     "name": "stdout",
     "output_type": "stream",
     "text": [
      "23/23 [==============================] - 3s 37ms/step - loss: 2253.2544 - measure_ratio_good: 0.0000e+00 - val_loss: 501.0859 - val_measure_ratio_good: 0.0000e+00\n"
     ]
    },
    {
     "name": "stderr",
     "output_type": "stream",
     "text": [
      "2025-04-04 13:54:47 335966104.py [line:27] INFO couple model:gcn epoch:0 loss:2253.25439453125 val_loss:501.0859375\n"
     ]
    },
    {
     "name": "stdout",
     "output_type": "stream",
     "text": [
      "8/8 [==============================] - 0s 5ms/step - loss: 497.6538 - measure_ratio_good: 0.0000e+00\n",
      "23/23 [==============================] - 0s 18ms/step - loss: 304.5086 - measure_ratio_good: 0.0000e+00 - val_loss: 156.6239 - val_measure_ratio_good: 0.0000e+00\n"
     ]
    },
    {
     "name": "stderr",
     "output_type": "stream",
     "text": [
      "2025-04-04 13:54:47 335966104.py [line:27] INFO couple model:gcn epoch:1 loss:304.50860595703125 val_loss:156.62388610839844\n"
     ]
    },
    {
     "name": "stdout",
     "output_type": "stream",
     "text": [
      "8/8 [==============================] - 0s 6ms/step - loss: 150.7643 - measure_ratio_good: 0.0000e+00\n",
      "23/23 [==============================] - 0s 18ms/step - loss: 104.0793 - measure_ratio_good: 0.0000e+00 - val_loss: 62.8945 - val_measure_ratio_good: 0.0000e+00\n"
     ]
    },
    {
     "name": "stderr",
     "output_type": "stream",
     "text": [
      "2025-04-04 13:54:48 335966104.py [line:27] INFO couple model:gcn epoch:2 loss:104.07930755615234 val_loss:62.89445877075195\n"
     ]
    },
    {
     "name": "stdout",
     "output_type": "stream",
     "text": [
      "8/8 [==============================] - 0s 5ms/step - loss: 62.9172 - measure_ratio_good: 0.0000e+00\n"
     ]
    },
    {
     "name": "stderr",
     "output_type": "stream",
     "text": [
      "2025-04-04 13:54:48 335966104.py [line:41] INFO model couple train done epoch: 3, time: 4.637834072113037s\n",
      "2025-04-04 13:54:48 335966104.py [line:42] INFO -----------------model couple train end-------------------\n"
     ]
    },
    {
     "name": "stdout",
     "output_type": "stream",
     "text": [
      "Model: \"gcn_1\"\n",
      "_________________________________________________________________\n",
      " Layer (type)                Output Shape              Param #   \n",
      "=================================================================\n",
      " gcn_conv_3 (GCNConv)        multiple                  96        \n",
      "                                                                 \n",
      " diff_pool_2 (DiffPool)      multiple                  4352      \n",
      "                                                                 \n",
      " gcn_conv_4 (GCNConv)        multiple                  272       \n",
      "                                                                 \n",
      " diff_pool_3 (DiffPool)      multiple                  1280      \n",
      "                                                                 \n",
      " gcn_conv_5 (GCNConv)        multiple                  272       \n",
      "                                                                 \n",
      " global_avg_pool_1 (GlobalAv  multiple                 0         \n",
      " gPool)                                                          \n",
      "                                                                 \n",
      " dense_2 (Dense)             multiple                  272       \n",
      "                                                                 \n",
      " dense_3 (Dense)             multiple                  17        \n",
      "                                                                 \n",
      "=================================================================\n",
      "Total params: 6,561\n",
      "Trainable params: 6,561\n",
      "Non-trainable params: 0\n",
      "_________________________________________________________________\n"
     ]
    },
    {
     "data": {
      "image/png": "[encoded data removed]",
      "text/plain": [
       "<Figure size 640x480 with 1 Axes>"
      ]
     },
     "metadata": {},
     "output_type": "display_data"
    }
   ],
   "source": [
    "from spektral.data import BatchLoader\n",
    "from utils.model import sync\n",
    "\n",
    "\n",
    "loader_train = BatchLoader(train_data_couple, batch_size=batch_size, shuffle=True)\n",
    "loader_valid = BatchLoader(valid_data_couple, batch_size=batch_size, shuffle=True)\n",
    "\n",
    "best_epoch = 0\n",
    "best_val_score = 1e10\n",
    "\n",
    "# train model\n",
    "loss_all = []\n",
    "val_loss_all = []\n",
    "start = time.time()\n",
    "logging.info('----------------model couple train start------------------')\n",
    "for epoch in range(epochs):\n",
    "\thistory = model_couple.fit(loader_train.load(),\n",
    "\t\t\t\t\t\t\t\t\t\t\t\t\t\tvalidation_data=loader_valid.load(),\n",
    "\t\t\t\t\t\t\t\t\t\t\t\t\t\tsteps_per_epoch=loader_train.steps_per_epoch,\n",
    "\t\t\t\t\t\t\t\t\t\t\t\t\t\tvalidation_steps=loader_valid.steps_per_epoch,\n",
    "\t\t\t\t\t\t\t\t\t\t\t\t\t\tepochs=1,\n",
    "\t\t\t\t\t\t\t\t\t\t\t\t\t\tshuffle=False)\n",
    "\tloss_all.append(history.history['loss'][0])\n",
    "\tval_loss_all.append(history.history['val_loss'][0])\n",
    "\n",
    "\t# log\n",
    "\tlogging.info(f'couple model:{model_name} epoch:{epoch} loss:{loss_all[-1]} val_loss:{val_loss_all[-1]}')\n",
    "\n",
    "\t# save model every model_save_freq epochs\n",
    "\tif (epoch + 1) % model_save_freq == 0:\n",
    "\t\tmodel_couple_save_path = os.path.join(dir_parmas, f'{model_name}_couple_lr{lr}_batchsize{batch_size}_epochs{epoch}.h5')\n",
    "\t\tmodel_couple.save_weights(model_couple_save_path)\n",
    "\n",
    "\t# save best model on validation set\n",
    "\tval_loss, val_score = model_couple.evaluate(loader_valid.load(), steps=loader_valid.steps_per_epoch)\n",
    "\tif val_score < best_val_score:\n",
    "\t\tbest_epoch = epoch\n",
    "\t\tbest_val_score = val_score\n",
    "\t\tsync(model_couple, model_best_couple)\n",
    "end = time.time()\n",
    "logging.info(f'model couple train done epoch: {epochs}, time: {end - start}s')\n",
    "logging.info('-----------------model couple train end-------------------')\n",
    "\n",
    "# save best model\n",
    "model_couple_save_path = os.path.join(dir_parmas, f'{model_name}_couple_best_lr{lr}_batchsize{batch_size}_epochs{best_epoch}of{epochs}.h5')\n",
    "model_best_couple.save_weights(model_couple_save_path)\n",
    "model_couple.summary()\n",
    "\n",
    "# plot \n",
    "plt.plot(loss_all, label='train loss')\n",
    "plt.plot(val_loss_all, label='valid loss')\n",
    "plt.legend()\n",
    "plt.xticks(range(epochs))\n",
    "plt.xlabel('epoch')\n",
    "plt.ylabel('loss')\n",
    "\n",
    "# save picture\n",
    "plt_save_path = os.path.join(os.getcwd(), f\"../results/{model_name}_couple_lr{lr}_batchsize{batch_size}_epochs{epochs}.jpg\")\n",
    "plt.savefig(plt_save_path)"
   ]
  },
  {
   "cell_type": "markdown",
   "metadata": {},
   "source": [
    "#### 模型测试"
   ]
  },
  {
   "cell_type": "code",
   "execution_count": 13,
   "metadata": {},
   "outputs": [
    {
     "name": "stdout",
     "output_type": "stream",
     "text": [
      "23/23 [==============================] - 0s 3ms/step\n",
      "8/8 [==============================] - 0s 4ms/step\n",
      "8/8 [==============================] - 0s 5ms/step\n",
      "gcn train mse: 24.942371\n",
      "gcn train r2: -1364.1801279526635\n",
      "gcn valid mse: 24.440332\n",
      "gcn valid r2: -1166.681407514343\n",
      "gcn test mse: 22.151869\n",
      "gcn test r2: -1110.2377893113546\n",
      "\n",
      "\n",
      "gcn train analysis\n",
      "min error: 5.433421\n",
      "max error: 25.139135\n",
      "mean error: 9.245713\n",
      "std error: 3.5597644\n",
      "good ratio: 0.0\n",
      "bad ratio: 1.0\n",
      "\n",
      "gcn valid analysis\n",
      "min error: 5.13377\n",
      "max error: 20.481071\n",
      "mean error: 9.331168\n",
      "std error: 3.3756874\n",
      "good ratio: 0.0\n",
      "bad ratio: 1.0\n",
      "\n",
      "gcn test analysis\n",
      "min error: 5.651741\n",
      "max error: 16.18092\n",
      "mean error: 8.655517\n",
      "std error: 2.3667102\n",
      "good ratio: 0.0\n",
      "bad ratio: 1.0\n",
      "\n"
     ]
    }
   ],
   "source": [
    "from utils.analysis import gnn_analysis\n",
    "\n",
    "\n",
    "yc_train = np.array([data.y for data in train_data_couple]).reshape(-1, 1)\n",
    "yc_valid = np.array([data.y for data in valid_data_couple]).reshape(-1, 1)\n",
    "yc_test = np.array([data.y for data in test_data_couple]).reshape(-1, 1)\n",
    "dict_couple = gnn_analysis(model_couple, batch_size, \n",
    "\t\t\t\t\t\t   train_data_couple, yc_train, \n",
    "\t\t\t\t\t\t   valid_data_couple, yc_valid,\n",
    "\t\t\t\t\t\t   test_data_couple, yc_test, name=model_name)\n",
    "results_couple = pd.Series(dict_couple).to_frame(name='couple').T\n",
    "\n",
    "# save results\n",
    "dir_results = os.path.abspath(os.path.join(os.getcwd(), \"../results/\"))\n",
    "if not os.path.exists(dir_results):\n",
    "\tos.mkdir(dir_results)\n",
    "\n",
    "results_couple.to_csv(os.path.join(dir_results, f\"{model_name}_couple_lr{lr}_batchsize{batch_size}_epochs{epochs}.csv\"), index=False)"
   ]
  }
 ],
 "metadata": {
  "kernelspec": {
   "display_name": "tensorflow_gpu",
   "language": "python",
   "name": "python3"
  },
  "language_info": {
   "codemirror_mode": {
    "name": "ipython",
    "version": 3
   },
   "file_extension": ".py",
   "mimetype": "text/x-python",
   "name": "python",
   "nbconvert_exporter": "python",
   "pygments_lexer": "ipython3",
   "version": "3.9.0"
  }
 },
 "nbformat": 4,
 "nbformat_minor": 2
}
